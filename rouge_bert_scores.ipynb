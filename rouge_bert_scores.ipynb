{
  "nbformat": 4,
  "nbformat_minor": 0,
  "metadata": {
    "colab": {
      "provenance": []
    },
    "kernelspec": {
      "name": "python3",
      "display_name": "Python 3"
    },
    "language_info": {
      "name": "python"
    },
    "widgets": {
      "application/vnd.jupyter.widget-state+json": {
        "943a0363bfcd4070893eb72ef9207f25": {
          "model_module": "@jupyter-widgets/controls",
          "model_name": "HBoxModel",
          "model_module_version": "1.5.0",
          "state": {
            "_dom_classes": [],
            "_model_module": "@jupyter-widgets/controls",
            "_model_module_version": "1.5.0",
            "_model_name": "HBoxModel",
            "_view_count": null,
            "_view_module": "@jupyter-widgets/controls",
            "_view_module_version": "1.5.0",
            "_view_name": "HBoxView",
            "box_style": "",
            "children": [
              "IPY_MODEL_619f0163d0334093a553b5abe4d41d12",
              "IPY_MODEL_a82d042eb33c4d6c95f6ed130c80dfc5",
              "IPY_MODEL_c6ef71f494e54f2fbaa46c6eb156bb23"
            ],
            "layout": "IPY_MODEL_2ea11f44881144cd9b28e4773884182c"
          }
        },
        "619f0163d0334093a553b5abe4d41d12": {
          "model_module": "@jupyter-widgets/controls",
          "model_name": "HTMLModel",
          "model_module_version": "1.5.0",
          "state": {
            "_dom_classes": [],
            "_model_module": "@jupyter-widgets/controls",
            "_model_module_version": "1.5.0",
            "_model_name": "HTMLModel",
            "_view_count": null,
            "_view_module": "@jupyter-widgets/controls",
            "_view_module_version": "1.5.0",
            "_view_name": "HTMLView",
            "description": "",
            "description_tooltip": null,
            "layout": "IPY_MODEL_42a284e2a7dc4c3bbef982070508d063",
            "placeholder": "​",
            "style": "IPY_MODEL_70db0c09fb3044c7a2d344d1ecbcfd59",
            "value": "model.safetensors: 100%"
          }
        },
        "a82d042eb33c4d6c95f6ed130c80dfc5": {
          "model_module": "@jupyter-widgets/controls",
          "model_name": "FloatProgressModel",
          "model_module_version": "1.5.0",
          "state": {
            "_dom_classes": [],
            "_model_module": "@jupyter-widgets/controls",
            "_model_module_version": "1.5.0",
            "_model_name": "FloatProgressModel",
            "_view_count": null,
            "_view_module": "@jupyter-widgets/controls",
            "_view_module_version": "1.5.0",
            "_view_name": "ProgressView",
            "bar_style": "success",
            "description": "",
            "description_tooltip": null,
            "layout": "IPY_MODEL_9c976dbf175045c1a20e3d645024afa0",
            "max": 444989788,
            "min": 0,
            "orientation": "horizontal",
            "style": "IPY_MODEL_d22ef7621104430898b9e6e4dedaa805",
            "value": 444989788
          }
        },
        "c6ef71f494e54f2fbaa46c6eb156bb23": {
          "model_module": "@jupyter-widgets/controls",
          "model_name": "HTMLModel",
          "model_module_version": "1.5.0",
          "state": {
            "_dom_classes": [],
            "_model_module": "@jupyter-widgets/controls",
            "_model_module_version": "1.5.0",
            "_model_name": "HTMLModel",
            "_view_count": null,
            "_view_module": "@jupyter-widgets/controls",
            "_view_module_version": "1.5.0",
            "_view_name": "HTMLView",
            "description": "",
            "description_tooltip": null,
            "layout": "IPY_MODEL_050809dde6bc4256b890176ebea4c771",
            "placeholder": "​",
            "style": "IPY_MODEL_ec680ca66da04e90b596b98540c78226",
            "value": " 445M/445M [00:10&lt;00:00, 53.5MB/s]"
          }
        },
        "2ea11f44881144cd9b28e4773884182c": {
          "model_module": "@jupyter-widgets/base",
          "model_name": "LayoutModel",
          "model_module_version": "1.2.0",
          "state": {
            "_model_module": "@jupyter-widgets/base",
            "_model_module_version": "1.2.0",
            "_model_name": "LayoutModel",
            "_view_count": null,
            "_view_module": "@jupyter-widgets/base",
            "_view_module_version": "1.2.0",
            "_view_name": "LayoutView",
            "align_content": null,
            "align_items": null,
            "align_self": null,
            "border": null,
            "bottom": null,
            "display": null,
            "flex": null,
            "flex_flow": null,
            "grid_area": null,
            "grid_auto_columns": null,
            "grid_auto_flow": null,
            "grid_auto_rows": null,
            "grid_column": null,
            "grid_gap": null,
            "grid_row": null,
            "grid_template_areas": null,
            "grid_template_columns": null,
            "grid_template_rows": null,
            "height": null,
            "justify_content": null,
            "justify_items": null,
            "left": null,
            "margin": null,
            "max_height": null,
            "max_width": null,
            "min_height": null,
            "min_width": null,
            "object_fit": null,
            "object_position": null,
            "order": null,
            "overflow": null,
            "overflow_x": null,
            "overflow_y": null,
            "padding": null,
            "right": null,
            "top": null,
            "visibility": null,
            "width": null
          }
        },
        "42a284e2a7dc4c3bbef982070508d063": {
          "model_module": "@jupyter-widgets/base",
          "model_name": "LayoutModel",
          "model_module_version": "1.2.0",
          "state": {
            "_model_module": "@jupyter-widgets/base",
            "_model_module_version": "1.2.0",
            "_model_name": "LayoutModel",
            "_view_count": null,
            "_view_module": "@jupyter-widgets/base",
            "_view_module_version": "1.2.0",
            "_view_name": "LayoutView",
            "align_content": null,
            "align_items": null,
            "align_self": null,
            "border": null,
            "bottom": null,
            "display": null,
            "flex": null,
            "flex_flow": null,
            "grid_area": null,
            "grid_auto_columns": null,
            "grid_auto_flow": null,
            "grid_auto_rows": null,
            "grid_column": null,
            "grid_gap": null,
            "grid_row": null,
            "grid_template_areas": null,
            "grid_template_columns": null,
            "grid_template_rows": null,
            "height": null,
            "justify_content": null,
            "justify_items": null,
            "left": null,
            "margin": null,
            "max_height": null,
            "max_width": null,
            "min_height": null,
            "min_width": null,
            "object_fit": null,
            "object_position": null,
            "order": null,
            "overflow": null,
            "overflow_x": null,
            "overflow_y": null,
            "padding": null,
            "right": null,
            "top": null,
            "visibility": null,
            "width": null
          }
        },
        "70db0c09fb3044c7a2d344d1ecbcfd59": {
          "model_module": "@jupyter-widgets/controls",
          "model_name": "DescriptionStyleModel",
          "model_module_version": "1.5.0",
          "state": {
            "_model_module": "@jupyter-widgets/controls",
            "_model_module_version": "1.5.0",
            "_model_name": "DescriptionStyleModel",
            "_view_count": null,
            "_view_module": "@jupyter-widgets/base",
            "_view_module_version": "1.2.0",
            "_view_name": "StyleView",
            "description_width": ""
          }
        },
        "9c976dbf175045c1a20e3d645024afa0": {
          "model_module": "@jupyter-widgets/base",
          "model_name": "LayoutModel",
          "model_module_version": "1.2.0",
          "state": {
            "_model_module": "@jupyter-widgets/base",
            "_model_module_version": "1.2.0",
            "_model_name": "LayoutModel",
            "_view_count": null,
            "_view_module": "@jupyter-widgets/base",
            "_view_module_version": "1.2.0",
            "_view_name": "LayoutView",
            "align_content": null,
            "align_items": null,
            "align_self": null,
            "border": null,
            "bottom": null,
            "display": null,
            "flex": null,
            "flex_flow": null,
            "grid_area": null,
            "grid_auto_columns": null,
            "grid_auto_flow": null,
            "grid_auto_rows": null,
            "grid_column": null,
            "grid_gap": null,
            "grid_row": null,
            "grid_template_areas": null,
            "grid_template_columns": null,
            "grid_template_rows": null,
            "height": null,
            "justify_content": null,
            "justify_items": null,
            "left": null,
            "margin": null,
            "max_height": null,
            "max_width": null,
            "min_height": null,
            "min_width": null,
            "object_fit": null,
            "object_position": null,
            "order": null,
            "overflow": null,
            "overflow_x": null,
            "overflow_y": null,
            "padding": null,
            "right": null,
            "top": null,
            "visibility": null,
            "width": null
          }
        },
        "d22ef7621104430898b9e6e4dedaa805": {
          "model_module": "@jupyter-widgets/controls",
          "model_name": "ProgressStyleModel",
          "model_module_version": "1.5.0",
          "state": {
            "_model_module": "@jupyter-widgets/controls",
            "_model_module_version": "1.5.0",
            "_model_name": "ProgressStyleModel",
            "_view_count": null,
            "_view_module": "@jupyter-widgets/base",
            "_view_module_version": "1.2.0",
            "_view_name": "StyleView",
            "bar_color": null,
            "description_width": ""
          }
        },
        "050809dde6bc4256b890176ebea4c771": {
          "model_module": "@jupyter-widgets/base",
          "model_name": "LayoutModel",
          "model_module_version": "1.2.0",
          "state": {
            "_model_module": "@jupyter-widgets/base",
            "_model_module_version": "1.2.0",
            "_model_name": "LayoutModel",
            "_view_count": null,
            "_view_module": "@jupyter-widgets/base",
            "_view_module_version": "1.2.0",
            "_view_name": "LayoutView",
            "align_content": null,
            "align_items": null,
            "align_self": null,
            "border": null,
            "bottom": null,
            "display": null,
            "flex": null,
            "flex_flow": null,
            "grid_area": null,
            "grid_auto_columns": null,
            "grid_auto_flow": null,
            "grid_auto_rows": null,
            "grid_column": null,
            "grid_gap": null,
            "grid_row": null,
            "grid_template_areas": null,
            "grid_template_columns": null,
            "grid_template_rows": null,
            "height": null,
            "justify_content": null,
            "justify_items": null,
            "left": null,
            "margin": null,
            "max_height": null,
            "max_width": null,
            "min_height": null,
            "min_width": null,
            "object_fit": null,
            "object_position": null,
            "order": null,
            "overflow": null,
            "overflow_x": null,
            "overflow_y": null,
            "padding": null,
            "right": null,
            "top": null,
            "visibility": null,
            "width": null
          }
        },
        "ec680ca66da04e90b596b98540c78226": {
          "model_module": "@jupyter-widgets/controls",
          "model_name": "DescriptionStyleModel",
          "model_module_version": "1.5.0",
          "state": {
            "_model_module": "@jupyter-widgets/controls",
            "_model_module_version": "1.5.0",
            "_model_name": "DescriptionStyleModel",
            "_view_count": null,
            "_view_module": "@jupyter-widgets/base",
            "_view_module_version": "1.2.0",
            "_view_name": "StyleView",
            "description_width": ""
          }
        },
        "3f5cbc4f51704da1b17344a871fb449c": {
          "model_module": "@jupyter-widgets/controls",
          "model_name": "HBoxModel",
          "model_module_version": "1.5.0",
          "state": {
            "_dom_classes": [],
            "_model_module": "@jupyter-widgets/controls",
            "_model_module_version": "1.5.0",
            "_model_name": "HBoxModel",
            "_view_count": null,
            "_view_module": "@jupyter-widgets/controls",
            "_view_module_version": "1.5.0",
            "_view_name": "HBoxView",
            "box_style": "",
            "children": [
              "IPY_MODEL_177a1d3cc0e74986970226346b067678",
              "IPY_MODEL_0b1f1cc67f2141d086c053337e6c6368",
              "IPY_MODEL_947bf2f7a4754f3b93088e2ade3fc733"
            ],
            "layout": "IPY_MODEL_4b6a645b2d2248b19fc497be898a7126"
          }
        },
        "177a1d3cc0e74986970226346b067678": {
          "model_module": "@jupyter-widgets/controls",
          "model_name": "HTMLModel",
          "model_module_version": "1.5.0",
          "state": {
            "_dom_classes": [],
            "_model_module": "@jupyter-widgets/controls",
            "_model_module_version": "1.5.0",
            "_model_name": "HTMLModel",
            "_view_count": null,
            "_view_module": "@jupyter-widgets/controls",
            "_view_module_version": "1.5.0",
            "_view_name": "HTMLView",
            "description": "",
            "description_tooltip": null,
            "layout": "IPY_MODEL_bdc1d70be7f44e7992c2db3cf28da800",
            "placeholder": "​",
            "style": "IPY_MODEL_f2500f537c674dd7b348e3faed980070",
            "value": "Saving the dataset (1/1 shards): 100%"
          }
        },
        "0b1f1cc67f2141d086c053337e6c6368": {
          "model_module": "@jupyter-widgets/controls",
          "model_name": "FloatProgressModel",
          "model_module_version": "1.5.0",
          "state": {
            "_dom_classes": [],
            "_model_module": "@jupyter-widgets/controls",
            "_model_module_version": "1.5.0",
            "_model_name": "FloatProgressModel",
            "_view_count": null,
            "_view_module": "@jupyter-widgets/controls",
            "_view_module_version": "1.5.0",
            "_view_name": "ProgressView",
            "bar_style": "success",
            "description": "",
            "description_tooltip": null,
            "layout": "IPY_MODEL_69662a042ae74e6ca6ee18784429f4a3",
            "max": 9497,
            "min": 0,
            "orientation": "horizontal",
            "style": "IPY_MODEL_42fe5c0c67c9482bbf873c90d4a0488d",
            "value": 9497
          }
        },
        "947bf2f7a4754f3b93088e2ade3fc733": {
          "model_module": "@jupyter-widgets/controls",
          "model_name": "HTMLModel",
          "model_module_version": "1.5.0",
          "state": {
            "_dom_classes": [],
            "_model_module": "@jupyter-widgets/controls",
            "_model_module_version": "1.5.0",
            "_model_name": "HTMLModel",
            "_view_count": null,
            "_view_module": "@jupyter-widgets/controls",
            "_view_module_version": "1.5.0",
            "_view_name": "HTMLView",
            "description": "",
            "description_tooltip": null,
            "layout": "IPY_MODEL_f4c2741a86374ff9af51000246eb1f64",
            "placeholder": "​",
            "style": "IPY_MODEL_5792b0472a3a49de9a3cf8a9b723917d",
            "value": " 9497/9497 [00:00&lt;00:00, 35859.82 examples/s]"
          }
        },
        "4b6a645b2d2248b19fc497be898a7126": {
          "model_module": "@jupyter-widgets/base",
          "model_name": "LayoutModel",
          "model_module_version": "1.2.0",
          "state": {
            "_model_module": "@jupyter-widgets/base",
            "_model_module_version": "1.2.0",
            "_model_name": "LayoutModel",
            "_view_count": null,
            "_view_module": "@jupyter-widgets/base",
            "_view_module_version": "1.2.0",
            "_view_name": "LayoutView",
            "align_content": null,
            "align_items": null,
            "align_self": null,
            "border": null,
            "bottom": null,
            "display": null,
            "flex": null,
            "flex_flow": null,
            "grid_area": null,
            "grid_auto_columns": null,
            "grid_auto_flow": null,
            "grid_auto_rows": null,
            "grid_column": null,
            "grid_gap": null,
            "grid_row": null,
            "grid_template_areas": null,
            "grid_template_columns": null,
            "grid_template_rows": null,
            "height": null,
            "justify_content": null,
            "justify_items": null,
            "left": null,
            "margin": null,
            "max_height": null,
            "max_width": null,
            "min_height": null,
            "min_width": null,
            "object_fit": null,
            "object_position": null,
            "order": null,
            "overflow": null,
            "overflow_x": null,
            "overflow_y": null,
            "padding": null,
            "right": null,
            "top": null,
            "visibility": null,
            "width": null
          }
        },
        "bdc1d70be7f44e7992c2db3cf28da800": {
          "model_module": "@jupyter-widgets/base",
          "model_name": "LayoutModel",
          "model_module_version": "1.2.0",
          "state": {
            "_model_module": "@jupyter-widgets/base",
            "_model_module_version": "1.2.0",
            "_model_name": "LayoutModel",
            "_view_count": null,
            "_view_module": "@jupyter-widgets/base",
            "_view_module_version": "1.2.0",
            "_view_name": "LayoutView",
            "align_content": null,
            "align_items": null,
            "align_self": null,
            "border": null,
            "bottom": null,
            "display": null,
            "flex": null,
            "flex_flow": null,
            "grid_area": null,
            "grid_auto_columns": null,
            "grid_auto_flow": null,
            "grid_auto_rows": null,
            "grid_column": null,
            "grid_gap": null,
            "grid_row": null,
            "grid_template_areas": null,
            "grid_template_columns": null,
            "grid_template_rows": null,
            "height": null,
            "justify_content": null,
            "justify_items": null,
            "left": null,
            "margin": null,
            "max_height": null,
            "max_width": null,
            "min_height": null,
            "min_width": null,
            "object_fit": null,
            "object_position": null,
            "order": null,
            "overflow": null,
            "overflow_x": null,
            "overflow_y": null,
            "padding": null,
            "right": null,
            "top": null,
            "visibility": null,
            "width": null
          }
        },
        "f2500f537c674dd7b348e3faed980070": {
          "model_module": "@jupyter-widgets/controls",
          "model_name": "DescriptionStyleModel",
          "model_module_version": "1.5.0",
          "state": {
            "_model_module": "@jupyter-widgets/controls",
            "_model_module_version": "1.5.0",
            "_model_name": "DescriptionStyleModel",
            "_view_count": null,
            "_view_module": "@jupyter-widgets/base",
            "_view_module_version": "1.2.0",
            "_view_name": "StyleView",
            "description_width": ""
          }
        },
        "69662a042ae74e6ca6ee18784429f4a3": {
          "model_module": "@jupyter-widgets/base",
          "model_name": "LayoutModel",
          "model_module_version": "1.2.0",
          "state": {
            "_model_module": "@jupyter-widgets/base",
            "_model_module_version": "1.2.0",
            "_model_name": "LayoutModel",
            "_view_count": null,
            "_view_module": "@jupyter-widgets/base",
            "_view_module_version": "1.2.0",
            "_view_name": "LayoutView",
            "align_content": null,
            "align_items": null,
            "align_self": null,
            "border": null,
            "bottom": null,
            "display": null,
            "flex": null,
            "flex_flow": null,
            "grid_area": null,
            "grid_auto_columns": null,
            "grid_auto_flow": null,
            "grid_auto_rows": null,
            "grid_column": null,
            "grid_gap": null,
            "grid_row": null,
            "grid_template_areas": null,
            "grid_template_columns": null,
            "grid_template_rows": null,
            "height": null,
            "justify_content": null,
            "justify_items": null,
            "left": null,
            "margin": null,
            "max_height": null,
            "max_width": null,
            "min_height": null,
            "min_width": null,
            "object_fit": null,
            "object_position": null,
            "order": null,
            "overflow": null,
            "overflow_x": null,
            "overflow_y": null,
            "padding": null,
            "right": null,
            "top": null,
            "visibility": null,
            "width": null
          }
        },
        "42fe5c0c67c9482bbf873c90d4a0488d": {
          "model_module": "@jupyter-widgets/controls",
          "model_name": "ProgressStyleModel",
          "model_module_version": "1.5.0",
          "state": {
            "_model_module": "@jupyter-widgets/controls",
            "_model_module_version": "1.5.0",
            "_model_name": "ProgressStyleModel",
            "_view_count": null,
            "_view_module": "@jupyter-widgets/base",
            "_view_module_version": "1.2.0",
            "_view_name": "StyleView",
            "bar_color": null,
            "description_width": ""
          }
        },
        "f4c2741a86374ff9af51000246eb1f64": {
          "model_module": "@jupyter-widgets/base",
          "model_name": "LayoutModel",
          "model_module_version": "1.2.0",
          "state": {
            "_model_module": "@jupyter-widgets/base",
            "_model_module_version": "1.2.0",
            "_model_name": "LayoutModel",
            "_view_count": null,
            "_view_module": "@jupyter-widgets/base",
            "_view_module_version": "1.2.0",
            "_view_name": "LayoutView",
            "align_content": null,
            "align_items": null,
            "align_self": null,
            "border": null,
            "bottom": null,
            "display": null,
            "flex": null,
            "flex_flow": null,
            "grid_area": null,
            "grid_auto_columns": null,
            "grid_auto_flow": null,
            "grid_auto_rows": null,
            "grid_column": null,
            "grid_gap": null,
            "grid_row": null,
            "grid_template_areas": null,
            "grid_template_columns": null,
            "grid_template_rows": null,
            "height": null,
            "justify_content": null,
            "justify_items": null,
            "left": null,
            "margin": null,
            "max_height": null,
            "max_width": null,
            "min_height": null,
            "min_width": null,
            "object_fit": null,
            "object_position": null,
            "order": null,
            "overflow": null,
            "overflow_x": null,
            "overflow_y": null,
            "padding": null,
            "right": null,
            "top": null,
            "visibility": null,
            "width": null
          }
        },
        "5792b0472a3a49de9a3cf8a9b723917d": {
          "model_module": "@jupyter-widgets/controls",
          "model_name": "DescriptionStyleModel",
          "model_module_version": "1.5.0",
          "state": {
            "_model_module": "@jupyter-widgets/controls",
            "_model_module_version": "1.5.0",
            "_model_name": "DescriptionStyleModel",
            "_view_count": null,
            "_view_module": "@jupyter-widgets/base",
            "_view_module_version": "1.2.0",
            "_view_name": "StyleView",
            "description_width": ""
          }
        },
        "628fbdff8716447380558f0f272ce11b": {
          "model_module": "@jupyter-widgets/controls",
          "model_name": "HBoxModel",
          "model_module_version": "1.5.0",
          "state": {
            "_dom_classes": [],
            "_model_module": "@jupyter-widgets/controls",
            "_model_module_version": "1.5.0",
            "_model_name": "HBoxModel",
            "_view_count": null,
            "_view_module": "@jupyter-widgets/controls",
            "_view_module_version": "1.5.0",
            "_view_name": "HBoxView",
            "box_style": "",
            "children": [
              "IPY_MODEL_e4f88b3707d9422a9a0174b76fe1d734",
              "IPY_MODEL_46881c1239bb4cdd8e8388b677df64b1",
              "IPY_MODEL_b8a3a465d3b946ac84e328838a5022e5"
            ],
            "layout": "IPY_MODEL_83119f3df0004c1abd0d9336469c622d"
          }
        },
        "e4f88b3707d9422a9a0174b76fe1d734": {
          "model_module": "@jupyter-widgets/controls",
          "model_name": "HTMLModel",
          "model_module_version": "1.5.0",
          "state": {
            "_dom_classes": [],
            "_model_module": "@jupyter-widgets/controls",
            "_model_module_version": "1.5.0",
            "_model_name": "HTMLModel",
            "_view_count": null,
            "_view_module": "@jupyter-widgets/controls",
            "_view_module_version": "1.5.0",
            "_view_name": "HTMLView",
            "description": "",
            "description_tooltip": null,
            "layout": "IPY_MODEL_bd6d1aede17447efb7f65ec16f33ad84",
            "placeholder": "​",
            "style": "IPY_MODEL_2183fce6da7b466f9c758740607a0137",
            "value": "tokenizer_config.json: 100%"
          }
        },
        "46881c1239bb4cdd8e8388b677df64b1": {
          "model_module": "@jupyter-widgets/controls",
          "model_name": "FloatProgressModel",
          "model_module_version": "1.5.0",
          "state": {
            "_dom_classes": [],
            "_model_module": "@jupyter-widgets/controls",
            "_model_module_version": "1.5.0",
            "_model_name": "FloatProgressModel",
            "_view_count": null,
            "_view_module": "@jupyter-widgets/controls",
            "_view_module_version": "1.5.0",
            "_view_name": "ProgressView",
            "bar_style": "success",
            "description": "",
            "description_tooltip": null,
            "layout": "IPY_MODEL_5e9b3b0b802945f3b770c7056c80023c",
            "max": 62,
            "min": 0,
            "orientation": "horizontal",
            "style": "IPY_MODEL_6c8e1d549cf44227962ce32b76bcefeb",
            "value": 62
          }
        },
        "b8a3a465d3b946ac84e328838a5022e5": {
          "model_module": "@jupyter-widgets/controls",
          "model_name": "HTMLModel",
          "model_module_version": "1.5.0",
          "state": {
            "_dom_classes": [],
            "_model_module": "@jupyter-widgets/controls",
            "_model_module_version": "1.5.0",
            "_model_name": "HTMLModel",
            "_view_count": null,
            "_view_module": "@jupyter-widgets/controls",
            "_view_module_version": "1.5.0",
            "_view_name": "HTMLView",
            "description": "",
            "description_tooltip": null,
            "layout": "IPY_MODEL_515dc92bbe7448f39a6413092d0dde9f",
            "placeholder": "​",
            "style": "IPY_MODEL_3378e2a0120940458026da698061185a",
            "value": " 62.0/62.0 [00:00&lt;00:00, 2.13kB/s]"
          }
        },
        "83119f3df0004c1abd0d9336469c622d": {
          "model_module": "@jupyter-widgets/base",
          "model_name": "LayoutModel",
          "model_module_version": "1.2.0",
          "state": {
            "_model_module": "@jupyter-widgets/base",
            "_model_module_version": "1.2.0",
            "_model_name": "LayoutModel",
            "_view_count": null,
            "_view_module": "@jupyter-widgets/base",
            "_view_module_version": "1.2.0",
            "_view_name": "LayoutView",
            "align_content": null,
            "align_items": null,
            "align_self": null,
            "border": null,
            "bottom": null,
            "display": null,
            "flex": null,
            "flex_flow": null,
            "grid_area": null,
            "grid_auto_columns": null,
            "grid_auto_flow": null,
            "grid_auto_rows": null,
            "grid_column": null,
            "grid_gap": null,
            "grid_row": null,
            "grid_template_areas": null,
            "grid_template_columns": null,
            "grid_template_rows": null,
            "height": null,
            "justify_content": null,
            "justify_items": null,
            "left": null,
            "margin": null,
            "max_height": null,
            "max_width": null,
            "min_height": null,
            "min_width": null,
            "object_fit": null,
            "object_position": null,
            "order": null,
            "overflow": null,
            "overflow_x": null,
            "overflow_y": null,
            "padding": null,
            "right": null,
            "top": null,
            "visibility": null,
            "width": null
          }
        },
        "bd6d1aede17447efb7f65ec16f33ad84": {
          "model_module": "@jupyter-widgets/base",
          "model_name": "LayoutModel",
          "model_module_version": "1.2.0",
          "state": {
            "_model_module": "@jupyter-widgets/base",
            "_model_module_version": "1.2.0",
            "_model_name": "LayoutModel",
            "_view_count": null,
            "_view_module": "@jupyter-widgets/base",
            "_view_module_version": "1.2.0",
            "_view_name": "LayoutView",
            "align_content": null,
            "align_items": null,
            "align_self": null,
            "border": null,
            "bottom": null,
            "display": null,
            "flex": null,
            "flex_flow": null,
            "grid_area": null,
            "grid_auto_columns": null,
            "grid_auto_flow": null,
            "grid_auto_rows": null,
            "grid_column": null,
            "grid_gap": null,
            "grid_row": null,
            "grid_template_areas": null,
            "grid_template_columns": null,
            "grid_template_rows": null,
            "height": null,
            "justify_content": null,
            "justify_items": null,
            "left": null,
            "margin": null,
            "max_height": null,
            "max_width": null,
            "min_height": null,
            "min_width": null,
            "object_fit": null,
            "object_position": null,
            "order": null,
            "overflow": null,
            "overflow_x": null,
            "overflow_y": null,
            "padding": null,
            "right": null,
            "top": null,
            "visibility": null,
            "width": null
          }
        },
        "2183fce6da7b466f9c758740607a0137": {
          "model_module": "@jupyter-widgets/controls",
          "model_name": "DescriptionStyleModel",
          "model_module_version": "1.5.0",
          "state": {
            "_model_module": "@jupyter-widgets/controls",
            "_model_module_version": "1.5.0",
            "_model_name": "DescriptionStyleModel",
            "_view_count": null,
            "_view_module": "@jupyter-widgets/base",
            "_view_module_version": "1.2.0",
            "_view_name": "StyleView",
            "description_width": ""
          }
        },
        "5e9b3b0b802945f3b770c7056c80023c": {
          "model_module": "@jupyter-widgets/base",
          "model_name": "LayoutModel",
          "model_module_version": "1.2.0",
          "state": {
            "_model_module": "@jupyter-widgets/base",
            "_model_module_version": "1.2.0",
            "_model_name": "LayoutModel",
            "_view_count": null,
            "_view_module": "@jupyter-widgets/base",
            "_view_module_version": "1.2.0",
            "_view_name": "LayoutView",
            "align_content": null,
            "align_items": null,
            "align_self": null,
            "border": null,
            "bottom": null,
            "display": null,
            "flex": null,
            "flex_flow": null,
            "grid_area": null,
            "grid_auto_columns": null,
            "grid_auto_flow": null,
            "grid_auto_rows": null,
            "grid_column": null,
            "grid_gap": null,
            "grid_row": null,
            "grid_template_areas": null,
            "grid_template_columns": null,
            "grid_template_rows": null,
            "height": null,
            "justify_content": null,
            "justify_items": null,
            "left": null,
            "margin": null,
            "max_height": null,
            "max_width": null,
            "min_height": null,
            "min_width": null,
            "object_fit": null,
            "object_position": null,
            "order": null,
            "overflow": null,
            "overflow_x": null,
            "overflow_y": null,
            "padding": null,
            "right": null,
            "top": null,
            "visibility": null,
            "width": null
          }
        },
        "6c8e1d549cf44227962ce32b76bcefeb": {
          "model_module": "@jupyter-widgets/controls",
          "model_name": "ProgressStyleModel",
          "model_module_version": "1.5.0",
          "state": {
            "_model_module": "@jupyter-widgets/controls",
            "_model_module_version": "1.5.0",
            "_model_name": "ProgressStyleModel",
            "_view_count": null,
            "_view_module": "@jupyter-widgets/base",
            "_view_module_version": "1.2.0",
            "_view_name": "StyleView",
            "bar_color": null,
            "description_width": ""
          }
        },
        "515dc92bbe7448f39a6413092d0dde9f": {
          "model_module": "@jupyter-widgets/base",
          "model_name": "LayoutModel",
          "model_module_version": "1.2.0",
          "state": {
            "_model_module": "@jupyter-widgets/base",
            "_model_module_version": "1.2.0",
            "_model_name": "LayoutModel",
            "_view_count": null,
            "_view_module": "@jupyter-widgets/base",
            "_view_module_version": "1.2.0",
            "_view_name": "LayoutView",
            "align_content": null,
            "align_items": null,
            "align_self": null,
            "border": null,
            "bottom": null,
            "display": null,
            "flex": null,
            "flex_flow": null,
            "grid_area": null,
            "grid_auto_columns": null,
            "grid_auto_flow": null,
            "grid_auto_rows": null,
            "grid_column": null,
            "grid_gap": null,
            "grid_row": null,
            "grid_template_areas": null,
            "grid_template_columns": null,
            "grid_template_rows": null,
            "height": null,
            "justify_content": null,
            "justify_items": null,
            "left": null,
            "margin": null,
            "max_height": null,
            "max_width": null,
            "min_height": null,
            "min_width": null,
            "object_fit": null,
            "object_position": null,
            "order": null,
            "overflow": null,
            "overflow_x": null,
            "overflow_y": null,
            "padding": null,
            "right": null,
            "top": null,
            "visibility": null,
            "width": null
          }
        },
        "3378e2a0120940458026da698061185a": {
          "model_module": "@jupyter-widgets/controls",
          "model_name": "DescriptionStyleModel",
          "model_module_version": "1.5.0",
          "state": {
            "_model_module": "@jupyter-widgets/controls",
            "_model_module_version": "1.5.0",
            "_model_name": "DescriptionStyleModel",
            "_view_count": null,
            "_view_module": "@jupyter-widgets/base",
            "_view_module_version": "1.2.0",
            "_view_name": "StyleView",
            "description_width": ""
          }
        },
        "fc290a7d0e24428ba571ed6cbc31020b": {
          "model_module": "@jupyter-widgets/controls",
          "model_name": "HBoxModel",
          "model_module_version": "1.5.0",
          "state": {
            "_dom_classes": [],
            "_model_module": "@jupyter-widgets/controls",
            "_model_module_version": "1.5.0",
            "_model_name": "HBoxModel",
            "_view_count": null,
            "_view_module": "@jupyter-widgets/controls",
            "_view_module_version": "1.5.0",
            "_view_name": "HBoxView",
            "box_style": "",
            "children": [
              "IPY_MODEL_5b9f09986cc249bfbc24085c2162486a",
              "IPY_MODEL_66d9182cb8594dc68f0f18f0d6625a6c",
              "IPY_MODEL_bb238e7b299141a696c722c38174e57b"
            ],
            "layout": "IPY_MODEL_be888a9fe7c24074840de9774e06db06"
          }
        },
        "5b9f09986cc249bfbc24085c2162486a": {
          "model_module": "@jupyter-widgets/controls",
          "model_name": "HTMLModel",
          "model_module_version": "1.5.0",
          "state": {
            "_dom_classes": [],
            "_model_module": "@jupyter-widgets/controls",
            "_model_module_version": "1.5.0",
            "_model_name": "HTMLModel",
            "_view_count": null,
            "_view_module": "@jupyter-widgets/controls",
            "_view_module_version": "1.5.0",
            "_view_name": "HTMLView",
            "description": "",
            "description_tooltip": null,
            "layout": "IPY_MODEL_8b2dc26e925041acb071808411111b03",
            "placeholder": "​",
            "style": "IPY_MODEL_86237ab1a9cf47ee9bf1d96a8c648534",
            "value": "config.json: 100%"
          }
        },
        "66d9182cb8594dc68f0f18f0d6625a6c": {
          "model_module": "@jupyter-widgets/controls",
          "model_name": "FloatProgressModel",
          "model_module_version": "1.5.0",
          "state": {
            "_dom_classes": [],
            "_model_module": "@jupyter-widgets/controls",
            "_model_module_version": "1.5.0",
            "_model_name": "FloatProgressModel",
            "_view_count": null,
            "_view_module": "@jupyter-widgets/controls",
            "_view_module_version": "1.5.0",
            "_view_name": "ProgressView",
            "bar_style": "success",
            "description": "",
            "description_tooltip": null,
            "layout": "IPY_MODEL_7e2290280c304dcd8728a0733a5ac2b8",
            "max": 491,
            "min": 0,
            "orientation": "horizontal",
            "style": "IPY_MODEL_3deb8f1d02b24f098eec5ee1839550f3",
            "value": 491
          }
        },
        "bb238e7b299141a696c722c38174e57b": {
          "model_module": "@jupyter-widgets/controls",
          "model_name": "HTMLModel",
          "model_module_version": "1.5.0",
          "state": {
            "_dom_classes": [],
            "_model_module": "@jupyter-widgets/controls",
            "_model_module_version": "1.5.0",
            "_model_name": "HTMLModel",
            "_view_count": null,
            "_view_module": "@jupyter-widgets/controls",
            "_view_module_version": "1.5.0",
            "_view_name": "HTMLView",
            "description": "",
            "description_tooltip": null,
            "layout": "IPY_MODEL_ea4d38a4818d4cb69090ddd1b4c252aa",
            "placeholder": "​",
            "style": "IPY_MODEL_da95b19196244cdca53196d133304f75",
            "value": " 491/491 [00:00&lt;00:00, 21.0kB/s]"
          }
        },
        "be888a9fe7c24074840de9774e06db06": {
          "model_module": "@jupyter-widgets/base",
          "model_name": "LayoutModel",
          "model_module_version": "1.2.0",
          "state": {
            "_model_module": "@jupyter-widgets/base",
            "_model_module_version": "1.2.0",
            "_model_name": "LayoutModel",
            "_view_count": null,
            "_view_module": "@jupyter-widgets/base",
            "_view_module_version": "1.2.0",
            "_view_name": "LayoutView",
            "align_content": null,
            "align_items": null,
            "align_self": null,
            "border": null,
            "bottom": null,
            "display": null,
            "flex": null,
            "flex_flow": null,
            "grid_area": null,
            "grid_auto_columns": null,
            "grid_auto_flow": null,
            "grid_auto_rows": null,
            "grid_column": null,
            "grid_gap": null,
            "grid_row": null,
            "grid_template_areas": null,
            "grid_template_columns": null,
            "grid_template_rows": null,
            "height": null,
            "justify_content": null,
            "justify_items": null,
            "left": null,
            "margin": null,
            "max_height": null,
            "max_width": null,
            "min_height": null,
            "min_width": null,
            "object_fit": null,
            "object_position": null,
            "order": null,
            "overflow": null,
            "overflow_x": null,
            "overflow_y": null,
            "padding": null,
            "right": null,
            "top": null,
            "visibility": null,
            "width": null
          }
        },
        "8b2dc26e925041acb071808411111b03": {
          "model_module": "@jupyter-widgets/base",
          "model_name": "LayoutModel",
          "model_module_version": "1.2.0",
          "state": {
            "_model_module": "@jupyter-widgets/base",
            "_model_module_version": "1.2.0",
            "_model_name": "LayoutModel",
            "_view_count": null,
            "_view_module": "@jupyter-widgets/base",
            "_view_module_version": "1.2.0",
            "_view_name": "LayoutView",
            "align_content": null,
            "align_items": null,
            "align_self": null,
            "border": null,
            "bottom": null,
            "display": null,
            "flex": null,
            "flex_flow": null,
            "grid_area": null,
            "grid_auto_columns": null,
            "grid_auto_flow": null,
            "grid_auto_rows": null,
            "grid_column": null,
            "grid_gap": null,
            "grid_row": null,
            "grid_template_areas": null,
            "grid_template_columns": null,
            "grid_template_rows": null,
            "height": null,
            "justify_content": null,
            "justify_items": null,
            "left": null,
            "margin": null,
            "max_height": null,
            "max_width": null,
            "min_height": null,
            "min_width": null,
            "object_fit": null,
            "object_position": null,
            "order": null,
            "overflow": null,
            "overflow_x": null,
            "overflow_y": null,
            "padding": null,
            "right": null,
            "top": null,
            "visibility": null,
            "width": null
          }
        },
        "86237ab1a9cf47ee9bf1d96a8c648534": {
          "model_module": "@jupyter-widgets/controls",
          "model_name": "DescriptionStyleModel",
          "model_module_version": "1.5.0",
          "state": {
            "_model_module": "@jupyter-widgets/controls",
            "_model_module_version": "1.5.0",
            "_model_name": "DescriptionStyleModel",
            "_view_count": null,
            "_view_module": "@jupyter-widgets/base",
            "_view_module_version": "1.2.0",
            "_view_name": "StyleView",
            "description_width": ""
          }
        },
        "7e2290280c304dcd8728a0733a5ac2b8": {
          "model_module": "@jupyter-widgets/base",
          "model_name": "LayoutModel",
          "model_module_version": "1.2.0",
          "state": {
            "_model_module": "@jupyter-widgets/base",
            "_model_module_version": "1.2.0",
            "_model_name": "LayoutModel",
            "_view_count": null,
            "_view_module": "@jupyter-widgets/base",
            "_view_module_version": "1.2.0",
            "_view_name": "LayoutView",
            "align_content": null,
            "align_items": null,
            "align_self": null,
            "border": null,
            "bottom": null,
            "display": null,
            "flex": null,
            "flex_flow": null,
            "grid_area": null,
            "grid_auto_columns": null,
            "grid_auto_flow": null,
            "grid_auto_rows": null,
            "grid_column": null,
            "grid_gap": null,
            "grid_row": null,
            "grid_template_areas": null,
            "grid_template_columns": null,
            "grid_template_rows": null,
            "height": null,
            "justify_content": null,
            "justify_items": null,
            "left": null,
            "margin": null,
            "max_height": null,
            "max_width": null,
            "min_height": null,
            "min_width": null,
            "object_fit": null,
            "object_position": null,
            "order": null,
            "overflow": null,
            "overflow_x": null,
            "overflow_y": null,
            "padding": null,
            "right": null,
            "top": null,
            "visibility": null,
            "width": null
          }
        },
        "3deb8f1d02b24f098eec5ee1839550f3": {
          "model_module": "@jupyter-widgets/controls",
          "model_name": "ProgressStyleModel",
          "model_module_version": "1.5.0",
          "state": {
            "_model_module": "@jupyter-widgets/controls",
            "_model_module_version": "1.5.0",
            "_model_name": "ProgressStyleModel",
            "_view_count": null,
            "_view_module": "@jupyter-widgets/base",
            "_view_module_version": "1.2.0",
            "_view_name": "StyleView",
            "bar_color": null,
            "description_width": ""
          }
        },
        "ea4d38a4818d4cb69090ddd1b4c252aa": {
          "model_module": "@jupyter-widgets/base",
          "model_name": "LayoutModel",
          "model_module_version": "1.2.0",
          "state": {
            "_model_module": "@jupyter-widgets/base",
            "_model_module_version": "1.2.0",
            "_model_name": "LayoutModel",
            "_view_count": null,
            "_view_module": "@jupyter-widgets/base",
            "_view_module_version": "1.2.0",
            "_view_name": "LayoutView",
            "align_content": null,
            "align_items": null,
            "align_self": null,
            "border": null,
            "bottom": null,
            "display": null,
            "flex": null,
            "flex_flow": null,
            "grid_area": null,
            "grid_auto_columns": null,
            "grid_auto_flow": null,
            "grid_auto_rows": null,
            "grid_column": null,
            "grid_gap": null,
            "grid_row": null,
            "grid_template_areas": null,
            "grid_template_columns": null,
            "grid_template_rows": null,
            "height": null,
            "justify_content": null,
            "justify_items": null,
            "left": null,
            "margin": null,
            "max_height": null,
            "max_width": null,
            "min_height": null,
            "min_width": null,
            "object_fit": null,
            "object_position": null,
            "order": null,
            "overflow": null,
            "overflow_x": null,
            "overflow_y": null,
            "padding": null,
            "right": null,
            "top": null,
            "visibility": null,
            "width": null
          }
        },
        "da95b19196244cdca53196d133304f75": {
          "model_module": "@jupyter-widgets/controls",
          "model_name": "DescriptionStyleModel",
          "model_module_version": "1.5.0",
          "state": {
            "_model_module": "@jupyter-widgets/controls",
            "_model_module_version": "1.5.0",
            "_model_name": "DescriptionStyleModel",
            "_view_count": null,
            "_view_module": "@jupyter-widgets/base",
            "_view_module_version": "1.2.0",
            "_view_name": "StyleView",
            "description_width": ""
          }
        },
        "8493cec18eb04f5f93c92f6997b535a5": {
          "model_module": "@jupyter-widgets/controls",
          "model_name": "HBoxModel",
          "model_module_version": "1.5.0",
          "state": {
            "_dom_classes": [],
            "_model_module": "@jupyter-widgets/controls",
            "_model_module_version": "1.5.0",
            "_model_name": "HBoxModel",
            "_view_count": null,
            "_view_module": "@jupyter-widgets/controls",
            "_view_module_version": "1.5.0",
            "_view_name": "HBoxView",
            "box_style": "",
            "children": [
              "IPY_MODEL_3b0f4175a1b7488ca3f38e9d61d7ebca",
              "IPY_MODEL_3217a6a3048c42b4a07ff806e85ee2f3",
              "IPY_MODEL_18099c212b7046daaa1ef47b11ac5e59"
            ],
            "layout": "IPY_MODEL_3c67b6fe316b46ef8f13dd0bb918f2dd"
          }
        },
        "3b0f4175a1b7488ca3f38e9d61d7ebca": {
          "model_module": "@jupyter-widgets/controls",
          "model_name": "HTMLModel",
          "model_module_version": "1.5.0",
          "state": {
            "_dom_classes": [],
            "_model_module": "@jupyter-widgets/controls",
            "_model_module_version": "1.5.0",
            "_model_name": "HTMLModel",
            "_view_count": null,
            "_view_module": "@jupyter-widgets/controls",
            "_view_module_version": "1.5.0",
            "_view_name": "HTMLView",
            "description": "",
            "description_tooltip": null,
            "layout": "IPY_MODEL_ce624b3d79eb4f32824d1a9cb1fc764f",
            "placeholder": "​",
            "style": "IPY_MODEL_ce38e12a9e8b49ef8887d454c586787d",
            "value": "vocab.txt: 100%"
          }
        },
        "3217a6a3048c42b4a07ff806e85ee2f3": {
          "model_module": "@jupyter-widgets/controls",
          "model_name": "FloatProgressModel",
          "model_module_version": "1.5.0",
          "state": {
            "_dom_classes": [],
            "_model_module": "@jupyter-widgets/controls",
            "_model_module_version": "1.5.0",
            "_model_name": "FloatProgressModel",
            "_view_count": null,
            "_view_module": "@jupyter-widgets/controls",
            "_view_module_version": "1.5.0",
            "_view_name": "ProgressView",
            "bar_style": "success",
            "description": "",
            "description_tooltip": null,
            "layout": "IPY_MODEL_2dccdc1d62994203aae9f4e1cce2dca1",
            "max": 333770,
            "min": 0,
            "orientation": "horizontal",
            "style": "IPY_MODEL_20bcd1c7e9ad4d059405e2a802be9a59",
            "value": 333770
          }
        },
        "18099c212b7046daaa1ef47b11ac5e59": {
          "model_module": "@jupyter-widgets/controls",
          "model_name": "HTMLModel",
          "model_module_version": "1.5.0",
          "state": {
            "_dom_classes": [],
            "_model_module": "@jupyter-widgets/controls",
            "_model_module_version": "1.5.0",
            "_model_name": "HTMLModel",
            "_view_count": null,
            "_view_module": "@jupyter-widgets/controls",
            "_view_module_version": "1.5.0",
            "_view_name": "HTMLView",
            "description": "",
            "description_tooltip": null,
            "layout": "IPY_MODEL_a925f5fb2be34bdc9efcb36d7cde8ab8",
            "placeholder": "​",
            "style": "IPY_MODEL_5de03049074041f1845a4e1c3c082a9e",
            "value": " 334k/334k [00:00&lt;00:00, 7.92MB/s]"
          }
        },
        "3c67b6fe316b46ef8f13dd0bb918f2dd": {
          "model_module": "@jupyter-widgets/base",
          "model_name": "LayoutModel",
          "model_module_version": "1.2.0",
          "state": {
            "_model_module": "@jupyter-widgets/base",
            "_model_module_version": "1.2.0",
            "_model_name": "LayoutModel",
            "_view_count": null,
            "_view_module": "@jupyter-widgets/base",
            "_view_module_version": "1.2.0",
            "_view_name": "LayoutView",
            "align_content": null,
            "align_items": null,
            "align_self": null,
            "border": null,
            "bottom": null,
            "display": null,
            "flex": null,
            "flex_flow": null,
            "grid_area": null,
            "grid_auto_columns": null,
            "grid_auto_flow": null,
            "grid_auto_rows": null,
            "grid_column": null,
            "grid_gap": null,
            "grid_row": null,
            "grid_template_areas": null,
            "grid_template_columns": null,
            "grid_template_rows": null,
            "height": null,
            "justify_content": null,
            "justify_items": null,
            "left": null,
            "margin": null,
            "max_height": null,
            "max_width": null,
            "min_height": null,
            "min_width": null,
            "object_fit": null,
            "object_position": null,
            "order": null,
            "overflow": null,
            "overflow_x": null,
            "overflow_y": null,
            "padding": null,
            "right": null,
            "top": null,
            "visibility": null,
            "width": null
          }
        },
        "ce624b3d79eb4f32824d1a9cb1fc764f": {
          "model_module": "@jupyter-widgets/base",
          "model_name": "LayoutModel",
          "model_module_version": "1.2.0",
          "state": {
            "_model_module": "@jupyter-widgets/base",
            "_model_module_version": "1.2.0",
            "_model_name": "LayoutModel",
            "_view_count": null,
            "_view_module": "@jupyter-widgets/base",
            "_view_module_version": "1.2.0",
            "_view_name": "LayoutView",
            "align_content": null,
            "align_items": null,
            "align_self": null,
            "border": null,
            "bottom": null,
            "display": null,
            "flex": null,
            "flex_flow": null,
            "grid_area": null,
            "grid_auto_columns": null,
            "grid_auto_flow": null,
            "grid_auto_rows": null,
            "grid_column": null,
            "grid_gap": null,
            "grid_row": null,
            "grid_template_areas": null,
            "grid_template_columns": null,
            "grid_template_rows": null,
            "height": null,
            "justify_content": null,
            "justify_items": null,
            "left": null,
            "margin": null,
            "max_height": null,
            "max_width": null,
            "min_height": null,
            "min_width": null,
            "object_fit": null,
            "object_position": null,
            "order": null,
            "overflow": null,
            "overflow_x": null,
            "overflow_y": null,
            "padding": null,
            "right": null,
            "top": null,
            "visibility": null,
            "width": null
          }
        },
        "ce38e12a9e8b49ef8887d454c586787d": {
          "model_module": "@jupyter-widgets/controls",
          "model_name": "DescriptionStyleModel",
          "model_module_version": "1.5.0",
          "state": {
            "_model_module": "@jupyter-widgets/controls",
            "_model_module_version": "1.5.0",
            "_model_name": "DescriptionStyleModel",
            "_view_count": null,
            "_view_module": "@jupyter-widgets/base",
            "_view_module_version": "1.2.0",
            "_view_name": "StyleView",
            "description_width": ""
          }
        },
        "2dccdc1d62994203aae9f4e1cce2dca1": {
          "model_module": "@jupyter-widgets/base",
          "model_name": "LayoutModel",
          "model_module_version": "1.2.0",
          "state": {
            "_model_module": "@jupyter-widgets/base",
            "_model_module_version": "1.2.0",
            "_model_name": "LayoutModel",
            "_view_count": null,
            "_view_module": "@jupyter-widgets/base",
            "_view_module_version": "1.2.0",
            "_view_name": "LayoutView",
            "align_content": null,
            "align_items": null,
            "align_self": null,
            "border": null,
            "bottom": null,
            "display": null,
            "flex": null,
            "flex_flow": null,
            "grid_area": null,
            "grid_auto_columns": null,
            "grid_auto_flow": null,
            "grid_auto_rows": null,
            "grid_column": null,
            "grid_gap": null,
            "grid_row": null,
            "grid_template_areas": null,
            "grid_template_columns": null,
            "grid_template_rows": null,
            "height": null,
            "justify_content": null,
            "justify_items": null,
            "left": null,
            "margin": null,
            "max_height": null,
            "max_width": null,
            "min_height": null,
            "min_width": null,
            "object_fit": null,
            "object_position": null,
            "order": null,
            "overflow": null,
            "overflow_x": null,
            "overflow_y": null,
            "padding": null,
            "right": null,
            "top": null,
            "visibility": null,
            "width": null
          }
        },
        "20bcd1c7e9ad4d059405e2a802be9a59": {
          "model_module": "@jupyter-widgets/controls",
          "model_name": "ProgressStyleModel",
          "model_module_version": "1.5.0",
          "state": {
            "_model_module": "@jupyter-widgets/controls",
            "_model_module_version": "1.5.0",
            "_model_name": "ProgressStyleModel",
            "_view_count": null,
            "_view_module": "@jupyter-widgets/base",
            "_view_module_version": "1.2.0",
            "_view_name": "StyleView",
            "bar_color": null,
            "description_width": ""
          }
        },
        "a925f5fb2be34bdc9efcb36d7cde8ab8": {
          "model_module": "@jupyter-widgets/base",
          "model_name": "LayoutModel",
          "model_module_version": "1.2.0",
          "state": {
            "_model_module": "@jupyter-widgets/base",
            "_model_module_version": "1.2.0",
            "_model_name": "LayoutModel",
            "_view_count": null,
            "_view_module": "@jupyter-widgets/base",
            "_view_module_version": "1.2.0",
            "_view_name": "LayoutView",
            "align_content": null,
            "align_items": null,
            "align_self": null,
            "border": null,
            "bottom": null,
            "display": null,
            "flex": null,
            "flex_flow": null,
            "grid_area": null,
            "grid_auto_columns": null,
            "grid_auto_flow": null,
            "grid_auto_rows": null,
            "grid_column": null,
            "grid_gap": null,
            "grid_row": null,
            "grid_template_areas": null,
            "grid_template_columns": null,
            "grid_template_rows": null,
            "height": null,
            "justify_content": null,
            "justify_items": null,
            "left": null,
            "margin": null,
            "max_height": null,
            "max_width": null,
            "min_height": null,
            "min_width": null,
            "object_fit": null,
            "object_position": null,
            "order": null,
            "overflow": null,
            "overflow_x": null,
            "overflow_y": null,
            "padding": null,
            "right": null,
            "top": null,
            "visibility": null,
            "width": null
          }
        },
        "5de03049074041f1845a4e1c3c082a9e": {
          "model_module": "@jupyter-widgets/controls",
          "model_name": "DescriptionStyleModel",
          "model_module_version": "1.5.0",
          "state": {
            "_model_module": "@jupyter-widgets/controls",
            "_model_module_version": "1.5.0",
            "_model_name": "DescriptionStyleModel",
            "_view_count": null,
            "_view_module": "@jupyter-widgets/base",
            "_view_module_version": "1.2.0",
            "_view_name": "StyleView",
            "description_width": ""
          }
        },
        "efc41cc5069e4866b649fc1a7417d3a9": {
          "model_module": "@jupyter-widgets/controls",
          "model_name": "HBoxModel",
          "model_module_version": "1.5.0",
          "state": {
            "_dom_classes": [],
            "_model_module": "@jupyter-widgets/controls",
            "_model_module_version": "1.5.0",
            "_model_name": "HBoxModel",
            "_view_count": null,
            "_view_module": "@jupyter-widgets/controls",
            "_view_module_version": "1.5.0",
            "_view_name": "HBoxView",
            "box_style": "",
            "children": [
              "IPY_MODEL_b8b17838e5b44a5a98baa036ce6f9a83",
              "IPY_MODEL_0ad4d51a477849f2912aa33e0222e28e",
              "IPY_MODEL_443d35e69ffc4e49b3adffcdde202a99"
            ],
            "layout": "IPY_MODEL_179083191e7a4316941b2504c238175d"
          }
        },
        "b8b17838e5b44a5a98baa036ce6f9a83": {
          "model_module": "@jupyter-widgets/controls",
          "model_name": "HTMLModel",
          "model_module_version": "1.5.0",
          "state": {
            "_dom_classes": [],
            "_model_module": "@jupyter-widgets/controls",
            "_model_module_version": "1.5.0",
            "_model_name": "HTMLModel",
            "_view_count": null,
            "_view_module": "@jupyter-widgets/controls",
            "_view_module_version": "1.5.0",
            "_view_name": "HTMLView",
            "description": "",
            "description_tooltip": null,
            "layout": "IPY_MODEL_8465804b7e2f4ae893414e69cd30becc",
            "placeholder": "​",
            "style": "IPY_MODEL_71edfc8c87dc4e02823d970ce5dc49fd",
            "value": "special_tokens_map.json: 100%"
          }
        },
        "0ad4d51a477849f2912aa33e0222e28e": {
          "model_module": "@jupyter-widgets/controls",
          "model_name": "FloatProgressModel",
          "model_module_version": "1.5.0",
          "state": {
            "_dom_classes": [],
            "_model_module": "@jupyter-widgets/controls",
            "_model_module_version": "1.5.0",
            "_model_name": "FloatProgressModel",
            "_view_count": null,
            "_view_module": "@jupyter-widgets/controls",
            "_view_module_version": "1.5.0",
            "_view_name": "ProgressView",
            "bar_style": "success",
            "description": "",
            "description_tooltip": null,
            "layout": "IPY_MODEL_0b136d1031aa41d68bb1b95c520ca1d9",
            "max": 112,
            "min": 0,
            "orientation": "horizontal",
            "style": "IPY_MODEL_0d5ce0e2f5ca4ce9971fb11125c38b7b",
            "value": 112
          }
        },
        "443d35e69ffc4e49b3adffcdde202a99": {
          "model_module": "@jupyter-widgets/controls",
          "model_name": "HTMLModel",
          "model_module_version": "1.5.0",
          "state": {
            "_dom_classes": [],
            "_model_module": "@jupyter-widgets/controls",
            "_model_module_version": "1.5.0",
            "_model_name": "HTMLModel",
            "_view_count": null,
            "_view_module": "@jupyter-widgets/controls",
            "_view_module_version": "1.5.0",
            "_view_name": "HTMLView",
            "description": "",
            "description_tooltip": null,
            "layout": "IPY_MODEL_331c64f08f4e43708dca5e35885a3f58",
            "placeholder": "​",
            "style": "IPY_MODEL_1015d8e9e0b843d6b496974978718dfb",
            "value": " 112/112 [00:00&lt;00:00, 4.14kB/s]"
          }
        },
        "179083191e7a4316941b2504c238175d": {
          "model_module": "@jupyter-widgets/base",
          "model_name": "LayoutModel",
          "model_module_version": "1.2.0",
          "state": {
            "_model_module": "@jupyter-widgets/base",
            "_model_module_version": "1.2.0",
            "_model_name": "LayoutModel",
            "_view_count": null,
            "_view_module": "@jupyter-widgets/base",
            "_view_module_version": "1.2.0",
            "_view_name": "LayoutView",
            "align_content": null,
            "align_items": null,
            "align_self": null,
            "border": null,
            "bottom": null,
            "display": null,
            "flex": null,
            "flex_flow": null,
            "grid_area": null,
            "grid_auto_columns": null,
            "grid_auto_flow": null,
            "grid_auto_rows": null,
            "grid_column": null,
            "grid_gap": null,
            "grid_row": null,
            "grid_template_areas": null,
            "grid_template_columns": null,
            "grid_template_rows": null,
            "height": null,
            "justify_content": null,
            "justify_items": null,
            "left": null,
            "margin": null,
            "max_height": null,
            "max_width": null,
            "min_height": null,
            "min_width": null,
            "object_fit": null,
            "object_position": null,
            "order": null,
            "overflow": null,
            "overflow_x": null,
            "overflow_y": null,
            "padding": null,
            "right": null,
            "top": null,
            "visibility": null,
            "width": null
          }
        },
        "8465804b7e2f4ae893414e69cd30becc": {
          "model_module": "@jupyter-widgets/base",
          "model_name": "LayoutModel",
          "model_module_version": "1.2.0",
          "state": {
            "_model_module": "@jupyter-widgets/base",
            "_model_module_version": "1.2.0",
            "_model_name": "LayoutModel",
            "_view_count": null,
            "_view_module": "@jupyter-widgets/base",
            "_view_module_version": "1.2.0",
            "_view_name": "LayoutView",
            "align_content": null,
            "align_items": null,
            "align_self": null,
            "border": null,
            "bottom": null,
            "display": null,
            "flex": null,
            "flex_flow": null,
            "grid_area": null,
            "grid_auto_columns": null,
            "grid_auto_flow": null,
            "grid_auto_rows": null,
            "grid_column": null,
            "grid_gap": null,
            "grid_row": null,
            "grid_template_areas": null,
            "grid_template_columns": null,
            "grid_template_rows": null,
            "height": null,
            "justify_content": null,
            "justify_items": null,
            "left": null,
            "margin": null,
            "max_height": null,
            "max_width": null,
            "min_height": null,
            "min_width": null,
            "object_fit": null,
            "object_position": null,
            "order": null,
            "overflow": null,
            "overflow_x": null,
            "overflow_y": null,
            "padding": null,
            "right": null,
            "top": null,
            "visibility": null,
            "width": null
          }
        },
        "71edfc8c87dc4e02823d970ce5dc49fd": {
          "model_module": "@jupyter-widgets/controls",
          "model_name": "DescriptionStyleModel",
          "model_module_version": "1.5.0",
          "state": {
            "_model_module": "@jupyter-widgets/controls",
            "_model_module_version": "1.5.0",
            "_model_name": "DescriptionStyleModel",
            "_view_count": null,
            "_view_module": "@jupyter-widgets/base",
            "_view_module_version": "1.2.0",
            "_view_name": "StyleView",
            "description_width": ""
          }
        },
        "0b136d1031aa41d68bb1b95c520ca1d9": {
          "model_module": "@jupyter-widgets/base",
          "model_name": "LayoutModel",
          "model_module_version": "1.2.0",
          "state": {
            "_model_module": "@jupyter-widgets/base",
            "_model_module_version": "1.2.0",
            "_model_name": "LayoutModel",
            "_view_count": null,
            "_view_module": "@jupyter-widgets/base",
            "_view_module_version": "1.2.0",
            "_view_name": "LayoutView",
            "align_content": null,
            "align_items": null,
            "align_self": null,
            "border": null,
            "bottom": null,
            "display": null,
            "flex": null,
            "flex_flow": null,
            "grid_area": null,
            "grid_auto_columns": null,
            "grid_auto_flow": null,
            "grid_auto_rows": null,
            "grid_column": null,
            "grid_gap": null,
            "grid_row": null,
            "grid_template_areas": null,
            "grid_template_columns": null,
            "grid_template_rows": null,
            "height": null,
            "justify_content": null,
            "justify_items": null,
            "left": null,
            "margin": null,
            "max_height": null,
            "max_width": null,
            "min_height": null,
            "min_width": null,
            "object_fit": null,
            "object_position": null,
            "order": null,
            "overflow": null,
            "overflow_x": null,
            "overflow_y": null,
            "padding": null,
            "right": null,
            "top": null,
            "visibility": null,
            "width": null
          }
        },
        "0d5ce0e2f5ca4ce9971fb11125c38b7b": {
          "model_module": "@jupyter-widgets/controls",
          "model_name": "ProgressStyleModel",
          "model_module_version": "1.5.0",
          "state": {
            "_model_module": "@jupyter-widgets/controls",
            "_model_module_version": "1.5.0",
            "_model_name": "ProgressStyleModel",
            "_view_count": null,
            "_view_module": "@jupyter-widgets/base",
            "_view_module_version": "1.2.0",
            "_view_name": "StyleView",
            "bar_color": null,
            "description_width": ""
          }
        },
        "331c64f08f4e43708dca5e35885a3f58": {
          "model_module": "@jupyter-widgets/base",
          "model_name": "LayoutModel",
          "model_module_version": "1.2.0",
          "state": {
            "_model_module": "@jupyter-widgets/base",
            "_model_module_version": "1.2.0",
            "_model_name": "LayoutModel",
            "_view_count": null,
            "_view_module": "@jupyter-widgets/base",
            "_view_module_version": "1.2.0",
            "_view_name": "LayoutView",
            "align_content": null,
            "align_items": null,
            "align_self": null,
            "border": null,
            "bottom": null,
            "display": null,
            "flex": null,
            "flex_flow": null,
            "grid_area": null,
            "grid_auto_columns": null,
            "grid_auto_flow": null,
            "grid_auto_rows": null,
            "grid_column": null,
            "grid_gap": null,
            "grid_row": null,
            "grid_template_areas": null,
            "grid_template_columns": null,
            "grid_template_rows": null,
            "height": null,
            "justify_content": null,
            "justify_items": null,
            "left": null,
            "margin": null,
            "max_height": null,
            "max_width": null,
            "min_height": null,
            "min_width": null,
            "object_fit": null,
            "object_position": null,
            "order": null,
            "overflow": null,
            "overflow_x": null,
            "overflow_y": null,
            "padding": null,
            "right": null,
            "top": null,
            "visibility": null,
            "width": null
          }
        },
        "1015d8e9e0b843d6b496974978718dfb": {
          "model_module": "@jupyter-widgets/controls",
          "model_name": "DescriptionStyleModel",
          "model_module_version": "1.5.0",
          "state": {
            "_model_module": "@jupyter-widgets/controls",
            "_model_module_version": "1.5.0",
            "_model_name": "DescriptionStyleModel",
            "_view_count": null,
            "_view_module": "@jupyter-widgets/base",
            "_view_module_version": "1.2.0",
            "_view_name": "StyleView",
            "description_width": ""
          }
        },
        "80bc6ff9c09c4249b4cc85cbc386fc92": {
          "model_module": "@jupyter-widgets/controls",
          "model_name": "HBoxModel",
          "model_module_version": "1.5.0",
          "state": {
            "_dom_classes": [],
            "_model_module": "@jupyter-widgets/controls",
            "_model_module_version": "1.5.0",
            "_model_name": "HBoxModel",
            "_view_count": null,
            "_view_module": "@jupyter-widgets/controls",
            "_view_module_version": "1.5.0",
            "_view_name": "HBoxView",
            "box_style": "",
            "children": [
              "IPY_MODEL_c72ec04e347742d08eaef7ce1034dd6c",
              "IPY_MODEL_79423fbc061948d0a9578d2a70407bab",
              "IPY_MODEL_7e71734d17b0459989ee99807e967d40"
            ],
            "layout": "IPY_MODEL_aee508b87dd34edca96c65ca64b80352"
          }
        },
        "c72ec04e347742d08eaef7ce1034dd6c": {
          "model_module": "@jupyter-widgets/controls",
          "model_name": "HTMLModel",
          "model_module_version": "1.5.0",
          "state": {
            "_dom_classes": [],
            "_model_module": "@jupyter-widgets/controls",
            "_model_module_version": "1.5.0",
            "_model_name": "HTMLModel",
            "_view_count": null,
            "_view_module": "@jupyter-widgets/controls",
            "_view_module_version": "1.5.0",
            "_view_name": "HTMLView",
            "description": "",
            "description_tooltip": null,
            "layout": "IPY_MODEL_77c0b79e7e7b46edb232babae872bfb2",
            "placeholder": "​",
            "style": "IPY_MODEL_308533f655f8491c92e5a9e94625c364",
            "value": "Downloading builder script: 100%"
          }
        },
        "79423fbc061948d0a9578d2a70407bab": {
          "model_module": "@jupyter-widgets/controls",
          "model_name": "FloatProgressModel",
          "model_module_version": "1.5.0",
          "state": {
            "_dom_classes": [],
            "_model_module": "@jupyter-widgets/controls",
            "_model_module_version": "1.5.0",
            "_model_name": "FloatProgressModel",
            "_view_count": null,
            "_view_module": "@jupyter-widgets/controls",
            "_view_module_version": "1.5.0",
            "_view_name": "ProgressView",
            "bar_style": "success",
            "description": "",
            "description_tooltip": null,
            "layout": "IPY_MODEL_8b1c2904a2cc4731b38496434185d9a7",
            "max": 6270,
            "min": 0,
            "orientation": "horizontal",
            "style": "IPY_MODEL_67822ffd8aba4929ac0b9dde48832d77",
            "value": 6270
          }
        },
        "7e71734d17b0459989ee99807e967d40": {
          "model_module": "@jupyter-widgets/controls",
          "model_name": "HTMLModel",
          "model_module_version": "1.5.0",
          "state": {
            "_dom_classes": [],
            "_model_module": "@jupyter-widgets/controls",
            "_model_module_version": "1.5.0",
            "_model_name": "HTMLModel",
            "_view_count": null,
            "_view_module": "@jupyter-widgets/controls",
            "_view_module_version": "1.5.0",
            "_view_name": "HTMLView",
            "description": "",
            "description_tooltip": null,
            "layout": "IPY_MODEL_86c6fb1e24454fbeb3b863395945869f",
            "placeholder": "​",
            "style": "IPY_MODEL_12de5abdd4d549939d4a6e5e7b210a24",
            "value": " 6.27k/6.27k [00:00&lt;00:00, 278kB/s]"
          }
        },
        "aee508b87dd34edca96c65ca64b80352": {
          "model_module": "@jupyter-widgets/base",
          "model_name": "LayoutModel",
          "model_module_version": "1.2.0",
          "state": {
            "_model_module": "@jupyter-widgets/base",
            "_model_module_version": "1.2.0",
            "_model_name": "LayoutModel",
            "_view_count": null,
            "_view_module": "@jupyter-widgets/base",
            "_view_module_version": "1.2.0",
            "_view_name": "LayoutView",
            "align_content": null,
            "align_items": null,
            "align_self": null,
            "border": null,
            "bottom": null,
            "display": null,
            "flex": null,
            "flex_flow": null,
            "grid_area": null,
            "grid_auto_columns": null,
            "grid_auto_flow": null,
            "grid_auto_rows": null,
            "grid_column": null,
            "grid_gap": null,
            "grid_row": null,
            "grid_template_areas": null,
            "grid_template_columns": null,
            "grid_template_rows": null,
            "height": null,
            "justify_content": null,
            "justify_items": null,
            "left": null,
            "margin": null,
            "max_height": null,
            "max_width": null,
            "min_height": null,
            "min_width": null,
            "object_fit": null,
            "object_position": null,
            "order": null,
            "overflow": null,
            "overflow_x": null,
            "overflow_y": null,
            "padding": null,
            "right": null,
            "top": null,
            "visibility": null,
            "width": null
          }
        },
        "77c0b79e7e7b46edb232babae872bfb2": {
          "model_module": "@jupyter-widgets/base",
          "model_name": "LayoutModel",
          "model_module_version": "1.2.0",
          "state": {
            "_model_module": "@jupyter-widgets/base",
            "_model_module_version": "1.2.0",
            "_model_name": "LayoutModel",
            "_view_count": null,
            "_view_module": "@jupyter-widgets/base",
            "_view_module_version": "1.2.0",
            "_view_name": "LayoutView",
            "align_content": null,
            "align_items": null,
            "align_self": null,
            "border": null,
            "bottom": null,
            "display": null,
            "flex": null,
            "flex_flow": null,
            "grid_area": null,
            "grid_auto_columns": null,
            "grid_auto_flow": null,
            "grid_auto_rows": null,
            "grid_column": null,
            "grid_gap": null,
            "grid_row": null,
            "grid_template_areas": null,
            "grid_template_columns": null,
            "grid_template_rows": null,
            "height": null,
            "justify_content": null,
            "justify_items": null,
            "left": null,
            "margin": null,
            "max_height": null,
            "max_width": null,
            "min_height": null,
            "min_width": null,
            "object_fit": null,
            "object_position": null,
            "order": null,
            "overflow": null,
            "overflow_x": null,
            "overflow_y": null,
            "padding": null,
            "right": null,
            "top": null,
            "visibility": null,
            "width": null
          }
        },
        "308533f655f8491c92e5a9e94625c364": {
          "model_module": "@jupyter-widgets/controls",
          "model_name": "DescriptionStyleModel",
          "model_module_version": "1.5.0",
          "state": {
            "_model_module": "@jupyter-widgets/controls",
            "_model_module_version": "1.5.0",
            "_model_name": "DescriptionStyleModel",
            "_view_count": null,
            "_view_module": "@jupyter-widgets/base",
            "_view_module_version": "1.2.0",
            "_view_name": "StyleView",
            "description_width": ""
          }
        },
        "8b1c2904a2cc4731b38496434185d9a7": {
          "model_module": "@jupyter-widgets/base",
          "model_name": "LayoutModel",
          "model_module_version": "1.2.0",
          "state": {
            "_model_module": "@jupyter-widgets/base",
            "_model_module_version": "1.2.0",
            "_model_name": "LayoutModel",
            "_view_count": null,
            "_view_module": "@jupyter-widgets/base",
            "_view_module_version": "1.2.0",
            "_view_name": "LayoutView",
            "align_content": null,
            "align_items": null,
            "align_self": null,
            "border": null,
            "bottom": null,
            "display": null,
            "flex": null,
            "flex_flow": null,
            "grid_area": null,
            "grid_auto_columns": null,
            "grid_auto_flow": null,
            "grid_auto_rows": null,
            "grid_column": null,
            "grid_gap": null,
            "grid_row": null,
            "grid_template_areas": null,
            "grid_template_columns": null,
            "grid_template_rows": null,
            "height": null,
            "justify_content": null,
            "justify_items": null,
            "left": null,
            "margin": null,
            "max_height": null,
            "max_width": null,
            "min_height": null,
            "min_width": null,
            "object_fit": null,
            "object_position": null,
            "order": null,
            "overflow": null,
            "overflow_x": null,
            "overflow_y": null,
            "padding": null,
            "right": null,
            "top": null,
            "visibility": null,
            "width": null
          }
        },
        "67822ffd8aba4929ac0b9dde48832d77": {
          "model_module": "@jupyter-widgets/controls",
          "model_name": "ProgressStyleModel",
          "model_module_version": "1.5.0",
          "state": {
            "_model_module": "@jupyter-widgets/controls",
            "_model_module_version": "1.5.0",
            "_model_name": "ProgressStyleModel",
            "_view_count": null,
            "_view_module": "@jupyter-widgets/base",
            "_view_module_version": "1.2.0",
            "_view_name": "StyleView",
            "bar_color": null,
            "description_width": ""
          }
        },
        "86c6fb1e24454fbeb3b863395945869f": {
          "model_module": "@jupyter-widgets/base",
          "model_name": "LayoutModel",
          "model_module_version": "1.2.0",
          "state": {
            "_model_module": "@jupyter-widgets/base",
            "_model_module_version": "1.2.0",
            "_model_name": "LayoutModel",
            "_view_count": null,
            "_view_module": "@jupyter-widgets/base",
            "_view_module_version": "1.2.0",
            "_view_name": "LayoutView",
            "align_content": null,
            "align_items": null,
            "align_self": null,
            "border": null,
            "bottom": null,
            "display": null,
            "flex": null,
            "flex_flow": null,
            "grid_area": null,
            "grid_auto_columns": null,
            "grid_auto_flow": null,
            "grid_auto_rows": null,
            "grid_column": null,
            "grid_gap": null,
            "grid_row": null,
            "grid_template_areas": null,
            "grid_template_columns": null,
            "grid_template_rows": null,
            "height": null,
            "justify_content": null,
            "justify_items": null,
            "left": null,
            "margin": null,
            "max_height": null,
            "max_width": null,
            "min_height": null,
            "min_width": null,
            "object_fit": null,
            "object_position": null,
            "order": null,
            "overflow": null,
            "overflow_x": null,
            "overflow_y": null,
            "padding": null,
            "right": null,
            "top": null,
            "visibility": null,
            "width": null
          }
        },
        "12de5abdd4d549939d4a6e5e7b210a24": {
          "model_module": "@jupyter-widgets/controls",
          "model_name": "DescriptionStyleModel",
          "model_module_version": "1.5.0",
          "state": {
            "_model_module": "@jupyter-widgets/controls",
            "_model_module_version": "1.5.0",
            "_model_name": "DescriptionStyleModel",
            "_view_count": null,
            "_view_module": "@jupyter-widgets/base",
            "_view_module_version": "1.2.0",
            "_view_name": "StyleView",
            "description_width": ""
          }
        }
      }
    }
  },
  "cells": [
    {
      "cell_type": "markdown",
      "source": [
        "**Installing Libraries**"
      ],
      "metadata": {
        "id": "uNqj4SauIip0"
      }
    },
    {
      "cell_type": "code",
      "source": [
        "\n",
        "%%capture\n",
        "!pip install --upgrade transformers accelerate\n",
        "!pip install datasets -q\n",
        "!pip install rouge-score -q\n",
        "!pip install evaluate -q\n",
        "!pip install  bert-score -q"
      ],
      "metadata": {
        "id": "jrkcgE6pIjGJ"
      },
      "execution_count": 1,
      "outputs": []
    },
    {
      "cell_type": "code",
      "source": [
        "%%capture\n",
        "!pip install googletrans"
      ],
      "metadata": {
        "id": "PYU-l8QMJNQS"
      },
      "execution_count": 2,
      "outputs": []
    },
    {
      "cell_type": "code",
      "execution_count": 3,
      "metadata": {
        "id": "c9oaJW87HCUW",
        "colab": {
          "base_uri": "https://localhost:8080/"
        },
        "outputId": "2574f1b0-1175-4bd6-98d7-7c7df39c3a49"
      },
      "outputs": [
        {
          "output_type": "stream",
          "name": "stdout",
          "text": [
            "Mounted at /content/drive\n"
          ]
        }
      ],
      "source": [
        "# Import Files from Google Drive to Colab\n",
        "from google.colab import drive\n",
        "drive.mount(\"/content/drive\")"
      ]
    },
    {
      "cell_type": "code",
      "source": [
        "from datasets import load_from_disk\n",
        "from bert_score import BERTScorer\n",
        "\n",
        "import torch\n",
        "from transformers import EncoderDecoderModel, BertTokenizer\n",
        "\n",
        "# from datasets import load_dataset, load_metric\n",
        "import datasets\n",
        "\n",
        "# Import necessary libraries\n",
        "import torch\n",
        "from transformers import (\n",
        "    AutoTokenizer,\n",
        "    AutoModelForSeq2SeqLM,\n",
        "    Seq2SeqTrainer,\n",
        "    Seq2SeqTrainingArguments,\n",
        ")\n",
        "from datasets import load_dataset, Dataset, DatasetDict\n",
        "import pandas as pd\n",
        "import numpy as np\n",
        "import nltk\n",
        "import evaluate\n",
        "from rouge_score import rouge_scorer\n",
        "import os\n",
        "\n",
        "\n",
        "\n",
        "# Download the NLTK Punkt tokenizer for sentence splitting\n",
        "nltk.download('punkt')\n",
        "\n",
        "# Set up the device for computation (use GPU if available)\n",
        "device = torch.device(\"cuda\" if torch.cuda.is_available() else \"cpu\")\n",
        "print(f\"Using device: {device}\")\n",
        "\n",
        "import numpy as np"
      ],
      "metadata": {
        "id": "0CVEp_fPHOe7",
        "colab": {
          "base_uri": "https://localhost:8080/"
        },
        "outputId": "77783e1a-3605-4654-f883-84bacab4ba58"
      },
      "execution_count": 4,
      "outputs": [
        {
          "output_type": "stream",
          "name": "stderr",
          "text": [
            "[nltk_data] Downloading package punkt to /root/nltk_data...\n",
            "[nltk_data]   Unzipping tokenizers/punkt.zip.\n"
          ]
        },
        {
          "output_type": "stream",
          "name": "stdout",
          "text": [
            "Using device: cpu\n"
          ]
        }
      ]
    },
    {
      "cell_type": "code",
      "source": [
        "\n",
        "\n",
        "\n",
        "from transformers import AutoTokenizer\n",
        "from rouge_score import rouge_scorer\n",
        "\n",
        "# model_name = 'aubmindlab/bert-base-arabertv2'\n",
        "model_name = 'asafaya/bert-base-arabic'\n",
        "tokenizer = AutoTokenizer.from_pretrained(model_name) #huggingface model\n",
        "\n",
        "\n",
        "# Initialize ROUGE\n",
        "rouge = evaluate.load('rouge')\n",
        "r_scorer = rouge_scorer.RougeScorer(['rouge1', 'rouge2', 'rougeL'],  tokenizer=tokenizer)\n",
        "\n",
        "\n",
        "def compute_metrics_testset(reference_summaries, candidate_summaries):\n",
        "\n",
        "    scores = {'rouge1': [], 'rouge2': [], 'rougeL': []}\n",
        "\n",
        "    # Calculate scores for the list of texts\n",
        "    for ref, gen in zip(reference_summaries, candidate_summaries):\n",
        "      score = r_scorer.score(gen, ref)\n",
        "      # Append scores to respective lists\n",
        "      scores['rouge1'].append(score['rouge1'].fmeasure)\n",
        "      scores['rouge2'].append(score['rouge2'].fmeasure)\n",
        "      scores['rougeL'].append(score['rougeL'].fmeasure)\n",
        "\n",
        "    # Calculate mean scores\n",
        "    mean_scores = {metric: np.mean(values) for metric, values in scores.items()}\n",
        "\n",
        "\n",
        "    # Calculate the average length of the reference summaries\n",
        "    reference_lens = [len(label.split()) for label in candidate_summaries]\n",
        "    mean_scores['ref_len'] = np.mean(reference_lens)\n",
        "\n",
        "    # Calculate the average length of the generated summaries\n",
        "    prediction_lens = [len(pred.split()) for pred in reference_summaries]\n",
        "    mean_scores['gen_len'] = np.mean(prediction_lens)\n",
        "    print(f\"scores = {mean_scores}\")\n",
        "    return mean_scores"
      ],
      "metadata": {
        "id": "3ZHjr3_8INjM",
        "colab": {
          "base_uri": "https://localhost:8080/",
          "height": 286,
          "referenced_widgets": [
            "628fbdff8716447380558f0f272ce11b",
            "e4f88b3707d9422a9a0174b76fe1d734",
            "46881c1239bb4cdd8e8388b677df64b1",
            "b8a3a465d3b946ac84e328838a5022e5",
            "83119f3df0004c1abd0d9336469c622d",
            "bd6d1aede17447efb7f65ec16f33ad84",
            "2183fce6da7b466f9c758740607a0137",
            "5e9b3b0b802945f3b770c7056c80023c",
            "6c8e1d549cf44227962ce32b76bcefeb",
            "515dc92bbe7448f39a6413092d0dde9f",
            "3378e2a0120940458026da698061185a",
            "fc290a7d0e24428ba571ed6cbc31020b",
            "5b9f09986cc249bfbc24085c2162486a",
            "66d9182cb8594dc68f0f18f0d6625a6c",
            "bb238e7b299141a696c722c38174e57b",
            "be888a9fe7c24074840de9774e06db06",
            "8b2dc26e925041acb071808411111b03",
            "86237ab1a9cf47ee9bf1d96a8c648534",
            "7e2290280c304dcd8728a0733a5ac2b8",
            "3deb8f1d02b24f098eec5ee1839550f3",
            "ea4d38a4818d4cb69090ddd1b4c252aa",
            "da95b19196244cdca53196d133304f75",
            "8493cec18eb04f5f93c92f6997b535a5",
            "3b0f4175a1b7488ca3f38e9d61d7ebca",
            "3217a6a3048c42b4a07ff806e85ee2f3",
            "18099c212b7046daaa1ef47b11ac5e59",
            "3c67b6fe316b46ef8f13dd0bb918f2dd",
            "ce624b3d79eb4f32824d1a9cb1fc764f",
            "ce38e12a9e8b49ef8887d454c586787d",
            "2dccdc1d62994203aae9f4e1cce2dca1",
            "20bcd1c7e9ad4d059405e2a802be9a59",
            "a925f5fb2be34bdc9efcb36d7cde8ab8",
            "5de03049074041f1845a4e1c3c082a9e",
            "efc41cc5069e4866b649fc1a7417d3a9",
            "b8b17838e5b44a5a98baa036ce6f9a83",
            "0ad4d51a477849f2912aa33e0222e28e",
            "443d35e69ffc4e49b3adffcdde202a99",
            "179083191e7a4316941b2504c238175d",
            "8465804b7e2f4ae893414e69cd30becc",
            "71edfc8c87dc4e02823d970ce5dc49fd",
            "0b136d1031aa41d68bb1b95c520ca1d9",
            "0d5ce0e2f5ca4ce9971fb11125c38b7b",
            "331c64f08f4e43708dca5e35885a3f58",
            "1015d8e9e0b843d6b496974978718dfb",
            "80bc6ff9c09c4249b4cc85cbc386fc92",
            "c72ec04e347742d08eaef7ce1034dd6c",
            "79423fbc061948d0a9578d2a70407bab",
            "7e71734d17b0459989ee99807e967d40",
            "aee508b87dd34edca96c65ca64b80352",
            "77c0b79e7e7b46edb232babae872bfb2",
            "308533f655f8491c92e5a9e94625c364",
            "8b1c2904a2cc4731b38496434185d9a7",
            "67822ffd8aba4929ac0b9dde48832d77",
            "86c6fb1e24454fbeb3b863395945869f",
            "12de5abdd4d549939d4a6e5e7b210a24"
          ]
        },
        "outputId": "d8ece9fb-2697-4d31-a388-1c25aa59a404"
      },
      "execution_count": 5,
      "outputs": [
        {
          "output_type": "stream",
          "name": "stderr",
          "text": [
            "/usr/local/lib/python3.11/dist-packages/huggingface_hub/utils/_auth.py:94: UserWarning: \n",
            "The secret `HF_TOKEN` does not exist in your Colab secrets.\n",
            "To authenticate with the Hugging Face Hub, create a token in your settings tab (https://huggingface.co/settings/tokens), set it as secret in your Google Colab and restart your session.\n",
            "You will be able to reuse this secret in all of your notebooks.\n",
            "Please note that authentication is recommended but still optional to access public models or datasets.\n",
            "  warnings.warn(\n"
          ]
        },
        {
          "output_type": "display_data",
          "data": {
            "text/plain": [
              "tokenizer_config.json:   0%|          | 0.00/62.0 [00:00<?, ?B/s]"
            ],
            "application/vnd.jupyter.widget-view+json": {
              "version_major": 2,
              "version_minor": 0,
              "model_id": "628fbdff8716447380558f0f272ce11b"
            }
          },
          "metadata": {}
        },
        {
          "output_type": "display_data",
          "data": {
            "text/plain": [
              "config.json:   0%|          | 0.00/491 [00:00<?, ?B/s]"
            ],
            "application/vnd.jupyter.widget-view+json": {
              "version_major": 2,
              "version_minor": 0,
              "model_id": "fc290a7d0e24428ba571ed6cbc31020b"
            }
          },
          "metadata": {}
        },
        {
          "output_type": "display_data",
          "data": {
            "text/plain": [
              "vocab.txt:   0%|          | 0.00/334k [00:00<?, ?B/s]"
            ],
            "application/vnd.jupyter.widget-view+json": {
              "version_major": 2,
              "version_minor": 0,
              "model_id": "8493cec18eb04f5f93c92f6997b535a5"
            }
          },
          "metadata": {}
        },
        {
          "output_type": "display_data",
          "data": {
            "text/plain": [
              "special_tokens_map.json:   0%|          | 0.00/112 [00:00<?, ?B/s]"
            ],
            "application/vnd.jupyter.widget-view+json": {
              "version_major": 2,
              "version_minor": 0,
              "model_id": "efc41cc5069e4866b649fc1a7417d3a9"
            }
          },
          "metadata": {}
        },
        {
          "output_type": "display_data",
          "data": {
            "text/plain": [
              "Downloading builder script:   0%|          | 0.00/6.27k [00:00<?, ?B/s]"
            ],
            "application/vnd.jupyter.widget-view+json": {
              "version_major": 2,
              "version_minor": 0,
              "model_id": "80bc6ff9c09c4249b4cc85cbc386fc92"
            }
          },
          "metadata": {}
        }
      ]
    },
    {
      "cell_type": "code",
      "source": [
        "# Load the Arabic BERT model\n",
        "model_name = \"asafaya/bert-base-arabic\"\n",
        "#  model_name = 'aubmindlab/bert-base-arabertv2'\n",
        "\n",
        "def calculate_bertscore(references, candidates):\n",
        "    # Ensure CUDA is available (if you're using a GPU)\n",
        "    device = \"cuda\" if torch.cuda.is_available() else \"cpu\"\n",
        "\n",
        "\n",
        "    scorer = BERTScorer(model_type=model_name, num_layers=12, rescale_with_baseline=False)\n",
        "\n",
        "    # Calculate BERTScore\n",
        "    P, R, F1 = scorer.score(candidates, references)\n",
        "\n",
        "    # Print results\n",
        "    # print(\"\\nBERTScore results:\")\n",
        "    # for i, (p, r, f1) in enumerate(zip(P, R, F1)):\n",
        "    #     print(f\"Sentence pair {i+1}:\")\n",
        "    #     print(f\"  Reference: {references[i]}\")\n",
        "    #     print(f\"  Candidate: {candidates[i]}\")\n",
        "    #     print(f\"  Precision: {p.item():.4f}\")\n",
        "    #     print(f\"  Recall: {r.item():.4f}\")\n",
        "    #     print(f\"  F1: {f1.item():.4f}\")\n",
        "    #     print()\n",
        "\n",
        "    # Calculate and print average scores\n",
        "    avg_P = P.mean().item()\n",
        "    avg_R = R.mean().item()\n",
        "    avg_F1 = F1.mean().item()\n",
        "\n",
        "    print(\"Average scores:\")\n",
        "    print(f\"  Precision: {avg_P:.4f}\")\n",
        "    print(f\"  Recall: {avg_R:.4f}\")\n",
        "    print(f\"  F1: {avg_F1:.4f}\")\n",
        "\n",
        "    return avg_P, avg_R, avg_F1"
      ],
      "metadata": {
        "id": "57ES0OBLIWgK"
      },
      "execution_count": null,
      "outputs": []
    },
    {
      "cell_type": "markdown",
      "source": [
        "# **GPT4 Score Calculation**"
      ],
      "metadata": {
        "id": "EaUjHEvoHR6h"
      }
    },
    {
      "cell_type": "code",
      "source": [
        "from datasets import load_from_disk\n",
        "gpt4_path = \"/content/drive/MyDrive/WACL4_COLING_2025/comparaison_with_papers/models/gpt4/model_resultgpt4V2\"\n",
        "gpt4_dataset = load_from_disk(gpt4_path)\n",
        "gpt4_dataset"
      ],
      "metadata": {
        "id": "gLruFjBMHX8r",
        "colab": {
          "base_uri": "https://localhost:8080/"
        },
        "outputId": "a52c852f-78cc-4af7-d000-42b28f8353df"
      },
      "execution_count": 6,
      "outputs": [
        {
          "output_type": "execute_result",
          "data": {
            "text/plain": [
              "Dataset({\n",
              "    features: ['article', 'headline', 'categories', 'gpt_4_summary'],\n",
              "    num_rows: 9497\n",
              "})"
            ]
          },
          "metadata": {},
          "execution_count": 6
        }
      ]
    },
    {
      "cell_type": "code",
      "source": [
        "reference_summaries = gpt4_dataset['headline']\n",
        "candidate_summaries = gpt4_dataset['gpt_4_summary']\n",
        "compute_metrics_testset(reference_summaries, candidate_summaries)"
      ],
      "metadata": {
        "colab": {
          "base_uri": "https://localhost:8080/"
        },
        "id": "rts21Rdh2qQ7",
        "outputId": "d2c6861b-41c8-4086-ce1d-05e3faa26f70"
      },
      "execution_count": null,
      "outputs": [
        {
          "output_type": "stream",
          "name": "stdout",
          "text": [
            "scores = {'rouge1': 0.18047567175570373, 'rouge2': 0.07758235502210707, 'rougeL': 0.15951473102853175, 'ref_len': 12.14846793724334, 'gen_len': 13.518058334210803}\n"
          ]
        },
        {
          "output_type": "execute_result",
          "data": {
            "text/plain": [
              "{'rouge1': 0.18047567175570373,\n",
              " 'rouge2': 0.07758235502210707,\n",
              " 'rougeL': 0.15951473102853175,\n",
              " 'ref_len': 12.14846793724334,\n",
              " 'gen_len': 13.518058334210803}"
            ]
          },
          "metadata": {},
          "execution_count": 22
        }
      ]
    },
    {
      "cell_type": "code",
      "source": [
        "avg_P, avg_R, avg_F1 = calculate_bertscore(reference_summaries, candidate_summaries)"
      ],
      "metadata": {
        "colab": {
          "base_uri": "https://localhost:8080/",
          "height": 118,
          "referenced_widgets": [
            "943a0363bfcd4070893eb72ef9207f25",
            "619f0163d0334093a553b5abe4d41d12",
            "a82d042eb33c4d6c95f6ed130c80dfc5",
            "c6ef71f494e54f2fbaa46c6eb156bb23",
            "2ea11f44881144cd9b28e4773884182c",
            "42a284e2a7dc4c3bbef982070508d063",
            "70db0c09fb3044c7a2d344d1ecbcfd59",
            "9c976dbf175045c1a20e3d645024afa0",
            "d22ef7621104430898b9e6e4dedaa805",
            "050809dde6bc4256b890176ebea4c771",
            "ec680ca66da04e90b596b98540c78226"
          ]
        },
        "id": "bJkySlO_2LCV",
        "outputId": "8c232968-c931-4894-d781-04f9e5d27dbb"
      },
      "execution_count": null,
      "outputs": [
        {
          "output_type": "display_data",
          "data": {
            "text/plain": [
              "model.safetensors:   0%|          | 0.00/445M [00:00<?, ?B/s]"
            ],
            "application/vnd.jupyter.widget-view+json": {
              "version_major": 2,
              "version_minor": 0,
              "model_id": "943a0363bfcd4070893eb72ef9207f25"
            }
          },
          "metadata": {}
        },
        {
          "output_type": "stream",
          "name": "stdout",
          "text": [
            "Average scores:\n",
            "  Precision: 0.6060\n",
            "  Recall: 0.5976\n",
            "  F1: 0.6007\n"
          ]
        }
      ]
    },
    {
      "cell_type": "code",
      "source": [
        "avg_P, avg_R, avg_F1 = calculate_bertscore(reference_summaries, candidate_summaries)"
      ],
      "metadata": {
        "colab": {
          "base_uri": "https://localhost:8080/"
        },
        "id": "X6AzPAxyTY9T",
        "outputId": "417ea0cf-1be5-458e-9cf2-0f0d19abcb3f"
      },
      "execution_count": null,
      "outputs": [
        {
          "output_type": "stream",
          "name": "stdout",
          "text": [
            "Average scores:\n",
            "  Precision: 0.6060\n",
            "  Recall: 0.5976\n",
            "  F1: 0.6007\n"
          ]
        }
      ]
    },
    {
      "cell_type": "code",
      "source": [
        "avg_F1"
      ],
      "metadata": {
        "colab": {
          "base_uri": "https://localhost:8080/"
        },
        "id": "Bc4Szl4cVpIe",
        "outputId": "43a91286-0b0d-4ea4-8f63-caa1afcbe2f7"
      },
      "execution_count": null,
      "outputs": [
        {
          "output_type": "execute_result",
          "data": {
            "text/plain": [
              "0.6007148623466492"
            ]
          },
          "metadata": {},
          "execution_count": 13
        }
      ]
    },
    {
      "cell_type": "markdown",
      "source": [
        "# **Mistral, LLAMA3, GEMMA Score Calculation**"
      ],
      "metadata": {
        "id": "V3nvIZbHHmkv"
      }
    },
    {
      "cell_type": "code",
      "source": [
        "from datasets import load_dataset, concatenate_datasets\n",
        "path1 = \"/content/drive/MyDrive/WACL4_COLING_2025/comparaison_with_papers/models/mistral/split_datasets/goud_test_part_llama_sum_part_1\"\n",
        "path2 = \"/content/drive/MyDrive/WACL4_COLING_2025/comparaison_with_papers/models/mistral/split_datasets/goud_test_part_llama_sum_part_2\"\n",
        "path3 = \"/content/drive/MyDrive/WACL4_COLING_2025/comparaison_with_papers/models/mistral/split_datasets/goud_test_part_llama_sum_part_3\"\n",
        "path4 = \"/content/drive/MyDrive/WACL4_COLING_2025/comparaison_with_papers/models/mistral/split_datasets/goud_test_part_gemma_sum_part_4\"\n",
        "\n",
        "\n",
        "\n",
        "llm_dataset = combined_dataset = concatenate_datasets([load_from_disk(path1), load_from_disk(path2), load_from_disk(path3), load_from_disk(path4)])\n",
        "llm_dataset"
      ],
      "metadata": {
        "id": "mVqHUlwkH2ar",
        "colab": {
          "base_uri": "https://localhost:8080/"
        },
        "outputId": "2ec17306-4bda-44d5-8768-2af26663e4e5"
      },
      "execution_count": null,
      "outputs": [
        {
          "output_type": "execute_result",
          "data": {
            "text/plain": [
              "Dataset({\n",
              "    features: ['article', 'headline', 'categories', 'text', 'mistral_generated_summary', 'llama_generated_summary', 'gemma_generated_summary'],\n",
              "    num_rows: 9497\n",
              "})"
            ]
          },
          "metadata": {},
          "execution_count": 24
        }
      ]
    },
    {
      "cell_type": "code",
      "source": [
        "reference_summaries = llm_dataset['headline']\n",
        "candidate_summaries = llm_dataset['llama_generated_summary']\n",
        "compute_metrics_testset(reference_summaries, candidate_summaries)"
      ],
      "metadata": {
        "colab": {
          "base_uri": "https://localhost:8080/"
        },
        "id": "qC_bj7Jh4ZlE",
        "outputId": "19914fa6-027a-440d-f22c-23cd15557a1b"
      },
      "execution_count": null,
      "outputs": [
        {
          "output_type": "stream",
          "name": "stdout",
          "text": [
            "scores = {'rouge1': 0.16595715325596, 'rouge2': 0.07170393849923103, 'rougeL': 0.14438752748324177, 'ref_len': 13.77255975571233, 'gen_len': 13.518058334210803}\n"
          ]
        },
        {
          "output_type": "execute_result",
          "data": {
            "text/plain": [
              "{'rouge1': 0.16595715325596,\n",
              " 'rouge2': 0.07170393849923103,\n",
              " 'rougeL': 0.14438752748324177,\n",
              " 'ref_len': 13.77255975571233,\n",
              " 'gen_len': 13.518058334210803}"
            ]
          },
          "metadata": {},
          "execution_count": 25
        }
      ]
    },
    {
      "cell_type": "code",
      "source": [
        "\n",
        "avg_P, avg_R, avg_F1 = calculate_bertscore(reference_summaries, candidate_summaries)"
      ],
      "metadata": {
        "colab": {
          "base_uri": "https://localhost:8080/"
        },
        "id": "6-WrKurzVsBj",
        "outputId": "0eb197bb-9c64-4228-9c81-056236d5bd0d"
      },
      "execution_count": null,
      "outputs": [
        {
          "output_type": "stream",
          "name": "stdout",
          "text": [
            "Average scores:\n",
            "  Precision: 0.5922\n",
            "  Recall: 0.5816\n",
            "  F1: 0.5852\n"
          ]
        }
      ]
    },
    {
      "cell_type": "code",
      "source": [
        "avg_F1"
      ],
      "metadata": {
        "colab": {
          "base_uri": "https://localhost:8080/"
        },
        "id": "tifkUAJVVtm_",
        "outputId": "a8508886-1e57-4b6f-f7c9-4f801a752d30"
      },
      "execution_count": null,
      "outputs": [
        {
          "output_type": "execute_result",
          "data": {
            "text/plain": [
              "0.5852301120758057"
            ]
          },
          "metadata": {},
          "execution_count": 27
        }
      ]
    },
    {
      "cell_type": "code",
      "source": [
        "import re\n",
        "cleaned_text = re.sub(r'[</s>\\n,]|Descartado|Descarté:', '', summary)\n",
        "cleaned_text"
      ],
      "metadata": {
        "colab": {
          "base_uri": "https://localhost:8080/",
          "height": 36
        },
        "id": "KWH4vgsZXmLp",
        "outputId": "050cd058-20a8-4336-e285-15f368647399"
      },
      "execution_count": null,
      "outputs": [
        {
          "output_type": "execute_result",
          "data": {
            "text/plain": [
              "'  el Real Madrid para la final de la Champion League'"
            ],
            "application/vnd.google.colaboratory.intrinsic+json": {
              "type": "string"
            }
          },
          "metadata": {},
          "execution_count": 22
        }
      ]
    },
    {
      "cell_type": "code",
      "source": [
        "!pip install googletrans==3.1.0a0\n"
      ],
      "metadata": {
        "colab": {
          "base_uri": "https://localhost:8080/",
          "height": 585
        },
        "id": "SfwRARJxZbu5",
        "outputId": "a37ec7c5-669a-445e-add6-3c4bd7d98528"
      },
      "execution_count": null,
      "outputs": [
        {
          "output_type": "stream",
          "name": "stdout",
          "text": [
            "Collecting googletrans==3.1.0a0\n",
            "  Downloading googletrans-3.1.0a0.tar.gz (19 kB)\n",
            "  Preparing metadata (setup.py) ... \u001b[?25l\u001b[?25hdone\n",
            "Requirement already satisfied: httpx==0.13.3 in /usr/local/lib/python3.10/dist-packages (from googletrans==3.1.0a0) (0.13.3)\n",
            "Requirement already satisfied: certifi in /usr/local/lib/python3.10/dist-packages (from httpx==0.13.3->googletrans==3.1.0a0) (2024.8.30)\n",
            "Requirement already satisfied: hstspreload in /usr/local/lib/python3.10/dist-packages (from httpx==0.13.3->googletrans==3.1.0a0) (2024.11.1)\n",
            "Requirement already satisfied: sniffio in /usr/local/lib/python3.10/dist-packages (from httpx==0.13.3->googletrans==3.1.0a0) (1.3.1)\n",
            "Requirement already satisfied: chardet==3.* in /usr/local/lib/python3.10/dist-packages (from httpx==0.13.3->googletrans==3.1.0a0) (3.0.4)\n",
            "Requirement already satisfied: idna==2.* in /usr/local/lib/python3.10/dist-packages (from httpx==0.13.3->googletrans==3.1.0a0) (2.10)\n",
            "Requirement already satisfied: rfc3986<2,>=1.3 in /usr/local/lib/python3.10/dist-packages (from httpx==0.13.3->googletrans==3.1.0a0) (1.5.0)\n",
            "Requirement already satisfied: httpcore==0.9.* in /usr/local/lib/python3.10/dist-packages (from httpx==0.13.3->googletrans==3.1.0a0) (0.9.1)\n",
            "Requirement already satisfied: h11<0.10,>=0.8 in /usr/local/lib/python3.10/dist-packages (from httpcore==0.9.*->httpx==0.13.3->googletrans==3.1.0a0) (0.9.0)\n",
            "Requirement already satisfied: h2==3.* in /usr/local/lib/python3.10/dist-packages (from httpcore==0.9.*->httpx==0.13.3->googletrans==3.1.0a0) (3.2.0)\n",
            "Requirement already satisfied: hyperframe<6,>=5.2.0 in /usr/local/lib/python3.10/dist-packages (from h2==3.*->httpcore==0.9.*->httpx==0.13.3->googletrans==3.1.0a0) (5.2.0)\n",
            "Requirement already satisfied: hpack<4,>=3.0 in /usr/local/lib/python3.10/dist-packages (from h2==3.*->httpcore==0.9.*->httpx==0.13.3->googletrans==3.1.0a0) (3.0.0)\n",
            "Building wheels for collected packages: googletrans\n",
            "  Building wheel for googletrans (setup.py) ... \u001b[?25l\u001b[?25hdone\n",
            "  Created wheel for googletrans: filename=googletrans-3.1.0a0-py3-none-any.whl size=16353 sha256=f5df327b0d316c210b34268ad2af564f92953ce7ff654eca516fb524410787d7\n",
            "  Stored in directory: /root/.cache/pip/wheels/50/5d/3c/8477d0af4ca2b8b1308812c09f1930863caeebc762fe265a95\n",
            "Successfully built googletrans\n",
            "Installing collected packages: googletrans\n",
            "  Attempting uninstall: googletrans\n",
            "    Found existing installation: googletrans 3.0.0\n",
            "    Uninstalling googletrans-3.0.0:\n",
            "      Successfully uninstalled googletrans-3.0.0\n",
            "Successfully installed googletrans-3.1.0a0\n"
          ]
        },
        {
          "output_type": "display_data",
          "data": {
            "application/vnd.colab-display-data+json": {
              "pip_warning": {
                "packages": [
                  "googletrans"
                ]
              },
              "id": "23f5892121eb4bd9aaa319609be0d10f"
            }
          },
          "metadata": {}
        }
      ]
    },
    {
      "cell_type": "code",
      "source": [
        "from googletrans import Translator\n",
        "\n",
        "translator = Translator()\n"
      ],
      "metadata": {
        "colab": {
          "base_uri": "https://localhost:8080/"
        },
        "id": "HOq96sK5Y2Vz",
        "outputId": "e7302b82-e101-4cfc-c450-5fd27bc28f7a"
      },
      "execution_count": null,
      "outputs": [
        {
          "output_type": "stream",
          "name": "stdout",
          "text": [
            "ريال مدريد لنهائي دوري أبطال أوروبا\n"
          ]
        }
      ]
    },
    {
      "cell_type": "code",
      "source": [
        "type(translated_text.text)"
      ],
      "metadata": {
        "colab": {
          "base_uri": "https://localhost:8080/"
        },
        "id": "0SU_w-x5aYsd",
        "outputId": "b2fbbe32-5617-4b63-ca12-c2298155994b"
      },
      "execution_count": null,
      "outputs": [
        {
          "output_type": "execute_result",
          "data": {
            "text/plain": [
              "str"
            ]
          },
          "metadata": {},
          "execution_count": 9
        }
      ]
    },
    {
      "cell_type": "code",
      "source": [
        "import re\n",
        "def preprocess_mistral_summary(summary):\n",
        "  summary = summary.split(\"### Title:\")[2]\n",
        "  summary = summary.split(\"### Text:\")[0]\n",
        "  cleaned_text = re.sub(r'[</s>\\n,]|Descartado|Descarté:', '', summary)\n",
        "  translated_text = translator.translate(cleaned_text, dest='ar')\n",
        "  cleaned_summary = translated_text.text\n",
        "  return cleaned_summary"
      ],
      "metadata": {
        "id": "u-ky6sSKaIeh"
      },
      "execution_count": null,
      "outputs": []
    },
    {
      "cell_type": "code",
      "source": [
        "from tqdm import tqdm\n",
        "mistral_generated_summaries = []\n",
        "for i in tqdm(range(len(llm_dataset))):\n",
        "  mistral_summary = llm_dataset[i][\"mistral_generated_summary\"]\n",
        "  cleaned_summary = preprocess_mistral_summary(mistral_summary)\n",
        "  mistral_generated_summaries.append(cleaned_summary)"
      ],
      "metadata": {
        "colab": {
          "base_uri": "https://localhost:8080/"
        },
        "id": "jMJRDtgQZ69I",
        "outputId": "b063d252-ae61-435e-c8bf-768127ba2b2a"
      },
      "execution_count": null,
      "outputs": [
        {
          "output_type": "stream",
          "name": "stderr",
          "text": [
            "100%|██████████| 9497/9497 [25:31<00:00,  6.20it/s]\n"
          ]
        }
      ]
    },
    {
      "cell_type": "code",
      "source": [
        "llm_dataset"
      ],
      "metadata": {
        "colab": {
          "base_uri": "https://localhost:8080/"
        },
        "id": "1D2-18lSiC-S",
        "outputId": "50e3af85-e8b9-48fc-8605-4e68f663abad"
      },
      "execution_count": null,
      "outputs": [
        {
          "output_type": "execute_result",
          "data": {
            "text/plain": [
              "Dataset({\n",
              "    features: ['article', 'headline', 'categories', 'text', 'mistral_generated_summary', 'llama_generated_summary', 'gemma_generated_summary'],\n",
              "    num_rows: 9497\n",
              "})"
            ]
          },
          "metadata": {},
          "execution_count": 18
        }
      ]
    },
    {
      "cell_type": "code",
      "source": [
        "# Add the new column to the dataset\n",
        "llm_dataset_new = llm_dataset.add_column(\"mistral_generated_summary_ar\", mistral_generated_summaries)\n",
        "output_dir=\"/content/drive/MyDrive/WACL4_COLING_2025/comparaison_with_papers/models/mistral\"\n",
        "split_dir = f\"{output_dir}/full_dataset\"\n",
        "llm_dataset_new.save_to_disk(split_dir)"
      ],
      "metadata": {
        "colab": {
          "base_uri": "https://localhost:8080/",
          "height": 49,
          "referenced_widgets": [
            "3f5cbc4f51704da1b17344a871fb449c",
            "177a1d3cc0e74986970226346b067678",
            "0b1f1cc67f2141d086c053337e6c6368",
            "947bf2f7a4754f3b93088e2ade3fc733",
            "4b6a645b2d2248b19fc497be898a7126",
            "bdc1d70be7f44e7992c2db3cf28da800",
            "f2500f537c674dd7b348e3faed980070",
            "69662a042ae74e6ca6ee18784429f4a3",
            "42fe5c0c67c9482bbf873c90d4a0488d",
            "f4c2741a86374ff9af51000246eb1f64",
            "5792b0472a3a49de9a3cf8a9b723917d"
          ]
        },
        "id": "mvLlhKHAh014",
        "outputId": "95b8da97-e030-46ae-e324-fc3f2450937e"
      },
      "execution_count": null,
      "outputs": [
        {
          "output_type": "display_data",
          "data": {
            "text/plain": [
              "Saving the dataset (0/1 shards):   0%|          | 0/9497 [00:00<?, ? examples/s]"
            ],
            "application/vnd.jupyter.widget-view+json": {
              "version_major": 2,
              "version_minor": 0,
              "model_id": "3f5cbc4f51704da1b17344a871fb449c"
            }
          },
          "metadata": {}
        }
      ]
    },
    {
      "cell_type": "code",
      "source": [
        "path = \"/content/drive/MyDrive/WACL4_COLING_2025/comparaison_with_papers/models/mistral/full_dataset\"\n",
        "llm_dataset_new = load_from_disk(path)\n",
        "llm_dataset_new"
      ],
      "metadata": {
        "colab": {
          "base_uri": "https://localhost:8080/"
        },
        "id": "J_CnNCSE5MwS",
        "outputId": "b6e93ac5-1cda-44ad-a1da-05d6fb0683ab"
      },
      "execution_count": null,
      "outputs": [
        {
          "output_type": "execute_result",
          "data": {
            "text/plain": [
              "Dataset({\n",
              "    features: ['article', 'headline', 'categories', 'text', 'mistral_generated_summary', 'llama_generated_summary', 'mistral_generated_summary_ar', 'gemma_generated_summary'],\n",
              "    num_rows: 9497\n",
              "})"
            ]
          },
          "metadata": {},
          "execution_count": 31
        }
      ]
    },
    {
      "cell_type": "code",
      "source": [
        "mistral_generated_summaries = []\n",
        "for i in range(len(llm_dataset_new)):\n",
        "  abs_summaries = llm_dataset_new[i][\"mistral_generated_summary_ar\"][0]\n",
        "  mistral_generated_summaries.append(abs_summaries)"
      ],
      "metadata": {
        "id": "k7SCwSt-iVq1"
      },
      "execution_count": null,
      "outputs": []
    },
    {
      "cell_type": "code",
      "source": [
        "reference_summaries = llm_dataset['headline']\n",
        "candidate_summaries = mistral_generated_summaries\n",
        "compute_metrics_testset(reference_summaries, candidate_summaries)\n"
      ],
      "metadata": {
        "colab": {
          "base_uri": "https://localhost:8080/"
        },
        "id": "Bxsk5I675oU4",
        "outputId": "4182f4ff-27b4-4125-a5c3-d5cbe69a2693"
      },
      "execution_count": null,
      "outputs": [
        {
          "output_type": "stream",
          "name": "stdout",
          "text": [
            "scores = {'rouge1': 0.07057926270038548, 'rouge2': 0.02111807546797575, 'rougeL': 0.06404359402321676, 'ref_len': 8.014215015267979, 'gen_len': 13.518058334210803}\n"
          ]
        },
        {
          "output_type": "execute_result",
          "data": {
            "text/plain": [
              "{'rouge1': 0.07057926270038548,\n",
              " 'rouge2': 0.02111807546797575,\n",
              " 'rougeL': 0.06404359402321676,\n",
              " 'ref_len': 8.014215015267979,\n",
              " 'gen_len': 13.518058334210803}"
            ]
          },
          "metadata": {},
          "execution_count": 34
        }
      ]
    },
    {
      "cell_type": "code",
      "source": [
        "avg_P, avg_R, avg_F1 = calculate_bertscore(reference_summaries, candidate_summaries)"
      ],
      "metadata": {
        "colab": {
          "base_uri": "https://localhost:8080/"
        },
        "id": "tXSN7QWbjFDO",
        "outputId": "7bd92fcd-28d3-4735-a1aa-f4d3038594f6"
      },
      "execution_count": null,
      "outputs": [
        {
          "output_type": "stream",
          "name": "stdout",
          "text": [
            "Average scores:\n",
            "  Precision: 0.5621\n",
            "  Recall: 0.5278\n",
            "  F1: 0.5431\n"
          ]
        }
      ]
    },
    {
      "cell_type": "code",
      "source": [
        "avg_F1"
      ],
      "metadata": {
        "colab": {
          "base_uri": "https://localhost:8080/"
        },
        "id": "VNmWZ9fljz8X",
        "outputId": "af894d1a-5b02-4575-b445-ac13287bb054"
      },
      "execution_count": null,
      "outputs": [
        {
          "output_type": "execute_result",
          "data": {
            "text/plain": [
              "0.5430681109428406"
            ]
          },
          "metadata": {},
          "execution_count": 42
        }
      ]
    },
    {
      "cell_type": "code",
      "source": [
        "0.5430681109428406 * 100"
      ],
      "metadata": {
        "colab": {
          "base_uri": "https://localhost:8080/"
        },
        "id": "NAoxGC7Co9Ks",
        "outputId": "46191b84-6566-4177-b398-388665e9be85"
      },
      "execution_count": null,
      "outputs": [
        {
          "output_type": "execute_result",
          "data": {
            "text/plain": [
              "54.30681109428406"
            ]
          },
          "metadata": {},
          "execution_count": 72
        }
      ]
    },
    {
      "cell_type": "markdown",
      "source": [
        "# **Seq2Seq Score Calculation**"
      ],
      "metadata": {
        "id": "5CUigqZXHrGe"
      }
    },
    {
      "cell_type": "markdown",
      "source": [
        "**AraBart**"
      ],
      "metadata": {
        "id": "vBgqYq6drLAb"
      }
    },
    {
      "cell_type": "code",
      "source": [
        "path = \"/content/drive/MyDrive/WACL4_COLING_2025/comparaison_with_papers/models/AraBART/model_result\"\n",
        "d2 = load_from_disk(path)\n",
        "d2"
      ],
      "metadata": {
        "id": "V0450GfhH3CU",
        "colab": {
          "base_uri": "https://localhost:8080/"
        },
        "outputId": "1720674d-a8a1-40db-d50d-a3a044498b64"
      },
      "execution_count": null,
      "outputs": [
        {
          "output_type": "execute_result",
          "data": {
            "text/plain": [
              "Dataset({\n",
              "    features: ['article', 'headline', 'categories', 'generated_summary_arabart'],\n",
              "    num_rows: 9497\n",
              "})"
            ]
          },
          "metadata": {},
          "execution_count": 36
        }
      ]
    },
    {
      "cell_type": "code",
      "source": [
        "reference_summaries = d2['headline']\n",
        "candidate_summaries = d2['generated_summary_arabart']\n",
        "compute_metrics_testset(reference_summaries, candidate_summaries)\n"
      ],
      "metadata": {
        "colab": {
          "base_uri": "https://localhost:8080/"
        },
        "id": "bb90v-cdpsdj",
        "outputId": "558c8c1e-8fd1-4323-da24-2c08dbbc7dac"
      },
      "execution_count": null,
      "outputs": [
        {
          "output_type": "stream",
          "name": "stdout",
          "text": [
            "scores = {'rouge1': 0.31510330139891235, 'rouge2': 0.19238852973326376, 'rougeL': 0.2897650763185098, 'ref_len': 10.807834052858798, 'gen_len': 13.518058334210803}\n"
          ]
        },
        {
          "output_type": "execute_result",
          "data": {
            "text/plain": [
              "{'rouge1': 0.31510330139891235,\n",
              " 'rouge2': 0.19238852973326376,\n",
              " 'rougeL': 0.2897650763185098,\n",
              " 'ref_len': 10.807834052858798,\n",
              " 'gen_len': 13.518058334210803}"
            ]
          },
          "metadata": {},
          "execution_count": 37
        }
      ]
    },
    {
      "cell_type": "code",
      "source": [
        "avg_P, avg_R, avg_F1 = calculate_bertscore(reference_summaries, candidate_summaries)"
      ],
      "metadata": {
        "colab": {
          "base_uri": "https://localhost:8080/"
        },
        "id": "j_amQBFBpwHJ",
        "outputId": "c9221738-fb4a-406b-c4f2-e1e7b2bca700"
      },
      "execution_count": null,
      "outputs": [
        {
          "output_type": "stream",
          "name": "stdout",
          "text": [
            "Average scores:\n",
            "  Precision: 0.6742\n",
            "  Recall: 0.6528\n",
            "  F1: 0.6621\n"
          ]
        }
      ]
    },
    {
      "cell_type": "code",
      "source": [
        "avg_F1"
      ],
      "metadata": {
        "colab": {
          "base_uri": "https://localhost:8080/"
        },
        "id": "GqyJF2xdpxxb",
        "outputId": "ee7556d7-4f37-4ba3-eaee-460503423140"
      },
      "execution_count": null,
      "outputs": [
        {
          "output_type": "execute_result",
          "data": {
            "text/plain": [
              "0.66206294298172"
            ]
          },
          "metadata": {},
          "execution_count": 76
        }
      ]
    },
    {
      "cell_type": "markdown",
      "source": [
        "**AraT5**"
      ],
      "metadata": {
        "id": "PeFTCKbRrPyn"
      }
    },
    {
      "cell_type": "code",
      "source": [
        "path = \"/content/drive/MyDrive/WACL4_COLING_2025/comparaison_with_papers/models/AraT5/model_result\"\n",
        "d2 = load_from_disk(path)\n",
        "d2"
      ],
      "metadata": {
        "colab": {
          "base_uri": "https://localhost:8080/"
        },
        "id": "-EzUav5yrR4w",
        "outputId": "592678c0-6e1b-4b5e-c056-3b2cf28dd4d7"
      },
      "execution_count": null,
      "outputs": [
        {
          "output_type": "execute_result",
          "data": {
            "text/plain": [
              "Dataset({\n",
              "    features: ['article', 'headline', 'categories', 'generated_summary_Arat5'],\n",
              "    num_rows: 9497\n",
              "})"
            ]
          },
          "metadata": {},
          "execution_count": 38
        }
      ]
    },
    {
      "cell_type": "code",
      "source": [
        "reference_summaries = d2['headline']\n",
        "candidate_summaries = d2['generated_summary_Arat5']\n",
        "compute_metrics_testset(reference_summaries, candidate_summaries)\n"
      ],
      "metadata": {
        "colab": {
          "base_uri": "https://localhost:8080/"
        },
        "id": "hDTzvepLrUwo",
        "outputId": "3974f667-db8d-4c88-acfd-f1ad913d3dd3"
      },
      "execution_count": null,
      "outputs": [
        {
          "output_type": "stream",
          "name": "stdout",
          "text": [
            "scores = {'rouge1': 0.32628692463738523, 'rouge2': 0.20155623674791948, 'rougeL': 0.29974322397678776, 'ref_len': 11.02716647362325, 'gen_len': 13.518058334210803}\n"
          ]
        },
        {
          "output_type": "execute_result",
          "data": {
            "text/plain": [
              "{'rouge1': 0.32628692463738523,\n",
              " 'rouge2': 0.20155623674791948,\n",
              " 'rougeL': 0.29974322397678776,\n",
              " 'ref_len': 11.02716647362325,\n",
              " 'gen_len': 13.518058334210803}"
            ]
          },
          "metadata": {},
          "execution_count": 39
        }
      ]
    },
    {
      "cell_type": "code",
      "source": [
        "avg_P, avg_R, avg_F1 = calculate_bertscore(reference_summaries, candidate_summaries)\n",
        "avg_F1"
      ],
      "metadata": {
        "colab": {
          "base_uri": "https://localhost:8080/"
        },
        "id": "F27eB-UurUkL",
        "outputId": "16a66a93-44e3-46b0-9376-0a06e4875f80"
      },
      "execution_count": null,
      "outputs": [
        {
          "output_type": "stream",
          "name": "stdout",
          "text": [
            "Average scores:\n",
            "  Precision: 0.6761\n",
            "  Recall: 0.6564\n",
            "  F1: 0.6648\n"
          ]
        },
        {
          "output_type": "execute_result",
          "data": {
            "text/plain": [
              "0.6648486256599426"
            ]
          },
          "metadata": {},
          "execution_count": 40
        }
      ]
    },
    {
      "cell_type": "markdown",
      "source": [
        "**MBart**"
      ],
      "metadata": {
        "id": "_L-Sldmlr_pf"
      }
    },
    {
      "cell_type": "code",
      "source": [
        "path = \"/content/drive/MyDrive/WACL4_COLING_2025/comparaison_with_papers/models/MBART/model_result\"\n",
        "d2 = load_from_disk(path)\n",
        "d2"
      ],
      "metadata": {
        "colab": {
          "base_uri": "https://localhost:8080/"
        },
        "id": "pmGEv-4hsF5-",
        "outputId": "3eae3f8d-a52f-4ea9-92b9-888a13efab3c"
      },
      "execution_count": null,
      "outputs": [
        {
          "output_type": "execute_result",
          "data": {
            "text/plain": [
              "Dataset({\n",
              "    features: ['article', 'headline', 'categories', 'generated_summary_mbart50'],\n",
              "    num_rows: 9497\n",
              "})"
            ]
          },
          "metadata": {},
          "execution_count": 41
        }
      ]
    },
    {
      "cell_type": "code",
      "source": [
        "reference_summaries = d2['headline']\n",
        "candidate_summaries = d2['generated_summary_mbart50']\n",
        "compute_metrics_testset(reference_summaries, candidate_summaries)\n"
      ],
      "metadata": {
        "colab": {
          "base_uri": "https://localhost:8080/"
        },
        "id": "vZQ-cf_SsMqr",
        "outputId": "4e72c664-66df-4aa9-e5ab-cf2947c7fea9"
      },
      "execution_count": null,
      "outputs": [
        {
          "output_type": "stream",
          "name": "stdout",
          "text": [
            "scores = {'rouge1': 0.33555079238855895, 'rouge2': 0.21563513728851177, 'rougeL': 0.30865661859165544, 'ref_len': 10.760661261450984, 'gen_len': 13.518058334210803}\n"
          ]
        },
        {
          "output_type": "execute_result",
          "data": {
            "text/plain": [
              "{'rouge1': 0.33555079238855895,\n",
              " 'rouge2': 0.21563513728851177,\n",
              " 'rougeL': 0.30865661859165544,\n",
              " 'ref_len': 10.760661261450984,\n",
              " 'gen_len': 13.518058334210803}"
            ]
          },
          "metadata": {},
          "execution_count": 42
        }
      ]
    },
    {
      "cell_type": "code",
      "source": [
        "avg_P, avg_R, avg_F1 = calculate_bertscore(reference_summaries, candidate_summaries)\n",
        "avg_F1"
      ],
      "metadata": {
        "colab": {
          "base_uri": "https://localhost:8080/"
        },
        "id": "zphBc2yUsO3v",
        "outputId": "f81f7388-8df4-4880-b5c1-a9751b0b2f3c"
      },
      "execution_count": null,
      "outputs": [
        {
          "output_type": "stream",
          "name": "stdout",
          "text": [
            "Average scores:\n",
            "  Precision: 0.6842\n",
            "  Recall: 0.6628\n",
            "  F1: 0.6722\n"
          ]
        },
        {
          "output_type": "execute_result",
          "data": {
            "text/plain": [
              "0.6721636652946472"
            ]
          },
          "metadata": {},
          "execution_count": 43
        }
      ]
    },
    {
      "cell_type": "markdown",
      "source": [
        "# **Encoder Only Score Calculation**"
      ],
      "metadata": {
        "id": "tSBlUj7TH1V8"
      }
    },
    {
      "cell_type": "markdown",
      "source": [
        "**DZBert**"
      ],
      "metadata": {
        "id": "ihsWunOjuCpq"
      }
    },
    {
      "cell_type": "code",
      "source": [
        "path = \"/content/drive/MyDrive/WACL4_COLING_2025/comparaison_with_papers/models/dziriBERT/model_result\"\n",
        "d2 = load_from_disk(path)\n",
        "d2"
      ],
      "metadata": {
        "id": "LkB785lzHl9Z",
        "colab": {
          "base_uri": "https://localhost:8080/"
        },
        "outputId": "e0430e9a-2ec6-4153-ce22-9b61b60df1a2"
      },
      "execution_count": null,
      "outputs": [
        {
          "output_type": "execute_result",
          "data": {
            "text/plain": [
              "Dataset({\n",
              "    features: ['article', 'headline', 'categories', 'generated_summary_dzbert_BERT2BERT'],\n",
              "    num_rows: 9497\n",
              "})"
            ]
          },
          "metadata": {},
          "execution_count": 44
        }
      ]
    },
    {
      "cell_type": "code",
      "source": [
        "reference_summaries = d2['headline']\n",
        "candidate_summaries = d2['generated_summary_dzbert_BERT2BERT']\n",
        "compute_metrics_testset(reference_summaries, candidate_summaries)\n"
      ],
      "metadata": {
        "colab": {
          "base_uri": "https://localhost:8080/"
        },
        "id": "u9aZegrV27PH",
        "outputId": "ae993953-a1d2-4cdf-81c1-70133a7fdd89"
      },
      "execution_count": null,
      "outputs": [
        {
          "output_type": "stream",
          "name": "stdout",
          "text": [
            "scores = {'rouge1': 0.2416220861295027, 'rouge2': 0.12428194962945674, 'rougeL': 0.21890651364408484, 'ref_len': 10.437822470253764, 'gen_len': 13.518058334210803}\n"
          ]
        },
        {
          "output_type": "execute_result",
          "data": {
            "text/plain": [
              "{'rouge1': 0.2416220861295027,\n",
              " 'rouge2': 0.12428194962945674,\n",
              " 'rougeL': 0.21890651364408484,\n",
              " 'ref_len': 10.437822470253764,\n",
              " 'gen_len': 13.518058334210803}"
            ]
          },
          "metadata": {},
          "execution_count": 46
        }
      ]
    },
    {
      "cell_type": "code",
      "source": [
        "avg_P, avg_R, avg_F1 = calculate_bertscore(reference_summaries, candidate_summaries)\n",
        "avg_F1"
      ],
      "metadata": {
        "colab": {
          "base_uri": "https://localhost:8080/"
        },
        "id": "eby4TrdOtHDp",
        "outputId": "c70e7bb7-3249-4997-f322-86399b9bc330"
      },
      "execution_count": null,
      "outputs": [
        {
          "output_type": "stream",
          "name": "stdout",
          "text": [
            "Average scores:\n",
            "  Precision: 0.6469\n",
            "  Recall: 0.6180\n",
            "  F1: 0.6311\n"
          ]
        },
        {
          "output_type": "execute_result",
          "data": {
            "text/plain": [
              "0.6310778260231018"
            ]
          },
          "metadata": {},
          "execution_count": 47
        }
      ]
    },
    {
      "cell_type": "markdown",
      "source": [
        "**DarijaBERT**"
      ],
      "metadata": {
        "id": "LXvshEOZuFnR"
      }
    },
    {
      "cell_type": "code",
      "source": [
        "path = \"/content/drive/MyDrive/WACL4_COLING_2025/comparaison_with_papers/models/darijaBERT/model_result\"\n",
        "d2 = load_from_disk(path)\n",
        "d2"
      ],
      "metadata": {
        "colab": {
          "base_uri": "https://localhost:8080/"
        },
        "id": "V0E1FZPJuLNq",
        "outputId": "64339bed-0f9c-4658-91ea-8f75bcdb5620"
      },
      "execution_count": null,
      "outputs": [
        {
          "output_type": "execute_result",
          "data": {
            "text/plain": [
              "Dataset({\n",
              "    features: ['article', 'headline', 'categories', 'generated_summary_darija_BERT2BERT'],\n",
              "    num_rows: 9497\n",
              "})"
            ]
          },
          "metadata": {},
          "execution_count": 48
        }
      ]
    },
    {
      "cell_type": "code",
      "source": [
        "reference_summaries = d2['headline']\n",
        "candidate_summaries = d2['generated_summary_darija_BERT2BERT']\n",
        "compute_metrics_testset(reference_summaries, candidate_summaries)\n"
      ],
      "metadata": {
        "colab": {
          "base_uri": "https://localhost:8080/"
        },
        "id": "1hLbft-a73ZY",
        "outputId": "c5f3717b-5013-427f-a458-0735de085df8"
      },
      "execution_count": null,
      "outputs": [
        {
          "output_type": "stream",
          "name": "stdout",
          "text": [
            "scores = {'rouge1': 0.27795476769231986, 'rouge2': 0.1553129957800718, 'rougeL': 0.24796309565931382, 'ref_len': 13.908602716647362, 'gen_len': 13.518058334210803}\n"
          ]
        },
        {
          "output_type": "execute_result",
          "data": {
            "text/plain": [
              "{'rouge1': 0.27795476769231986,\n",
              " 'rouge2': 0.1553129957800718,\n",
              " 'rougeL': 0.24796309565931382,\n",
              " 'ref_len': 13.908602716647362,\n",
              " 'gen_len': 13.518058334210803}"
            ]
          },
          "metadata": {},
          "execution_count": 49
        }
      ]
    },
    {
      "cell_type": "code",
      "source": [
        "avg_P, avg_R, avg_F1 = calculate_bertscore(reference_summaries, candidate_summaries)\n",
        "avg_F1"
      ],
      "metadata": {
        "colab": {
          "base_uri": "https://localhost:8080/"
        },
        "id": "5ml2Eutovbrz",
        "outputId": "cd7ef13b-a7fb-44a4-ca4e-098db9d8a378"
      },
      "execution_count": null,
      "outputs": [
        {
          "output_type": "stream",
          "name": "stdout",
          "text": [
            "Average scores:\n",
            "  Precision: 0.6481\n",
            "  Recall: 0.6391\n",
            "  F1: 0.6425\n"
          ]
        },
        {
          "output_type": "execute_result",
          "data": {
            "text/plain": [
              "0.6424856781959534"
            ]
          },
          "metadata": {},
          "execution_count": 50
        }
      ]
    },
    {
      "cell_type": "markdown",
      "source": [
        "**AraBERT**"
      ],
      "metadata": {
        "id": "6rcEjPARwNtN"
      }
    },
    {
      "cell_type": "code",
      "source": [
        "path = \"/content/drive/MyDrive/WACL4_COLING_2025/comparaison_with_papers/model_result\"\n",
        "d2 = load_from_disk(path)\n",
        "d2"
      ],
      "metadata": {
        "colab": {
          "base_uri": "https://localhost:8080/"
        },
        "id": "B0S4qasMwSFh",
        "outputId": "b35936eb-7837-423b-f3da-c178c4794aae"
      },
      "execution_count": null,
      "outputs": [
        {
          "output_type": "execute_result",
          "data": {
            "text/plain": [
              "Dataset({\n",
              "    features: ['article', 'headline', 'categories', 'generated_summary_BERT2BERT'],\n",
              "    num_rows: 9497\n",
              "})"
            ]
          },
          "metadata": {},
          "execution_count": 51
        }
      ]
    },
    {
      "cell_type": "code",
      "source": [
        "reference_summaries = d2['headline']\n",
        "candidate_summaries = d2['generated_summary_BERT2BERT']\n",
        "compute_metrics_testset(reference_summaries, candidate_summaries)\n"
      ],
      "metadata": {
        "colab": {
          "base_uri": "https://localhost:8080/"
        },
        "id": "84DuI2Ms84Ax",
        "outputId": "83887bc4-0461-456b-f483-92bb797b0ed3"
      },
      "execution_count": null,
      "outputs": [
        {
          "output_type": "stream",
          "name": "stdout",
          "text": [
            "scores = {'rouge1': 0.28466028929198955, 'rouge2': 0.15777117050575573, 'rougeL': 0.2547489775774109, 'ref_len': 12.806570495946088, 'gen_len': 13.518058334210803}\n"
          ]
        },
        {
          "output_type": "execute_result",
          "data": {
            "text/plain": [
              "{'rouge1': 0.28466028929198955,\n",
              " 'rouge2': 0.15777117050575573,\n",
              " 'rougeL': 0.2547489775774109,\n",
              " 'ref_len': 12.806570495946088,\n",
              " 'gen_len': 13.518058334210803}"
            ]
          },
          "metadata": {},
          "execution_count": 52
        }
      ]
    },
    {
      "cell_type": "code",
      "source": [
        "avg_P, avg_R, avg_F1 = calculate_bertscore(reference_summaries, candidate_summaries)\n",
        "avg_F1"
      ],
      "metadata": {
        "colab": {
          "base_uri": "https://localhost:8080/"
        },
        "id": "2KjxSRY5wTIc",
        "outputId": "b27eeb0e-b09e-4b74-b4f6-0c1a778d1f74"
      },
      "execution_count": null,
      "outputs": [
        {
          "output_type": "stream",
          "name": "stdout",
          "text": [
            "Average scores:\n",
            "  Precision: 0.6522\n",
            "  Recall: 0.6458\n",
            "  F1: 0.6479\n"
          ]
        },
        {
          "output_type": "execute_result",
          "data": {
            "text/plain": [
              "0.6478858590126038"
            ]
          },
          "metadata": {},
          "execution_count": 94
        }
      ]
    }
  ]
}