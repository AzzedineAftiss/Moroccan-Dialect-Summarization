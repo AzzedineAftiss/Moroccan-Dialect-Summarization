{
  "cells": [
    {
      "cell_type": "markdown",
      "metadata": {
        "id": "gvGbEA4XYtE5"
      },
      "source": [
        "# **1. Install Necessary Libraries**"
      ]
    },
    {
      "cell_type": "code",
      "execution_count": null,
      "metadata": {
        "id": "LR5DCn5IYp4V"
      },
      "outputs": [],
      "source": [
        "!pip install --upgrade transformers accelerate\n",
        "!pip install datasets -q\n",
        "!pip install rouge-score -q\n",
        "!pip install evaluate -q"
      ]
    },
    {
      "cell_type": "code",
      "execution_count": null,
      "metadata": {
        "id": "e9xOgYXoYypP"
      },
      "outputs": [],
      "source": [
        "import os\n",
        "os.kill(os.getpid(), 9)"
      ]
    },
    {
      "cell_type": "markdown",
      "metadata": {
        "id": "dDGZcOZkY04s"
      },
      "source": [
        "# **2. Import Libraries and Set Up Device**"
      ]
    },
    {
      "cell_type": "code",
      "execution_count": null,
      "metadata": {
        "colab": {
          "base_uri": "https://localhost:8080/"
        },
        "id": "UlXKWWLCY1tB",
        "outputId": "fb1af355-0a65-420b-9f46-24e31e8a3ab6"
      },
      "outputs": [
        {
          "output_type": "stream",
          "name": "stderr",
          "text": [
            "[nltk_data] Downloading package punkt to /root/nltk_data...\n",
            "[nltk_data]   Unzipping tokenizers/punkt.zip.\n"
          ]
        },
        {
          "output_type": "stream",
          "name": "stdout",
          "text": [
            "Using device: cuda\n"
          ]
        }
      ],
      "source": [
        "import torch\n",
        "from transformers import EncoderDecoderModel, BertTokenizer\n",
        "\n",
        "# from datasets import load_dataset, load_metric\n",
        "import datasets\n",
        "\n",
        "# Import necessary libraries\n",
        "import torch\n",
        "from transformers import (\n",
        "    AutoTokenizer,\n",
        "    AutoModelForSeq2SeqLM,\n",
        "    Seq2SeqTrainer,\n",
        "    Seq2SeqTrainingArguments,\n",
        ")\n",
        "from datasets import load_dataset, Dataset, DatasetDict\n",
        "import pandas as pd\n",
        "import numpy as np\n",
        "import nltk\n",
        "import evaluate\n",
        "from rouge_score import rouge_scorer\n",
        "import os\n",
        "\n",
        "# Download the NLTK Punkt tokenizer for sentence splitting\n",
        "nltk.download('punkt')\n",
        "\n",
        "# Set up the device for computation (use GPU if available)\n",
        "device = torch.device(\"cuda\" if torch.cuda.is_available() else \"cpu\")\n",
        "print(f\"Using device: {device}\")\n",
        "\n",
        "import numpy as np"
      ]
    },
    {
      "cell_type": "code",
      "execution_count": null,
      "metadata": {
        "colab": {
          "base_uri": "https://localhost:8080/"
        },
        "id": "od_4mXW9Y4d5",
        "outputId": "97ff7822-e56e-4d9b-b45f-d51c1f5e4021"
      },
      "outputs": [
        {
          "output_type": "stream",
          "name": "stdout",
          "text": [
            "Mounted at /content/drive\n"
          ]
        }
      ],
      "source": [
        "# Import Files from Google Drive to Colab\n",
        "from google.colab import drive\n",
        "drive.mount(\"/content/drive\")"
      ]
    },
    {
      "cell_type": "markdown",
      "metadata": {
        "id": "L6qEsIzaY6Sh"
      },
      "source": [
        "# **3. Load and Prepare the Dataset**\n"
      ]
    },
    {
      "cell_type": "code",
      "execution_count": null,
      "metadata": {
        "id": "_dWkbBJGY71K"
      },
      "outputs": [],
      "source": [
        "from datasets import load_from_disk\n",
        "\n",
        "dataset = load_dataset(\"azzedine/Goud-sum_v2\")\n",
        "\n",
        "dataset"
      ]
    },
    {
      "cell_type": "markdown",
      "metadata": {
        "id": "_kdDhPtWZpQK"
      },
      "source": [
        "# **5. Preprocessing Function**"
      ]
    },
    {
      "cell_type": "code",
      "execution_count": null,
      "metadata": {
        "id": "vlMN7_DuY9mi"
      },
      "outputs": [],
      "source": [
        "\n",
        "encoder_max_length =  256#256\n",
        "decoder_max_length =  32#32\n",
        "\n",
        "max_input_length = encoder_max_length\n",
        "max_target_length = decoder_max_length\n",
        "def preprocess_function(examples):\n",
        "    inputs = examples['article']\n",
        "    targets = examples['headline']\n",
        "    model_inputs = tokenizer(inputs, max_length=max_input_length, truncation=True, padding='max_length')\n",
        "    labels = tokenizer(targets, max_length=max_target_length, truncation=True, padding='max_length')\n",
        "\n",
        "    # Adjust labels for BERT2BRT\n",
        "    labels[\"input_ids\"] = [\n",
        "        [(label if label != tokenizer.pad_token_id else -100) for label in label_seq]\n",
        "        for label_seq in labels[\"input_ids\"]\n",
        "        ]\n",
        "\n",
        "\n",
        "    model_inputs['labels'] = labels['input_ids']\n",
        "    return model_inputs"
      ]
    },
    {
      "cell_type": "markdown",
      "metadata": {
        "id": "Q6fg-1AVY_f-"
      },
      "source": [
        "# **6. Load BERT2BERT Model and Tokenizer**"
      ]
    },
    {
      "cell_type": "code",
      "execution_count": null,
      "metadata": {
        "id": "7QjlDa9RZAK7"
      },
      "outputs": [],
      "source": [
        "from transformers import BertModel\n",
        "from transformers import BertTokenizer, EncoderDecoderModel\n",
        "import torch\n",
        "\n",
        "\n",
        "model_name = 'SI2M-Lab/DarijaBERT'\n",
        "\n",
        "\n",
        "\n",
        "# Detect the device\n",
        "device = torch.device('cuda' if torch.cuda.is_available() else 'cpu')\n",
        "\n",
        "# Initialize the EncoderDecoderModel with BERT as both encoder and decoder\n",
        "# model = EncoderDecoderModel.from_encoder_decoder_pretrained(model_name, model_name).to(device)\n",
        "\n",
        "# tokenizer = AutoTokenizer.from_pretrained(model_name)\n",
        " # model = AutoModelForSeq2SeqLM.from_pretrained(model_name)\n",
        "\n",
        "tokenizer = BertTokenizer.from_pretrained(model_name)\n",
        "model = EncoderDecoderModel.from_encoder_decoder_pretrained(model_name, model_name)\n",
        "\n",
        "\n",
        "model = model.to(device)\n",
        "# Set special tokens\n",
        "model.config.decoder_start_token_id = tokenizer.cls_token_id\n",
        "model.config.eos_token_id = tokenizer.sep_token_id\n",
        "model.config.pad_token_id = tokenizer.pad_token_id\n",
        "\n",
        "# Configure generation parameters\n",
        "model.config.vocab_size = model.config.decoder.vocab_size\n",
        "model.config.max_length = max_target_length\n",
        "model.config.no_repeat_ngram_size = 3\n",
        "model.config.early_stopping = True\n",
        "model.config.num_beams = 5  # Correctly set as an integer\n",
        "model.config.length_penalty = 2.0"
      ]
    },
    {
      "cell_type": "markdown",
      "metadata": {
        "id": "ODtHy-RnZHuY"
      },
      "source": [
        "# **7. Tokenize the Datasets**"
      ]
    },
    {
      "cell_type": "code",
      "execution_count": null,
      "metadata": {
        "id": "V7YNocvvYpIz"
      },
      "outputs": [],
      "source": [
        "# Apply the preprocessing function to all splits (train, validation, test)\n",
        "tokenized_datasets = dataset.map(\n",
        "    preprocess_function,\n",
        "    batched=True,\n",
        "    remove_columns=['article', 'headline', 'categories'],  # Remove original columns after tokenization\n",
        ")\n",
        "tokenized_datasets"
      ]
    },
    {
      "cell_type": "markdown",
      "metadata": {
        "id": "5vqBt4gNZK9v"
      },
      "source": [
        "# **8. Define Compute Metrics Function**"
      ]
    },
    {
      "cell_type": "code",
      "execution_count": null,
      "metadata": {
        "colab": {
          "base_uri": "https://localhost:8080/",
          "height": 49,
          "referenced_widgets": [
            "c0621194634843c5b4d4334c7e1b2e0c",
            "10f573fafc764426acbbcc04e5fa26c9",
            "de2443be018546c28d7339c7d8e736e4",
            "da46ac8d485043449070f0b14ab5ea62",
            "6d129d81fbd64b9b9e20566841692acc",
            "23813c628c1c4f65a3a13d8c8e5ead9c",
            "617960cf6fb5450397d4e4dffdf81e6b",
            "dc34cec280dd4893b20e38490110640f",
            "f4d3c5e365764474a5f0893e97921886",
            "12bb09ad799a47e8b7b1441efcc1e80f",
            "3e25878d5d024fb2b44679e398701fc0"
          ]
        },
        "id": "E9i5VEsXZLYK",
        "outputId": "604fb60b-e890-43ee-82b7-520e5eae3404"
      },
      "outputs": [
        {
          "output_type": "display_data",
          "data": {
            "text/plain": [
              "Downloading builder script:   0%|          | 0.00/6.27k [00:00<?, ?B/s]"
            ],
            "application/vnd.jupyter.widget-view+json": {
              "version_major": 2,
              "version_minor": 0,
              "model_id": "c0621194634843c5b4d4334c7e1b2e0c"
            }
          },
          "metadata": {}
        }
      ],
      "source": [
        "import evaluate\n",
        "from rouge_score import rouge_scorer\n",
        "\n",
        "# Initialize ROUGE\n",
        "rouge = evaluate.load('rouge')\n",
        "r_scorer = rouge_scorer.RougeScorer(['rouge1', 'rouge2', 'rougeL'],  tokenizer=tokenizer)\n",
        "\n",
        "\n",
        "def compute_metrics(pred):\n",
        "    labels_ids = pred.label_ids\n",
        "    pred_ids = pred.predictions\n",
        "\n",
        "    pred_str = tokenizer.batch_decode(pred_ids, skip_special_tokens=True)\n",
        "    labels_ids[labels_ids == -100] = tokenizer.pad_token_id\n",
        "    label_str = tokenizer.batch_decode(labels_ids, skip_special_tokens=True)\n",
        "\n",
        "\n",
        "    candidate_summaries = pred_str\n",
        "    reference_summaries = label_str\n",
        "    print(f\"candidate_summaries = {candidate_summaries}\")\n",
        "    print(f\"reference_summaries = {reference_summaries}\")\n",
        "    # Evaluate ROUGE scores\n",
        "\n",
        "    # Store scores\n",
        "    scores = {'rouge1': [], 'rouge2': [], 'rougeL': []}\n",
        "\n",
        "    # Calculate scores for the list of texts\n",
        "    for ref, gen in zip(reference_summaries, candidate_summaries):\n",
        "      score = r_scorer.score(gen, ref)\n",
        "      # Append scores to respective lists\n",
        "      scores['rouge1'].append(score['rouge1'].fmeasure)\n",
        "      scores['rouge2'].append(score['rouge2'].fmeasure)\n",
        "      scores['rougeL'].append(score['rougeL'].fmeasure)\n",
        "\n",
        "    # Calculate mean scores\n",
        "    mean_scores = {metric: np.mean(values) for metric, values in scores.items()}\n",
        "\n",
        "\n",
        "    # Calculate the average length of the reference summaries\n",
        "    reference_lens = [len(label.split()) for label in candidate_summaries]\n",
        "    mean_scores['ref_len'] = np.mean(reference_lens)\n",
        "\n",
        "    # Calculate the average length of the generated summaries\n",
        "    prediction_lens = [len(pred.split()) for pred in reference_summaries]\n",
        "    mean_scores['gen_len'] = np.mean(prediction_lens)\n",
        "    print(f\"scores = {mean_scores}\")\n",
        "    return mean_scores"
      ]
    },
    {
      "cell_type": "code",
      "execution_count": null,
      "metadata": {
        "id": "7vlCppQ2ZOt6"
      },
      "outputs": [],
      "source": [
        "from transformers import Seq2SeqTrainingArguments, Seq2SeqTrainer\n",
        "\n",
        "train_batch_size = 23\n",
        "val_batch_size = 4\n",
        "\n",
        "# Configure the training arguments\n",
        "training_args = Seq2SeqTrainingArguments(\n",
        "    output_dir=\"/content/drive/MyDrive/WACL4_COLING_2025/comparaison_with_papers/models/darijaBERT/checkpoints\",    # Output directory\n",
        "    eval_strategy=\"epoch\",             # Evaluate every epoch\n",
        "    save_strategy=\"epoch\",             # Save checkpoint every epoch\n",
        "    learning_rate=2e-5,                # Learning rate\n",
        "    per_device_train_batch_size=train_batch_size,\n",
        "    per_device_eval_batch_size=val_batch_size,\n",
        "    weight_decay=0.01,                 # Weight decay for regularization\n",
        "    gradient_accumulation_steps=8,\n",
        "    num_train_epochs=20, #20\n",
        "    predict_with_generate=True,\n",
        "    logging_dir='/content/drive/MyDrive/WACL4_COLING_2025/comparaison_with_papers/models/darijaBERT/bert2bert_logs',\n",
        "    fp16=torch.cuda.is_available(),\n",
        "    # Adjusting the save limit\n",
        "    save_total_limit=None,              # None Save all checkpoints (no limit)\n",
        "    load_best_model_at_end=True,\n",
        "    metric_for_best_model='eval_rouge1',\n",
        "    greater_is_better=True\n",
        ")"
      ]
    },
    {
      "cell_type": "markdown",
      "metadata": {
        "id": "QRDJP4WAZQrv"
      },
      "source": [
        "# **10. Initialize the Trainer**"
      ]
    },
    {
      "cell_type": "code",
      "execution_count": null,
      "metadata": {
        "id": "NVdDfxqqZSTm"
      },
      "outputs": [],
      "source": [
        "# Initialize the Seq2SeqTrainer\n",
        "trainer = Seq2SeqTrainer(\n",
        "    model=model,                             # The instantiated 🤗 Transformers model to be trained\n",
        "    args=training_args,                      # Training arguments\n",
        "    train_dataset=tokenized_datasets['train'],    # Training dataset ['train']\n",
        "    eval_dataset=tokenized_datasets['validation'],# Evaluation dataset ['validation']\n",
        "    tokenizer=tokenizer,                     # Tokenizer\n",
        "    compute_metrics=compute_metrics,         # Function to compute metrics\n",
        ")"
      ]
    },
    {
      "cell_type": "markdown",
      "metadata": {
        "id": "-EzuTuCIZUBg"
      },
      "source": [
        "# **11. Train the Model**"
      ]
    },
    {
      "cell_type": "code",
      "execution_count": null,
      "metadata": {
        "colab": {
          "background_save": true
        },
        "id": "Vq5H4JwiZUus"
      },
      "outputs": [],
      "source": [
        "# Start training\n",
        "trainer.train()"
      ]
    },
    {
      "cell_type": "code",
      "execution_count": null,
      "metadata": {
        "id": "qJSnvoYYYCSx",
        "colab": {
          "base_uri": "https://localhost:8080/"
        },
        "outputId": "42e94c6e-2f20-442f-c662-2431f9842136"
      },
      "outputs": [
        {
          "output_type": "execute_result",
          "data": {
            "text/plain": [
              "('/content/drive/MyDrive/WACL4_COLING_2025/comparaison_with_papers/models/darijaBERT/best_model/tokenizer_config.json',\n",
              " '/content/drive/MyDrive/WACL4_COLING_2025/comparaison_with_papers/models/darijaBERT/best_model/special_tokens_map.json',\n",
              " '/content/drive/MyDrive/WACL4_COLING_2025/comparaison_with_papers/models/darijaBERT/best_model/vocab.txt',\n",
              " '/content/drive/MyDrive/WACL4_COLING_2025/comparaison_with_papers/models/darijaBERT/best_model/added_tokens.json')"
            ]
          },
          "metadata": {},
          "execution_count": 12
        }
      ],
      "source": [
        "# After training is complete\n",
        "best_model_dir = '/content/drive/MyDrive/WACL4_COLING_2025/comparaison_with_papers/models/darijaBERT/best_model'  # Specify your desired directory\n",
        "trainer.save_model(best_model_dir)\n",
        "tokenizer.save_pretrained(best_model_dir)"
      ]
    },
    {
      "cell_type": "markdown",
      "source": [
        "**Evaluate on Test set**"
      ],
      "metadata": {
        "id": "dd0m3q1Oi-uU"
      }
    },
    {
      "cell_type": "markdown",
      "metadata": {
        "id": "eOEV00PajW3z"
      },
      "source": [
        "# **13. Generate Summaries and Save Results**"
      ]
    },
    {
      "cell_type": "code",
      "execution_count": null,
      "metadata": {
        "colab": {
          "base_uri": "https://localhost:8080/"
        },
        "id": "9BtPilTJjW31",
        "outputId": "c45ee476-b733-4928-d1ff-4deda7cfd52e"
      },
      "outputs": [
        {
          "output_type": "stream",
          "name": "stdout",
          "text": [
            "The best model checkpoint is saved at: /content/drive/MyDrive/WACL4_COLING_2025/comparaison_with_papers/models/darijaBERT/checkpoints/checkpoint-22830\n"
          ]
        }
      ],
      "source": [
        "best_checkpoint = trainer.state.best_model_checkpoint\n",
        "print(f\"The best model checkpoint is saved at: {best_checkpoint}\")"
      ]
    },
    {
      "cell_type": "code",
      "execution_count": null,
      "metadata": {
        "id": "rUdCfTtjjW32"
      },
      "outputs": [],
      "source": [
        "tokenizer = AutoTokenizer.from_pretrained(best_checkpoint)\n",
        "model = AutoModelForSeq2SeqLM.from_pretrained(best_checkpoint)\n",
        "device = torch.device('cuda' if torch.cuda.is_available() else 'cpu')\n",
        "model = model.to(device)"
      ]
    },
    {
      "cell_type": "code",
      "execution_count": null,
      "metadata": {
        "id": "evOyeQXDw6Vg"
      },
      "outputs": [],
      "source": [
        "# Generate Summaries Function\n",
        "def generate_summary(example):\n",
        "    # Tokenize the input text\n",
        "    inputs = tokenizer(\n",
        "        example['article'],\n",
        "        max_length=max_input_length,\n",
        "        truncation=True,\n",
        "        padding='max_length',\n",
        "        return_tensors='pt'\n",
        "    )\n",
        "\n",
        "    # Move tensors to the computation device\n",
        "    inputs = {k: v.to(device) for k, v in inputs.items()}\n",
        "\n",
        "    # Generate the summary using the model\n",
        "    outputs = model.generate(\n",
        "        input_ids=inputs['input_ids'],\n",
        "        attention_mask=inputs['attention_mask'],\n",
        "        max_length=max_target_length,\n",
        "        num_beams=5,           # Number of beams for beam search\n",
        "        early_stopping=True    # Stop when at least num_beams sentences are finished\n",
        "    )\n",
        "\n",
        "    # Decode the generated summary\n",
        "    summary = tokenizer.decode(outputs[0], skip_special_tokens=True)\n",
        "    # Add the generated summary to the example with a model-specific flag\n",
        "    example[\"generated_summary_darija_BERT2BERT\"] = summary\n",
        "    return example"
      ]
    },
    {
      "cell_type": "code",
      "execution_count": null,
      "metadata": {
        "colab": {
          "base_uri": "https://localhost:8080/",
          "height": 49,
          "referenced_widgets": [
            "b9add931364a4c85a7dffb3a1cab24d3",
            "74ffe4d1e18e4610ae4e8821f6c33e6d",
            "8549c05ce22542d8bfedb2a1a7cfceaf",
            "91375dc8065e43fbbcf84208809a9da0",
            "da13b6635d4c48dab92fdbc528d65091",
            "baff187d74a74a3481316c120dabb8e2",
            "d41061e64736465b8fdbb647713c756f",
            "b827a657e71f4e79b9469a6dd1f7eace",
            "298320e694e444aaaddfaedef62bd695",
            "d008bd7cfa92403b90f9bcf2890bcd55",
            "65247b74865d4bcbb3c1eaa175256021"
          ]
        },
        "outputId": "94480900-c719-4139-945f-e5575c21d14f",
        "id": "qxvKrxHUw6Vh"
      },
      "outputs": [
        {
          "data": {
            "application/vnd.jupyter.widget-view+json": {
              "model_id": "b9add931364a4c85a7dffb3a1cab24d3",
              "version_major": 2,
              "version_minor": 0
            },
            "text/plain": [
              "Map:   0%|          | 0/9497 [00:00<?, ? examples/s]"
            ]
          },
          "metadata": {},
          "output_type": "display_data"
        }
      ],
      "source": [
        "# Apply the generate_summary function to each example in the test set\n",
        "generate_dataset = dataset['test'].map(generate_summary)"
      ]
    },
    {
      "cell_type": "code",
      "execution_count": null,
      "metadata": {
        "colab": {
          "base_uri": "https://localhost:8080/"
        },
        "outputId": "8615fb06-f23e-4d99-9ac4-eedc8e80f51e",
        "id": "hscjl4ODw6Vi"
      },
      "outputs": [
        {
          "output_type": "execute_result",
          "data": {
            "text/plain": [
              "Dataset({\n",
              "    features: ['article', 'headline', 'categories', 'generated_summary_darija_BERT2BERT'],\n",
              "    num_rows: 9497\n",
              "})"
            ]
          },
          "metadata": {},
          "execution_count": 31
        }
      ],
      "source": [
        "generate_dataset"
      ]
    },
    {
      "cell_type": "code",
      "execution_count": null,
      "metadata": {
        "id": "86FCW1S5w6Vj",
        "colab": {
          "base_uri": "https://localhost:8080/",
          "height": 49,
          "referenced_widgets": [
            "693cd738140443198cb47be69af72613",
            "1057ab8335a640b8a980b146cfb96ca6",
            "5a0dc5ff01e649708bcc432fff29f0de",
            "346ca9593c1b4623b9a5e3e29704dc3d",
            "61e02bd41f374a25907019fec198fdf4",
            "d78148597a0c4203a183f14929eb2d0e",
            "a400bcb9e21a482991b29f6d4692a95d",
            "f5cc470aa61d45f08ae9c95799d96af9",
            "fbfc5e87f5c845e7918215790ea97e6c",
            "eaff80069c8f44c8a268c34b7db56f7f",
            "f12e0878825841df83fb46dd319dc1e3"
          ]
        },
        "outputId": "9a95bed5-ee59-4ff5-9c4d-3bb39ffda3de"
      },
      "outputs": [
        {
          "output_type": "display_data",
          "data": {
            "text/plain": [
              "Saving the dataset (0/1 shards):   0%|          | 0/9497 [00:00<?, ? examples/s]"
            ],
            "application/vnd.jupyter.widget-view+json": {
              "version_major": 2,
              "version_minor": 0,
              "model_id": "693cd738140443198cb47be69af72613"
            }
          },
          "metadata": {}
        }
      ],
      "source": [
        "# Save the dataset with generated summaries to disk\n",
        "generate_dataset.save_to_disk('/content/drive/MyDrive/WACL4_COLING_2025/comparaison_with_papers/models/darijaBERT/model_result')\n"
      ]
    }
  ],
  "metadata": {
    "accelerator": "GPU",
    "colab": {
      "gpuType": "T4",
      "provenance": []
    },
    "kernelspec": {
      "display_name": "Python 3",
      "name": "python3"
    },
    "language_info": {
      "name": "python"
    },
    "widgets": {
      "application/vnd.jupyter.widget-state+json": {
        "c0621194634843c5b4d4334c7e1b2e0c": {
          "model_module": "@jupyter-widgets/controls",
          "model_name": "HBoxModel",
          "model_module_version": "1.5.0",
          "state": {
            "_dom_classes": [],
            "_model_module": "@jupyter-widgets/controls",
            "_model_module_version": "1.5.0",
            "_model_name": "HBoxModel",
            "_view_count": null,
            "_view_module": "@jupyter-widgets/controls",
            "_view_module_version": "1.5.0",
            "_view_name": "HBoxView",
            "box_style": "",
            "children": [
              "IPY_MODEL_10f573fafc764426acbbcc04e5fa26c9",
              "IPY_MODEL_de2443be018546c28d7339c7d8e736e4",
              "IPY_MODEL_da46ac8d485043449070f0b14ab5ea62"
            ],
            "layout": "IPY_MODEL_6d129d81fbd64b9b9e20566841692acc"
          }
        },
        "10f573fafc764426acbbcc04e5fa26c9": {
          "model_module": "@jupyter-widgets/controls",
          "model_name": "HTMLModel",
          "model_module_version": "1.5.0",
          "state": {
            "_dom_classes": [],
            "_model_module": "@jupyter-widgets/controls",
            "_model_module_version": "1.5.0",
            "_model_name": "HTMLModel",
            "_view_count": null,
            "_view_module": "@jupyter-widgets/controls",
            "_view_module_version": "1.5.0",
            "_view_name": "HTMLView",
            "description": "",
            "description_tooltip": null,
            "layout": "IPY_MODEL_23813c628c1c4f65a3a13d8c8e5ead9c",
            "placeholder": "​",
            "style": "IPY_MODEL_617960cf6fb5450397d4e4dffdf81e6b",
            "value": "Downloading builder script: 100%"
          }
        },
        "de2443be018546c28d7339c7d8e736e4": {
          "model_module": "@jupyter-widgets/controls",
          "model_name": "FloatProgressModel",
          "model_module_version": "1.5.0",
          "state": {
            "_dom_classes": [],
            "_model_module": "@jupyter-widgets/controls",
            "_model_module_version": "1.5.0",
            "_model_name": "FloatProgressModel",
            "_view_count": null,
            "_view_module": "@jupyter-widgets/controls",
            "_view_module_version": "1.5.0",
            "_view_name": "ProgressView",
            "bar_style": "success",
            "description": "",
            "description_tooltip": null,
            "layout": "IPY_MODEL_dc34cec280dd4893b20e38490110640f",
            "max": 6270,
            "min": 0,
            "orientation": "horizontal",
            "style": "IPY_MODEL_f4d3c5e365764474a5f0893e97921886",
            "value": 6270
          }
        },
        "da46ac8d485043449070f0b14ab5ea62": {
          "model_module": "@jupyter-widgets/controls",
          "model_name": "HTMLModel",
          "model_module_version": "1.5.0",
          "state": {
            "_dom_classes": [],
            "_model_module": "@jupyter-widgets/controls",
            "_model_module_version": "1.5.0",
            "_model_name": "HTMLModel",
            "_view_count": null,
            "_view_module": "@jupyter-widgets/controls",
            "_view_module_version": "1.5.0",
            "_view_name": "HTMLView",
            "description": "",
            "description_tooltip": null,
            "layout": "IPY_MODEL_12bb09ad799a47e8b7b1441efcc1e80f",
            "placeholder": "​",
            "style": "IPY_MODEL_3e25878d5d024fb2b44679e398701fc0",
            "value": " 6.27k/6.27k [00:00&lt;00:00, 110kB/s]"
          }
        },
        "6d129d81fbd64b9b9e20566841692acc": {
          "model_module": "@jupyter-widgets/base",
          "model_name": "LayoutModel",
          "model_module_version": "1.2.0",
          "state": {
            "_model_module": "@jupyter-widgets/base",
            "_model_module_version": "1.2.0",
            "_model_name": "LayoutModel",
            "_view_count": null,
            "_view_module": "@jupyter-widgets/base",
            "_view_module_version": "1.2.0",
            "_view_name": "LayoutView",
            "align_content": null,
            "align_items": null,
            "align_self": null,
            "border": null,
            "bottom": null,
            "display": null,
            "flex": null,
            "flex_flow": null,
            "grid_area": null,
            "grid_auto_columns": null,
            "grid_auto_flow": null,
            "grid_auto_rows": null,
            "grid_column": null,
            "grid_gap": null,
            "grid_row": null,
            "grid_template_areas": null,
            "grid_template_columns": null,
            "grid_template_rows": null,
            "height": null,
            "justify_content": null,
            "justify_items": null,
            "left": null,
            "margin": null,
            "max_height": null,
            "max_width": null,
            "min_height": null,
            "min_width": null,
            "object_fit": null,
            "object_position": null,
            "order": null,
            "overflow": null,
            "overflow_x": null,
            "overflow_y": null,
            "padding": null,
            "right": null,
            "top": null,
            "visibility": null,
            "width": null
          }
        },
        "23813c628c1c4f65a3a13d8c8e5ead9c": {
          "model_module": "@jupyter-widgets/base",
          "model_name": "LayoutModel",
          "model_module_version": "1.2.0",
          "state": {
            "_model_module": "@jupyter-widgets/base",
            "_model_module_version": "1.2.0",
            "_model_name": "LayoutModel",
            "_view_count": null,
            "_view_module": "@jupyter-widgets/base",
            "_view_module_version": "1.2.0",
            "_view_name": "LayoutView",
            "align_content": null,
            "align_items": null,
            "align_self": null,
            "border": null,
            "bottom": null,
            "display": null,
            "flex": null,
            "flex_flow": null,
            "grid_area": null,
            "grid_auto_columns": null,
            "grid_auto_flow": null,
            "grid_auto_rows": null,
            "grid_column": null,
            "grid_gap": null,
            "grid_row": null,
            "grid_template_areas": null,
            "grid_template_columns": null,
            "grid_template_rows": null,
            "height": null,
            "justify_content": null,
            "justify_items": null,
            "left": null,
            "margin": null,
            "max_height": null,
            "max_width": null,
            "min_height": null,
            "min_width": null,
            "object_fit": null,
            "object_position": null,
            "order": null,
            "overflow": null,
            "overflow_x": null,
            "overflow_y": null,
            "padding": null,
            "right": null,
            "top": null,
            "visibility": null,
            "width": null
          }
        },
        "617960cf6fb5450397d4e4dffdf81e6b": {
          "model_module": "@jupyter-widgets/controls",
          "model_name": "DescriptionStyleModel",
          "model_module_version": "1.5.0",
          "state": {
            "_model_module": "@jupyter-widgets/controls",
            "_model_module_version": "1.5.0",
            "_model_name": "DescriptionStyleModel",
            "_view_count": null,
            "_view_module": "@jupyter-widgets/base",
            "_view_module_version": "1.2.0",
            "_view_name": "StyleView",
            "description_width": ""
          }
        },
        "dc34cec280dd4893b20e38490110640f": {
          "model_module": "@jupyter-widgets/base",
          "model_name": "LayoutModel",
          "model_module_version": "1.2.0",
          "state": {
            "_model_module": "@jupyter-widgets/base",
            "_model_module_version": "1.2.0",
            "_model_name": "LayoutModel",
            "_view_count": null,
            "_view_module": "@jupyter-widgets/base",
            "_view_module_version": "1.2.0",
            "_view_name": "LayoutView",
            "align_content": null,
            "align_items": null,
            "align_self": null,
            "border": null,
            "bottom": null,
            "display": null,
            "flex": null,
            "flex_flow": null,
            "grid_area": null,
            "grid_auto_columns": null,
            "grid_auto_flow": null,
            "grid_auto_rows": null,
            "grid_column": null,
            "grid_gap": null,
            "grid_row": null,
            "grid_template_areas": null,
            "grid_template_columns": null,
            "grid_template_rows": null,
            "height": null,
            "justify_content": null,
            "justify_items": null,
            "left": null,
            "margin": null,
            "max_height": null,
            "max_width": null,
            "min_height": null,
            "min_width": null,
            "object_fit": null,
            "object_position": null,
            "order": null,
            "overflow": null,
            "overflow_x": null,
            "overflow_y": null,
            "padding": null,
            "right": null,
            "top": null,
            "visibility": null,
            "width": null
          }
        },
        "f4d3c5e365764474a5f0893e97921886": {
          "model_module": "@jupyter-widgets/controls",
          "model_name": "ProgressStyleModel",
          "model_module_version": "1.5.0",
          "state": {
            "_model_module": "@jupyter-widgets/controls",
            "_model_module_version": "1.5.0",
            "_model_name": "ProgressStyleModel",
            "_view_count": null,
            "_view_module": "@jupyter-widgets/base",
            "_view_module_version": "1.2.0",
            "_view_name": "StyleView",
            "bar_color": null,
            "description_width": ""
          }
        },
        "12bb09ad799a47e8b7b1441efcc1e80f": {
          "model_module": "@jupyter-widgets/base",
          "model_name": "LayoutModel",
          "model_module_version": "1.2.0",
          "state": {
            "_model_module": "@jupyter-widgets/base",
            "_model_module_version": "1.2.0",
            "_model_name": "LayoutModel",
            "_view_count": null,
            "_view_module": "@jupyter-widgets/base",
            "_view_module_version": "1.2.0",
            "_view_name": "LayoutView",
            "align_content": null,
            "align_items": null,
            "align_self": null,
            "border": null,
            "bottom": null,
            "display": null,
            "flex": null,
            "flex_flow": null,
            "grid_area": null,
            "grid_auto_columns": null,
            "grid_auto_flow": null,
            "grid_auto_rows": null,
            "grid_column": null,
            "grid_gap": null,
            "grid_row": null,
            "grid_template_areas": null,
            "grid_template_columns": null,
            "grid_template_rows": null,
            "height": null,
            "justify_content": null,
            "justify_items": null,
            "left": null,
            "margin": null,
            "max_height": null,
            "max_width": null,
            "min_height": null,
            "min_width": null,
            "object_fit": null,
            "object_position": null,
            "order": null,
            "overflow": null,
            "overflow_x": null,
            "overflow_y": null,
            "padding": null,
            "right": null,
            "top": null,
            "visibility": null,
            "width": null
          }
        },
        "3e25878d5d024fb2b44679e398701fc0": {
          "model_module": "@jupyter-widgets/controls",
          "model_name": "DescriptionStyleModel",
          "model_module_version": "1.5.0",
          "state": {
            "_model_module": "@jupyter-widgets/controls",
            "_model_module_version": "1.5.0",
            "_model_name": "DescriptionStyleModel",
            "_view_count": null,
            "_view_module": "@jupyter-widgets/base",
            "_view_module_version": "1.2.0",
            "_view_name": "StyleView",
            "description_width": ""
          }
        },
        "b9add931364a4c85a7dffb3a1cab24d3": {
          "model_module": "@jupyter-widgets/controls",
          "model_name": "HBoxModel",
          "model_module_version": "1.5.0",
          "state": {
            "_dom_classes": [],
            "_model_module": "@jupyter-widgets/controls",
            "_model_module_version": "1.5.0",
            "_model_name": "HBoxModel",
            "_view_count": null,
            "_view_module": "@jupyter-widgets/controls",
            "_view_module_version": "1.5.0",
            "_view_name": "HBoxView",
            "box_style": "",
            "children": [
              "IPY_MODEL_74ffe4d1e18e4610ae4e8821f6c33e6d",
              "IPY_MODEL_8549c05ce22542d8bfedb2a1a7cfceaf",
              "IPY_MODEL_91375dc8065e43fbbcf84208809a9da0"
            ],
            "layout": "IPY_MODEL_da13b6635d4c48dab92fdbc528d65091"
          }
        },
        "74ffe4d1e18e4610ae4e8821f6c33e6d": {
          "model_module": "@jupyter-widgets/controls",
          "model_name": "HTMLModel",
          "model_module_version": "1.5.0",
          "state": {
            "_dom_classes": [],
            "_model_module": "@jupyter-widgets/controls",
            "_model_module_version": "1.5.0",
            "_model_name": "HTMLModel",
            "_view_count": null,
            "_view_module": "@jupyter-widgets/controls",
            "_view_module_version": "1.5.0",
            "_view_name": "HTMLView",
            "description": "",
            "description_tooltip": null,
            "layout": "IPY_MODEL_baff187d74a74a3481316c120dabb8e2",
            "placeholder": "​",
            "style": "IPY_MODEL_d41061e64736465b8fdbb647713c756f",
            "value": "Map: 100%"
          }
        },
        "8549c05ce22542d8bfedb2a1a7cfceaf": {
          "model_module": "@jupyter-widgets/controls",
          "model_name": "FloatProgressModel",
          "model_module_version": "1.5.0",
          "state": {
            "_dom_classes": [],
            "_model_module": "@jupyter-widgets/controls",
            "_model_module_version": "1.5.0",
            "_model_name": "FloatProgressModel",
            "_view_count": null,
            "_view_module": "@jupyter-widgets/controls",
            "_view_module_version": "1.5.0",
            "_view_name": "ProgressView",
            "bar_style": "success",
            "description": "",
            "description_tooltip": null,
            "layout": "IPY_MODEL_b827a657e71f4e79b9469a6dd1f7eace",
            "max": 9497,
            "min": 0,
            "orientation": "horizontal",
            "style": "IPY_MODEL_298320e694e444aaaddfaedef62bd695",
            "value": 9497
          }
        },
        "91375dc8065e43fbbcf84208809a9da0": {
          "model_module": "@jupyter-widgets/controls",
          "model_name": "HTMLModel",
          "model_module_version": "1.5.0",
          "state": {
            "_dom_classes": [],
            "_model_module": "@jupyter-widgets/controls",
            "_model_module_version": "1.5.0",
            "_model_name": "HTMLModel",
            "_view_count": null,
            "_view_module": "@jupyter-widgets/controls",
            "_view_module_version": "1.5.0",
            "_view_name": "HTMLView",
            "description": "",
            "description_tooltip": null,
            "layout": "IPY_MODEL_d008bd7cfa92403b90f9bcf2890bcd55",
            "placeholder": "​",
            "style": "IPY_MODEL_65247b74865d4bcbb3c1eaa175256021",
            "value": " 9497/9497 [1:26:25&lt;00:00,  1.91 examples/s]"
          }
        },
        "da13b6635d4c48dab92fdbc528d65091": {
          "model_module": "@jupyter-widgets/base",
          "model_name": "LayoutModel",
          "model_module_version": "1.2.0",
          "state": {
            "_model_module": "@jupyter-widgets/base",
            "_model_module_version": "1.2.0",
            "_model_name": "LayoutModel",
            "_view_count": null,
            "_view_module": "@jupyter-widgets/base",
            "_view_module_version": "1.2.0",
            "_view_name": "LayoutView",
            "align_content": null,
            "align_items": null,
            "align_self": null,
            "border": null,
            "bottom": null,
            "display": null,
            "flex": null,
            "flex_flow": null,
            "grid_area": null,
            "grid_auto_columns": null,
            "grid_auto_flow": null,
            "grid_auto_rows": null,
            "grid_column": null,
            "grid_gap": null,
            "grid_row": null,
            "grid_template_areas": null,
            "grid_template_columns": null,
            "grid_template_rows": null,
            "height": null,
            "justify_content": null,
            "justify_items": null,
            "left": null,
            "margin": null,
            "max_height": null,
            "max_width": null,
            "min_height": null,
            "min_width": null,
            "object_fit": null,
            "object_position": null,
            "order": null,
            "overflow": null,
            "overflow_x": null,
            "overflow_y": null,
            "padding": null,
            "right": null,
            "top": null,
            "visibility": null,
            "width": null
          }
        },
        "baff187d74a74a3481316c120dabb8e2": {
          "model_module": "@jupyter-widgets/base",
          "model_name": "LayoutModel",
          "model_module_version": "1.2.0",
          "state": {
            "_model_module": "@jupyter-widgets/base",
            "_model_module_version": "1.2.0",
            "_model_name": "LayoutModel",
            "_view_count": null,
            "_view_module": "@jupyter-widgets/base",
            "_view_module_version": "1.2.0",
            "_view_name": "LayoutView",
            "align_content": null,
            "align_items": null,
            "align_self": null,
            "border": null,
            "bottom": null,
            "display": null,
            "flex": null,
            "flex_flow": null,
            "grid_area": null,
            "grid_auto_columns": null,
            "grid_auto_flow": null,
            "grid_auto_rows": null,
            "grid_column": null,
            "grid_gap": null,
            "grid_row": null,
            "grid_template_areas": null,
            "grid_template_columns": null,
            "grid_template_rows": null,
            "height": null,
            "justify_content": null,
            "justify_items": null,
            "left": null,
            "margin": null,
            "max_height": null,
            "max_width": null,
            "min_height": null,
            "min_width": null,
            "object_fit": null,
            "object_position": null,
            "order": null,
            "overflow": null,
            "overflow_x": null,
            "overflow_y": null,
            "padding": null,
            "right": null,
            "top": null,
            "visibility": null,
            "width": null
          }
        },
        "d41061e64736465b8fdbb647713c756f": {
          "model_module": "@jupyter-widgets/controls",
          "model_name": "DescriptionStyleModel",
          "model_module_version": "1.5.0",
          "state": {
            "_model_module": "@jupyter-widgets/controls",
            "_model_module_version": "1.5.0",
            "_model_name": "DescriptionStyleModel",
            "_view_count": null,
            "_view_module": "@jupyter-widgets/base",
            "_view_module_version": "1.2.0",
            "_view_name": "StyleView",
            "description_width": ""
          }
        },
        "b827a657e71f4e79b9469a6dd1f7eace": {
          "model_module": "@jupyter-widgets/base",
          "model_name": "LayoutModel",
          "model_module_version": "1.2.0",
          "state": {
            "_model_module": "@jupyter-widgets/base",
            "_model_module_version": "1.2.0",
            "_model_name": "LayoutModel",
            "_view_count": null,
            "_view_module": "@jupyter-widgets/base",
            "_view_module_version": "1.2.0",
            "_view_name": "LayoutView",
            "align_content": null,
            "align_items": null,
            "align_self": null,
            "border": null,
            "bottom": null,
            "display": null,
            "flex": null,
            "flex_flow": null,
            "grid_area": null,
            "grid_auto_columns": null,
            "grid_auto_flow": null,
            "grid_auto_rows": null,
            "grid_column": null,
            "grid_gap": null,
            "grid_row": null,
            "grid_template_areas": null,
            "grid_template_columns": null,
            "grid_template_rows": null,
            "height": null,
            "justify_content": null,
            "justify_items": null,
            "left": null,
            "margin": null,
            "max_height": null,
            "max_width": null,
            "min_height": null,
            "min_width": null,
            "object_fit": null,
            "object_position": null,
            "order": null,
            "overflow": null,
            "overflow_x": null,
            "overflow_y": null,
            "padding": null,
            "right": null,
            "top": null,
            "visibility": null,
            "width": null
          }
        },
        "298320e694e444aaaddfaedef62bd695": {
          "model_module": "@jupyter-widgets/controls",
          "model_name": "ProgressStyleModel",
          "model_module_version": "1.5.0",
          "state": {
            "_model_module": "@jupyter-widgets/controls",
            "_model_module_version": "1.5.0",
            "_model_name": "ProgressStyleModel",
            "_view_count": null,
            "_view_module": "@jupyter-widgets/base",
            "_view_module_version": "1.2.0",
            "_view_name": "StyleView",
            "bar_color": null,
            "description_width": ""
          }
        },
        "d008bd7cfa92403b90f9bcf2890bcd55": {
          "model_module": "@jupyter-widgets/base",
          "model_name": "LayoutModel",
          "model_module_version": "1.2.0",
          "state": {
            "_model_module": "@jupyter-widgets/base",
            "_model_module_version": "1.2.0",
            "_model_name": "LayoutModel",
            "_view_count": null,
            "_view_module": "@jupyter-widgets/base",
            "_view_module_version": "1.2.0",
            "_view_name": "LayoutView",
            "align_content": null,
            "align_items": null,
            "align_self": null,
            "border": null,
            "bottom": null,
            "display": null,
            "flex": null,
            "flex_flow": null,
            "grid_area": null,
            "grid_auto_columns": null,
            "grid_auto_flow": null,
            "grid_auto_rows": null,
            "grid_column": null,
            "grid_gap": null,
            "grid_row": null,
            "grid_template_areas": null,
            "grid_template_columns": null,
            "grid_template_rows": null,
            "height": null,
            "justify_content": null,
            "justify_items": null,
            "left": null,
            "margin": null,
            "max_height": null,
            "max_width": null,
            "min_height": null,
            "min_width": null,
            "object_fit": null,
            "object_position": null,
            "order": null,
            "overflow": null,
            "overflow_x": null,
            "overflow_y": null,
            "padding": null,
            "right": null,
            "top": null,
            "visibility": null,
            "width": null
          }
        },
        "65247b74865d4bcbb3c1eaa175256021": {
          "model_module": "@jupyter-widgets/controls",
          "model_name": "DescriptionStyleModel",
          "model_module_version": "1.5.0",
          "state": {
            "_model_module": "@jupyter-widgets/controls",
            "_model_module_version": "1.5.0",
            "_model_name": "DescriptionStyleModel",
            "_view_count": null,
            "_view_module": "@jupyter-widgets/base",
            "_view_module_version": "1.2.0",
            "_view_name": "StyleView",
            "description_width": ""
          }
        },
        "693cd738140443198cb47be69af72613": {
          "model_module": "@jupyter-widgets/controls",
          "model_name": "HBoxModel",
          "model_module_version": "1.5.0",
          "state": {
            "_dom_classes": [],
            "_model_module": "@jupyter-widgets/controls",
            "_model_module_version": "1.5.0",
            "_model_name": "HBoxModel",
            "_view_count": null,
            "_view_module": "@jupyter-widgets/controls",
            "_view_module_version": "1.5.0",
            "_view_name": "HBoxView",
            "box_style": "",
            "children": [
              "IPY_MODEL_1057ab8335a640b8a980b146cfb96ca6",
              "IPY_MODEL_5a0dc5ff01e649708bcc432fff29f0de",
              "IPY_MODEL_346ca9593c1b4623b9a5e3e29704dc3d"
            ],
            "layout": "IPY_MODEL_61e02bd41f374a25907019fec198fdf4"
          }
        },
        "1057ab8335a640b8a980b146cfb96ca6": {
          "model_module": "@jupyter-widgets/controls",
          "model_name": "HTMLModel",
          "model_module_version": "1.5.0",
          "state": {
            "_dom_classes": [],
            "_model_module": "@jupyter-widgets/controls",
            "_model_module_version": "1.5.0",
            "_model_name": "HTMLModel",
            "_view_count": null,
            "_view_module": "@jupyter-widgets/controls",
            "_view_module_version": "1.5.0",
            "_view_name": "HTMLView",
            "description": "",
            "description_tooltip": null,
            "layout": "IPY_MODEL_d78148597a0c4203a183f14929eb2d0e",
            "placeholder": "​",
            "style": "IPY_MODEL_a400bcb9e21a482991b29f6d4692a95d",
            "value": "Saving the dataset (1/1 shards): 100%"
          }
        },
        "5a0dc5ff01e649708bcc432fff29f0de": {
          "model_module": "@jupyter-widgets/controls",
          "model_name": "FloatProgressModel",
          "model_module_version": "1.5.0",
          "state": {
            "_dom_classes": [],
            "_model_module": "@jupyter-widgets/controls",
            "_model_module_version": "1.5.0",
            "_model_name": "FloatProgressModel",
            "_view_count": null,
            "_view_module": "@jupyter-widgets/controls",
            "_view_module_version": "1.5.0",
            "_view_name": "ProgressView",
            "bar_style": "success",
            "description": "",
            "description_tooltip": null,
            "layout": "IPY_MODEL_f5cc470aa61d45f08ae9c95799d96af9",
            "max": 9497,
            "min": 0,
            "orientation": "horizontal",
            "style": "IPY_MODEL_fbfc5e87f5c845e7918215790ea97e6c",
            "value": 9497
          }
        },
        "346ca9593c1b4623b9a5e3e29704dc3d": {
          "model_module": "@jupyter-widgets/controls",
          "model_name": "HTMLModel",
          "model_module_version": "1.5.0",
          "state": {
            "_dom_classes": [],
            "_model_module": "@jupyter-widgets/controls",
            "_model_module_version": "1.5.0",
            "_model_name": "HTMLModel",
            "_view_count": null,
            "_view_module": "@jupyter-widgets/controls",
            "_view_module_version": "1.5.0",
            "_view_name": "HTMLView",
            "description": "",
            "description_tooltip": null,
            "layout": "IPY_MODEL_eaff80069c8f44c8a268c34b7db56f7f",
            "placeholder": "​",
            "style": "IPY_MODEL_f12e0878825841df83fb46dd319dc1e3",
            "value": " 9497/9497 [00:00&lt;00:00, 64523.68 examples/s]"
          }
        },
        "61e02bd41f374a25907019fec198fdf4": {
          "model_module": "@jupyter-widgets/base",
          "model_name": "LayoutModel",
          "model_module_version": "1.2.0",
          "state": {
            "_model_module": "@jupyter-widgets/base",
            "_model_module_version": "1.2.0",
            "_model_name": "LayoutModel",
            "_view_count": null,
            "_view_module": "@jupyter-widgets/base",
            "_view_module_version": "1.2.0",
            "_view_name": "LayoutView",
            "align_content": null,
            "align_items": null,
            "align_self": null,
            "border": null,
            "bottom": null,
            "display": null,
            "flex": null,
            "flex_flow": null,
            "grid_area": null,
            "grid_auto_columns": null,
            "grid_auto_flow": null,
            "grid_auto_rows": null,
            "grid_column": null,
            "grid_gap": null,
            "grid_row": null,
            "grid_template_areas": null,
            "grid_template_columns": null,
            "grid_template_rows": null,
            "height": null,
            "justify_content": null,
            "justify_items": null,
            "left": null,
            "margin": null,
            "max_height": null,
            "max_width": null,
            "min_height": null,
            "min_width": null,
            "object_fit": null,
            "object_position": null,
            "order": null,
            "overflow": null,
            "overflow_x": null,
            "overflow_y": null,
            "padding": null,
            "right": null,
            "top": null,
            "visibility": null,
            "width": null
          }
        },
        "d78148597a0c4203a183f14929eb2d0e": {
          "model_module": "@jupyter-widgets/base",
          "model_name": "LayoutModel",
          "model_module_version": "1.2.0",
          "state": {
            "_model_module": "@jupyter-widgets/base",
            "_model_module_version": "1.2.0",
            "_model_name": "LayoutModel",
            "_view_count": null,
            "_view_module": "@jupyter-widgets/base",
            "_view_module_version": "1.2.0",
            "_view_name": "LayoutView",
            "align_content": null,
            "align_items": null,
            "align_self": null,
            "border": null,
            "bottom": null,
            "display": null,
            "flex": null,
            "flex_flow": null,
            "grid_area": null,
            "grid_auto_columns": null,
            "grid_auto_flow": null,
            "grid_auto_rows": null,
            "grid_column": null,
            "grid_gap": null,
            "grid_row": null,
            "grid_template_areas": null,
            "grid_template_columns": null,
            "grid_template_rows": null,
            "height": null,
            "justify_content": null,
            "justify_items": null,
            "left": null,
            "margin": null,
            "max_height": null,
            "max_width": null,
            "min_height": null,
            "min_width": null,
            "object_fit": null,
            "object_position": null,
            "order": null,
            "overflow": null,
            "overflow_x": null,
            "overflow_y": null,
            "padding": null,
            "right": null,
            "top": null,
            "visibility": null,
            "width": null
          }
        },
        "a400bcb9e21a482991b29f6d4692a95d": {
          "model_module": "@jupyter-widgets/controls",
          "model_name": "DescriptionStyleModel",
          "model_module_version": "1.5.0",
          "state": {
            "_model_module": "@jupyter-widgets/controls",
            "_model_module_version": "1.5.0",
            "_model_name": "DescriptionStyleModel",
            "_view_count": null,
            "_view_module": "@jupyter-widgets/base",
            "_view_module_version": "1.2.0",
            "_view_name": "StyleView",
            "description_width": ""
          }
        },
        "f5cc470aa61d45f08ae9c95799d96af9": {
          "model_module": "@jupyter-widgets/base",
          "model_name": "LayoutModel",
          "model_module_version": "1.2.0",
          "state": {
            "_model_module": "@jupyter-widgets/base",
            "_model_module_version": "1.2.0",
            "_model_name": "LayoutModel",
            "_view_count": null,
            "_view_module": "@jupyter-widgets/base",
            "_view_module_version": "1.2.0",
            "_view_name": "LayoutView",
            "align_content": null,
            "align_items": null,
            "align_self": null,
            "border": null,
            "bottom": null,
            "display": null,
            "flex": null,
            "flex_flow": null,
            "grid_area": null,
            "grid_auto_columns": null,
            "grid_auto_flow": null,
            "grid_auto_rows": null,
            "grid_column": null,
            "grid_gap": null,
            "grid_row": null,
            "grid_template_areas": null,
            "grid_template_columns": null,
            "grid_template_rows": null,
            "height": null,
            "justify_content": null,
            "justify_items": null,
            "left": null,
            "margin": null,
            "max_height": null,
            "max_width": null,
            "min_height": null,
            "min_width": null,
            "object_fit": null,
            "object_position": null,
            "order": null,
            "overflow": null,
            "overflow_x": null,
            "overflow_y": null,
            "padding": null,
            "right": null,
            "top": null,
            "visibility": null,
            "width": null
          }
        },
        "fbfc5e87f5c845e7918215790ea97e6c": {
          "model_module": "@jupyter-widgets/controls",
          "model_name": "ProgressStyleModel",
          "model_module_version": "1.5.0",
          "state": {
            "_model_module": "@jupyter-widgets/controls",
            "_model_module_version": "1.5.0",
            "_model_name": "ProgressStyleModel",
            "_view_count": null,
            "_view_module": "@jupyter-widgets/base",
            "_view_module_version": "1.2.0",
            "_view_name": "StyleView",
            "bar_color": null,
            "description_width": ""
          }
        },
        "eaff80069c8f44c8a268c34b7db56f7f": {
          "model_module": "@jupyter-widgets/base",
          "model_name": "LayoutModel",
          "model_module_version": "1.2.0",
          "state": {
            "_model_module": "@jupyter-widgets/base",
            "_model_module_version": "1.2.0",
            "_model_name": "LayoutModel",
            "_view_count": null,
            "_view_module": "@jupyter-widgets/base",
            "_view_module_version": "1.2.0",
            "_view_name": "LayoutView",
            "align_content": null,
            "align_items": null,
            "align_self": null,
            "border": null,
            "bottom": null,
            "display": null,
            "flex": null,
            "flex_flow": null,
            "grid_area": null,
            "grid_auto_columns": null,
            "grid_auto_flow": null,
            "grid_auto_rows": null,
            "grid_column": null,
            "grid_gap": null,
            "grid_row": null,
            "grid_template_areas": null,
            "grid_template_columns": null,
            "grid_template_rows": null,
            "height": null,
            "justify_content": null,
            "justify_items": null,
            "left": null,
            "margin": null,
            "max_height": null,
            "max_width": null,
            "min_height": null,
            "min_width": null,
            "object_fit": null,
            "object_position": null,
            "order": null,
            "overflow": null,
            "overflow_x": null,
            "overflow_y": null,
            "padding": null,
            "right": null,
            "top": null,
            "visibility": null,
            "width": null
          }
        },
        "f12e0878825841df83fb46dd319dc1e3": {
          "model_module": "@jupyter-widgets/controls",
          "model_name": "DescriptionStyleModel",
          "model_module_version": "1.5.0",
          "state": {
            "_model_module": "@jupyter-widgets/controls",
            "_model_module_version": "1.5.0",
            "_model_name": "DescriptionStyleModel",
            "_view_count": null,
            "_view_module": "@jupyter-widgets/base",
            "_view_module_version": "1.2.0",
            "_view_name": "StyleView",
            "description_width": ""
          }
        }
      }
    }
  },
  "nbformat": 4,
  "nbformat_minor": 0
}