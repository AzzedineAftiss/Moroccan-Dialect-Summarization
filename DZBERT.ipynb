{
  "cells": [
    {
      "cell_type": "markdown",
      "metadata": {
        "id": "gvGbEA4XYtE5"
      },
      "source": [
        "# **1. Install Necessary Libraries**"
      ]
    },
    {
      "cell_type": "code",
      "execution_count": null,
      "metadata": {
        "id": "LR5DCn5IYp4V"
      },
      "outputs": [],
      "source": [
        "%%capture\n",
        "!pip install --upgrade transformers accelerate\n",
        "!pip install datasets -q\n",
        "!pip install rouge-score -q\n",
        "!pip install evaluate -q"
      ]
    },
    {
      "cell_type": "code",
      "execution_count": null,
      "metadata": {
        "id": "e9xOgYXoYypP"
      },
      "outputs": [],
      "source": [
        "import os\n",
        "os.kill(os.getpid(), 9)"
      ]
    },
    {
      "cell_type": "markdown",
      "metadata": {
        "id": "dDGZcOZkY04s"
      },
      "source": [
        "# **2. Import Libraries and Set Up Device**"
      ]
    },
    {
      "cell_type": "code",
      "execution_count": null,
      "metadata": {
        "colab": {
          "base_uri": "https://localhost:8080/"
        },
        "id": "UlXKWWLCY1tB",
        "outputId": "89a7c0db-c910-4888-c314-d6e2379d9e14"
      },
      "outputs": [
        {
          "output_type": "stream",
          "name": "stdout",
          "text": [
            "Using device: cuda\n"
          ]
        },
        {
          "output_type": "stream",
          "name": "stderr",
          "text": [
            "[nltk_data] Downloading package punkt to /root/nltk_data...\n",
            "[nltk_data]   Package punkt is already up-to-date!\n"
          ]
        }
      ],
      "source": [
        "import torch\n",
        "from transformers import EncoderDecoderModel, BertTokenizer\n",
        "\n",
        "# from datasets import load_dataset, load_metric\n",
        "import datasets\n",
        "\n",
        "# Import necessary libraries\n",
        "import torch\n",
        "from transformers import (\n",
        "    AutoTokenizer,\n",
        "    AutoModelForSeq2SeqLM,\n",
        "    Seq2SeqTrainer,\n",
        "    Seq2SeqTrainingArguments,\n",
        ")\n",
        "from datasets import load_dataset, Dataset, DatasetDict\n",
        "import pandas as pd\n",
        "import numpy as np\n",
        "import nltk\n",
        "import evaluate\n",
        "from rouge_score import rouge_scorer\n",
        "import os\n",
        "\n",
        "# Download the NLTK Punkt tokenizer for sentence splitting\n",
        "nltk.download('punkt')\n",
        "\n",
        "# Set up the device for computation (use GPU if available)\n",
        "device = torch.device(\"cuda\" if torch.cuda.is_available() else \"cpu\")\n",
        "print(f\"Using device: {device}\")\n",
        "\n",
        "import numpy as np"
      ]
    },
    {
      "cell_type": "code",
      "execution_count": null,
      "metadata": {
        "colab": {
          "base_uri": "https://localhost:8080/"
        },
        "id": "od_4mXW9Y4d5",
        "outputId": "0b26eaee-fd04-40ba-8a62-d3513fe3fb59"
      },
      "outputs": [
        {
          "output_type": "stream",
          "name": "stdout",
          "text": [
            "Drive already mounted at /content/drive; to attempt to forcibly remount, call drive.mount(\"/content/drive\", force_remount=True).\n"
          ]
        }
      ],
      "source": [
        "# Import Files from Google Drive to Colab\n",
        "from google.colab import drive\n",
        "drive.mount(\"/content/drive\")"
      ]
    },
    {
      "cell_type": "markdown",
      "metadata": {
        "id": "L6qEsIzaY6Sh"
      },
      "source": [
        "# **3. Load and Prepare the Dataset**\n"
      ]
    },
    {
      "cell_type": "code",
      "execution_count": null,
      "metadata": {
        "id": "_dWkbBJGY71K"
      },
      "outputs": [],
      "source": [
        "from datasets import load_from_disk\n",
        "\n",
        "dataset = load_dataset(\"azzedine/Goud-sum_v2\")\n",
        "\n",
        "dataset"
      ]
    },
    {
      "cell_type": "markdown",
      "metadata": {
        "id": "_kdDhPtWZpQK"
      },
      "source": [
        "# **5. Preprocessing Function**"
      ]
    },
    {
      "cell_type": "code",
      "execution_count": null,
      "metadata": {
        "id": "vlMN7_DuY9mi"
      },
      "outputs": [],
      "source": [
        "\n",
        "encoder_max_length =  256\n",
        "decoder_max_length =  32\n",
        "max_input_length = encoder_max_length\n",
        "max_target_length = decoder_max_length\n",
        "def preprocess_function(examples):\n",
        "    inputs = examples['article']\n",
        "    targets = examples['headline']\n",
        "    model_inputs = tokenizer(inputs, max_length=max_input_length, truncation=True, padding='max_length')\n",
        "    labels = tokenizer(targets, max_length=max_target_length, truncation=True, padding='max_length')\n",
        "\n",
        "    # Adjust labels for BERT2BRT\n",
        "    labels[\"input_ids\"] = [\n",
        "        [(label if label != tokenizer.pad_token_id else -100) for label in label_seq]\n",
        "        for label_seq in labels[\"input_ids\"]\n",
        "        ]\n",
        "\n",
        "\n",
        "    model_inputs['labels'] = labels['input_ids']\n",
        "    return model_inputs"
      ]
    },
    {
      "cell_type": "markdown",
      "metadata": {
        "id": "Q6fg-1AVY_f-"
      },
      "source": [
        "# **6. Load BERT2BERT Model and Tokenizer**"
      ]
    },
    {
      "cell_type": "code",
      "execution_count": null,
      "metadata": {
        "id": "7QjlDa9RZAK7"
      },
      "outputs": [],
      "source": [
        "from transformers import BertModel\n",
        "from transformers import BertTokenizer, EncoderDecoderModel\n",
        "import torch\n",
        "\n",
        "\n",
        "model_name = 'alger-ia/dziribert'\n",
        "\n",
        "\n",
        "\n",
        "# Detect the device\n",
        "device = torch.device('cuda' if torch.cuda.is_available() else 'cpu')\n",
        "\n",
        "\n",
        "\n",
        "tokenizer = BertTokenizer.from_pretrained(model_name)\n",
        "model = EncoderDecoderModel.from_encoder_decoder_pretrained(model_name, model_name)\n",
        "\n",
        "\n",
        "model = model.to(device)\n",
        "# Set special tokens\n",
        "model.config.decoder_start_token_id = tokenizer.cls_token_id\n",
        "model.config.eos_token_id = tokenizer.sep_token_id\n",
        "model.config.pad_token_id = tokenizer.pad_token_id\n",
        "\n",
        "# Configure generation parameters\n",
        "model.config.vocab_size = model.config.decoder.vocab_size\n",
        "model.config.max_length = max_target_length\n",
        "model.config.no_repeat_ngram_size = 3\n",
        "model.config.early_stopping = True\n",
        "model.config.num_beams = 5  # Correctly set as an integer\n",
        "model.config.length_penalty = 2.0"
      ]
    },
    {
      "cell_type": "markdown",
      "metadata": {
        "id": "ODtHy-RnZHuY"
      },
      "source": [
        "# **7. Tokenize the Datasets**"
      ]
    },
    {
      "cell_type": "code",
      "execution_count": null,
      "metadata": {
        "id": "V7YNocvvYpIz"
      },
      "outputs": [],
      "source": [
        "# Apply the preprocessing function to all splits (train, validation, test)\n",
        "tokenized_datasets = dataset.map(\n",
        "    preprocess_function,\n",
        "    batched=True,\n",
        "    remove_columns=['article', 'headline', 'categories'],  # Remove original columns after tokenization\n",
        ")\n",
        "tokenized_datasets"
      ]
    },
    {
      "cell_type": "markdown",
      "metadata": {
        "id": "5vqBt4gNZK9v"
      },
      "source": [
        "# **8. Define Compute Metrics Function**"
      ]
    },
    {
      "cell_type": "code",
      "execution_count": null,
      "metadata": {
        "id": "E9i5VEsXZLYK"
      },
      "outputs": [],
      "source": [
        "import evaluate\n",
        "from rouge_score import rouge_scorer\n",
        "\n",
        "# Initialize ROUGE\n",
        "rouge = evaluate.load('rouge')\n",
        "r_scorer = rouge_scorer.RougeScorer(['rouge1', 'rouge2', 'rougeL'],  tokenizer=tokenizer)\n",
        "\n",
        "\n",
        "def compute_metrics(pred):\n",
        "    labels_ids = pred.label_ids\n",
        "    pred_ids = pred.predictions\n",
        "\n",
        "    pred_str = tokenizer.batch_decode(pred_ids, skip_special_tokens=True)\n",
        "    labels_ids[labels_ids == -100] = tokenizer.pad_token_id\n",
        "    label_str = tokenizer.batch_decode(labels_ids, skip_special_tokens=True)\n",
        "\n",
        "\n",
        "    candidate_summaries = pred_str\n",
        "    reference_summaries = label_str\n",
        "    print(f\"candidate_summaries = {candidate_summaries}\")\n",
        "    print(f\"reference_summaries = {reference_summaries}\")\n",
        "    # Evaluate ROUGE scores\n",
        "\n",
        "    # Store scores\n",
        "    scores = {'rouge1': [], 'rouge2': [], 'rougeL': []}\n",
        "\n",
        "    # Calculate scores for the list of texts\n",
        "    for ref, gen in zip(reference_summaries, candidate_summaries):\n",
        "      score = r_scorer.score(gen, ref)\n",
        "      # Append scores to respective lists\n",
        "      scores['rouge1'].append(score['rouge1'].fmeasure)\n",
        "      scores['rouge2'].append(score['rouge2'].fmeasure)\n",
        "      scores['rougeL'].append(score['rougeL'].fmeasure)\n",
        "\n",
        "    # Calculate mean scores\n",
        "    mean_scores = {metric: np.mean(values) for metric, values in scores.items()}\n",
        "\n",
        "\n",
        "    # Calculate the average length of the reference summaries\n",
        "    reference_lens = [len(label.split()) for label in candidate_summaries]\n",
        "    mean_scores['ref_len'] = np.mean(reference_lens)\n",
        "\n",
        "    # Calculate the average length of the generated summaries\n",
        "    prediction_lens = [len(pred.split()) for pred in reference_summaries]\n",
        "    mean_scores['gen_len'] = np.mean(prediction_lens)\n",
        "    print(f\"scores = {mean_scores}\")\n",
        "    return mean_scores"
      ]
    },
    {
      "cell_type": "code",
      "execution_count": null,
      "metadata": {
        "id": "7vlCppQ2ZOt6"
      },
      "outputs": [],
      "source": [
        "from transformers import Seq2SeqTrainingArguments, Seq2SeqTrainer\n",
        "\n",
        "train_batch_size = 23 # 23\n",
        "val_batch_size = 4 # 2\n",
        "\n",
        "# Configure the training arguments\n",
        "training_args = Seq2SeqTrainingArguments(\n",
        "    output_dir=\"/content/drive/MyDrive/WACL4_COLING_2025/comparaison_with_papers/models/dziriBERT/checkpoints\",    # Output directory\n",
        "    eval_strategy=\"epoch\",             # Evaluate every epoch\n",
        "    save_strategy=\"epoch\",             # Save checkpoint every epoch\n",
        "    learning_rate=2e-5,                # Learning rate\n",
        "    per_device_train_batch_size=train_batch_size,\n",
        "    per_device_eval_batch_size=val_batch_size,\n",
        "    weight_decay=0.01,                 # Weight decay for regularization\n",
        "    gradient_accumulation_steps=8,\n",
        "    num_train_epochs=20, #20\n",
        "    predict_with_generate=True,\n",
        "    logging_dir='/content/drive/MyDrive/WACL4_COLING_2025/comparaison_with_papers/models/dziriBERT/bert2bert_logs',\n",
        "    fp16=torch.cuda.is_available(),\n",
        "    # Adjusting the save limit\n",
        "    save_total_limit=None,              # None Save all checkpoints (no limit)\n",
        "    load_best_model_at_end=True,\n",
        "    metric_for_best_model='eval_rouge1',\n",
        "    greater_is_better=True\n",
        ")"
      ]
    },
    {
      "cell_type": "markdown",
      "metadata": {
        "id": "QRDJP4WAZQrv"
      },
      "source": [
        "# **10. Initialize the Trainer**"
      ]
    },
    {
      "cell_type": "code",
      "execution_count": null,
      "metadata": {
        "id": "NVdDfxqqZSTm"
      },
      "outputs": [],
      "source": [
        "# Initialize the Seq2SeqTrainer\n",
        "trainer = Seq2SeqTrainer(\n",
        "    model=model,                             # The instantiated 🤗 Transformers model to be trained\n",
        "    args=training_args,                      # Training arguments\n",
        "    train_dataset=tokenized_datasets['train'],    # Training dataset ['train'] tokenized_datasets['train'].select(range(10))\n",
        "    eval_dataset=tokenized_datasets['validation'],# Evaluation dataset ['validation'] tokenized_datasets['validation']select(range(4))\n",
        "    tokenizer=tokenizer,                     # Tokenizer\n",
        "    compute_metrics=compute_metrics,         # Function to compute metrics\n",
        ")"
      ]
    },
    {
      "cell_type": "markdown",
      "metadata": {
        "id": "-EzuTuCIZUBg"
      },
      "source": [
        "# **11. Train the Model**"
      ]
    },
    {
      "cell_type": "code",
      "execution_count": null,
      "metadata": {
        "id": "CtsUyP3y6dSw"
      },
      "outputs": [],
      "source": [
        "trainer.train()"
      ]
    },
    {
      "cell_type": "code",
      "source": [
        "# After training is complete\n",
        "best_model_dir = '/content/drive/MyDrive/WACL4_COLING_2025/comparaison_with_papers/models/dziriBERT/best_model'  # Specify your desired directory\n",
        "trainer.save_model(best_model_dir)\n",
        "tokenizer.save_pretrained(best_model_dir)"
      ],
      "metadata": {
        "id": "HAwKADNaRIh7",
        "colab": {
          "base_uri": "https://localhost:8080/"
        },
        "outputId": "28ffc1ca-55c9-4c3f-ff51-cfa7d79dc625"
      },
      "execution_count": null,
      "outputs": [
        {
          "output_type": "stream",
          "name": "stderr",
          "text": [
            "/usr/local/lib/python3.10/dist-packages/transformers/modeling_utils.py:2618: UserWarning: Moving the following attributes in the config to the generation config: {'max_length': 32, 'early_stopping': True, 'num_beams': 5, 'length_penalty': 2.0, 'no_repeat_ngram_size': 3}. You are seeing this warning because you've set generation parameters in the model config, as opposed to in the generation config.\n",
            "  warnings.warn(\n"
          ]
        },
        {
          "output_type": "execute_result",
          "data": {
            "text/plain": [
              "('/content/drive/MyDrive/WACL4_COLING_2025/comparaison_with_papers/models/dziriBERT/best_model/tokenizer_config.json',\n",
              " '/content/drive/MyDrive/WACL4_COLING_2025/comparaison_with_papers/models/dziriBERT/best_model/special_tokens_map.json',\n",
              " '/content/drive/MyDrive/WACL4_COLING_2025/comparaison_with_papers/models/dziriBERT/best_model/vocab.txt',\n",
              " '/content/drive/MyDrive/WACL4_COLING_2025/comparaison_with_papers/models/dziriBERT/best_model/added_tokens.json')"
            ]
          },
          "metadata": {},
          "execution_count": 17
        }
      ]
    },
    {
      "cell_type": "code",
      "source": [
        "best_checkpoint = trainer.state.best_model_checkpoint\n",
        "print(f\"The best model checkpoint is saved at: {best_checkpoint}\")"
      ],
      "metadata": {
        "colab": {
          "base_uri": "https://localhost:8080/"
        },
        "id": "-cbCujAq3tDP",
        "outputId": "87062f74-bb0a-47a6-9500-83d5d72079cb"
      },
      "execution_count": null,
      "outputs": [
        {
          "output_type": "stream",
          "name": "stdout",
          "text": [
            "The best model checkpoint is saved at: /content/drive/MyDrive/WACL4_COLING_2025/comparaison_with_papers/models/dziriBERT/checkpoints/checkpoint-24093\n"
          ]
        }
      ]
    },
    {
      "cell_type": "code",
      "source": [
        "best_checkpoint = \"/content/drive/MyDrive/WACL4_COLING_2025/comparaison_with_papers/models/dziriBERT/checkpoints/checkpoint-25360\"\n",
        "tokenizer = AutoTokenizer.from_pretrained(best_checkpoint)\n",
        "model = AutoModelForSeq2SeqLM.from_pretrained(best_checkpoint)\n",
        "device = torch.device('cuda' if torch.cuda.is_available() else 'cpu')\n",
        "model = model.to(device)"
      ],
      "metadata": {
        "id": "c2eGnHqs3wQm"
      },
      "execution_count": null,
      "outputs": []
    },
    {
      "cell_type": "code",
      "source": [
        "# Generate Summaries Function\n",
        "def generate_summary(example):\n",
        "    # Tokenize the input text\n",
        "    inputs = tokenizer(\n",
        "        example['article'],\n",
        "        max_length=max_input_length,\n",
        "        truncation=True,\n",
        "        padding='max_length',\n",
        "        return_tensors='pt'\n",
        "    )\n",
        "\n",
        "    # Move tensors to the computation device\n",
        "    inputs = {k: v.to(device) for k, v in inputs.items()}\n",
        "\n",
        "    # Generate the summary using the model\n",
        "    outputs = model.generate(\n",
        "        input_ids=inputs['input_ids'],\n",
        "        attention_mask=inputs['attention_mask'],\n",
        "        max_length=max_target_length,\n",
        "        num_beams=5,           # Number of beams for beam search\n",
        "        early_stopping=True    # Stop when at least num_beams sentences are finished\n",
        "    )\n",
        "\n",
        "    # Decode the generated summary\n",
        "    summary = tokenizer.decode(outputs[0], skip_special_tokens=True)\n",
        "    # Add the generated summary to the example with a model-specific flag\n",
        "    example[\"generated_summary_dzbert_BERT2BERT\"] = summary\n",
        "    return example"
      ],
      "metadata": {
        "id": "MfilFm823yuO"
      },
      "execution_count": null,
      "outputs": []
    },
    {
      "cell_type": "code",
      "source": [
        "# Apply the generate_summary function to each example in the test set\n",
        "generate_dataset = dataset['test'].map(generate_summary)"
      ],
      "metadata": {
        "colab": {
          "base_uri": "https://localhost:8080/",
          "height": 49,
          "referenced_widgets": [
            "762502a62208424bbb71907da815cfe6",
            "69c7af2c5bdd447f8ed7fca36938fa55",
            "7df0cbc0243842cb808e4561c79edfce",
            "f251295d06814590b127de1989622507",
            "f0268def3e9d4b3d89825c7c529d408b",
            "b4aafabcdb8a4dde95158601d9b0a0e8",
            "0ebd95d1f9104bdeaca7b4fe5cfafdf0",
            "a031ae7384db4ee1b94ff51c0293a60c",
            "d593241399ed4b8eb77be9d63de755de",
            "8e396ce3b52e426d99ac0e7e00aa1f89",
            "211509f2f484452d809e90c255497002"
          ]
        },
        "id": "8vjVVaCe31l9",
        "outputId": "6f9c1187-5bd0-46a6-faf7-c3f0980096bb"
      },
      "execution_count": null,
      "outputs": [
        {
          "output_type": "display_data",
          "data": {
            "text/plain": [
              "Map:   0%|          | 0/9497 [00:00<?, ? examples/s]"
            ],
            "application/vnd.jupyter.widget-view+json": {
              "version_major": 2,
              "version_minor": 0,
              "model_id": "762502a62208424bbb71907da815cfe6"
            }
          },
          "metadata": {}
        }
      ]
    },
    {
      "cell_type": "code",
      "source": [
        "generate_dataset"
      ],
      "metadata": {
        "id": "GFVkTX3-34uP"
      },
      "execution_count": null,
      "outputs": []
    },
    {
      "cell_type": "code",
      "source": [
        "generate_dataset.save_to_disk('/content/drive/MyDrive/WACL4_COLING_2025/comparaison_with_papers/models/dziriBERT/model_result')\n"
      ],
      "metadata": {
        "colab": {
          "base_uri": "https://localhost:8080/",
          "height": 49,
          "referenced_widgets": [
            "db54f2f6a668476ca08a8e26ccd22029",
            "d19629ad81bb431386e7e653ae09020c",
            "bda01da68aa24c7cbe0ae6e72824c73a",
            "b53a62cc06a14da88de51488d1a0204e",
            "ee41e8bda56445ec9dea44b2848c7df5",
            "13302bcee0d64683aa0b461efe561254",
            "2c4a326ee6b145aeab4b43e8defd4d77",
            "854a37d8ed284c88a373949e163fc35e",
            "cb57883a6e38487cb26b836b9f6b2da5",
            "4b2b3736e2db4f01b649762580cd941f",
            "b9f5e94839fe44b2af5af53f90c5a128"
          ]
        },
        "id": "TE7WOMtZ8Xn2",
        "outputId": "83bed31b-1edb-4eb9-f4ef-6f7fa97d9062"
      },
      "execution_count": null,
      "outputs": [
        {
          "output_type": "display_data",
          "data": {
            "text/plain": [
              "Saving the dataset (0/1 shards):   0%|          | 0/9497 [00:00<?, ? examples/s]"
            ],
            "application/vnd.jupyter.widget-view+json": {
              "version_major": 2,
              "version_minor": 0,
              "model_id": "db54f2f6a668476ca08a8e26ccd22029"
            }
          },
          "metadata": {}
        }
      ]
    },
    {
      "cell_type": "code",
      "source": [],
      "metadata": {
        "id": "hLBoajjY8o21"
      },
      "execution_count": null,
      "outputs": []
    }
  ],
  "metadata": {
    "accelerator": "GPU",
    "colab": {
      "gpuType": "T4",
      "provenance": []
    },
    "kernelspec": {
      "display_name": "Python 3",
      "name": "python3"
    },
    "language_info": {
      "name": "python"
    },
    "widgets": {
      "application/vnd.jupyter.widget-state+json": {
        "762502a62208424bbb71907da815cfe6": {
          "model_module": "@jupyter-widgets/controls",
          "model_name": "HBoxModel",
          "model_module_version": "1.5.0",
          "state": {
            "_dom_classes": [],
            "_model_module": "@jupyter-widgets/controls",
            "_model_module_version": "1.5.0",
            "_model_name": "HBoxModel",
            "_view_count": null,
            "_view_module": "@jupyter-widgets/controls",
            "_view_module_version": "1.5.0",
            "_view_name": "HBoxView",
            "box_style": "",
            "children": [
              "IPY_MODEL_69c7af2c5bdd447f8ed7fca36938fa55",
              "IPY_MODEL_7df0cbc0243842cb808e4561c79edfce",
              "IPY_MODEL_f251295d06814590b127de1989622507"
            ],
            "layout": "IPY_MODEL_f0268def3e9d4b3d89825c7c529d408b"
          }
        },
        "69c7af2c5bdd447f8ed7fca36938fa55": {
          "model_module": "@jupyter-widgets/controls",
          "model_name": "HTMLModel",
          "model_module_version": "1.5.0",
          "state": {
            "_dom_classes": [],
            "_model_module": "@jupyter-widgets/controls",
            "_model_module_version": "1.5.0",
            "_model_name": "HTMLModel",
            "_view_count": null,
            "_view_module": "@jupyter-widgets/controls",
            "_view_module_version": "1.5.0",
            "_view_name": "HTMLView",
            "description": "",
            "description_tooltip": null,
            "layout": "IPY_MODEL_b4aafabcdb8a4dde95158601d9b0a0e8",
            "placeholder": "​",
            "style": "IPY_MODEL_0ebd95d1f9104bdeaca7b4fe5cfafdf0",
            "value": "Map: 100%"
          }
        },
        "7df0cbc0243842cb808e4561c79edfce": {
          "model_module": "@jupyter-widgets/controls",
          "model_name": "FloatProgressModel",
          "model_module_version": "1.5.0",
          "state": {
            "_dom_classes": [],
            "_model_module": "@jupyter-widgets/controls",
            "_model_module_version": "1.5.0",
            "_model_name": "FloatProgressModel",
            "_view_count": null,
            "_view_module": "@jupyter-widgets/controls",
            "_view_module_version": "1.5.0",
            "_view_name": "ProgressView",
            "bar_style": "success",
            "description": "",
            "description_tooltip": null,
            "layout": "IPY_MODEL_a031ae7384db4ee1b94ff51c0293a60c",
            "max": 9497,
            "min": 0,
            "orientation": "horizontal",
            "style": "IPY_MODEL_d593241399ed4b8eb77be9d63de755de",
            "value": 9497
          }
        },
        "f251295d06814590b127de1989622507": {
          "model_module": "@jupyter-widgets/controls",
          "model_name": "HTMLModel",
          "model_module_version": "1.5.0",
          "state": {
            "_dom_classes": [],
            "_model_module": "@jupyter-widgets/controls",
            "_model_module_version": "1.5.0",
            "_model_name": "HTMLModel",
            "_view_count": null,
            "_view_module": "@jupyter-widgets/controls",
            "_view_module_version": "1.5.0",
            "_view_name": "HTMLView",
            "description": "",
            "description_tooltip": null,
            "layout": "IPY_MODEL_8e396ce3b52e426d99ac0e7e00aa1f89",
            "placeholder": "​",
            "style": "IPY_MODEL_211509f2f484452d809e90c255497002",
            "value": " 9497/9497 [57:19&lt;00:00,  2.01 examples/s]"
          }
        },
        "f0268def3e9d4b3d89825c7c529d408b": {
          "model_module": "@jupyter-widgets/base",
          "model_name": "LayoutModel",
          "model_module_version": "1.2.0",
          "state": {
            "_model_module": "@jupyter-widgets/base",
            "_model_module_version": "1.2.0",
            "_model_name": "LayoutModel",
            "_view_count": null,
            "_view_module": "@jupyter-widgets/base",
            "_view_module_version": "1.2.0",
            "_view_name": "LayoutView",
            "align_content": null,
            "align_items": null,
            "align_self": null,
            "border": null,
            "bottom": null,
            "display": null,
            "flex": null,
            "flex_flow": null,
            "grid_area": null,
            "grid_auto_columns": null,
            "grid_auto_flow": null,
            "grid_auto_rows": null,
            "grid_column": null,
            "grid_gap": null,
            "grid_row": null,
            "grid_template_areas": null,
            "grid_template_columns": null,
            "grid_template_rows": null,
            "height": null,
            "justify_content": null,
            "justify_items": null,
            "left": null,
            "margin": null,
            "max_height": null,
            "max_width": null,
            "min_height": null,
            "min_width": null,
            "object_fit": null,
            "object_position": null,
            "order": null,
            "overflow": null,
            "overflow_x": null,
            "overflow_y": null,
            "padding": null,
            "right": null,
            "top": null,
            "visibility": null,
            "width": null
          }
        },
        "b4aafabcdb8a4dde95158601d9b0a0e8": {
          "model_module": "@jupyter-widgets/base",
          "model_name": "LayoutModel",
          "model_module_version": "1.2.0",
          "state": {
            "_model_module": "@jupyter-widgets/base",
            "_model_module_version": "1.2.0",
            "_model_name": "LayoutModel",
            "_view_count": null,
            "_view_module": "@jupyter-widgets/base",
            "_view_module_version": "1.2.0",
            "_view_name": "LayoutView",
            "align_content": null,
            "align_items": null,
            "align_self": null,
            "border": null,
            "bottom": null,
            "display": null,
            "flex": null,
            "flex_flow": null,
            "grid_area": null,
            "grid_auto_columns": null,
            "grid_auto_flow": null,
            "grid_auto_rows": null,
            "grid_column": null,
            "grid_gap": null,
            "grid_row": null,
            "grid_template_areas": null,
            "grid_template_columns": null,
            "grid_template_rows": null,
            "height": null,
            "justify_content": null,
            "justify_items": null,
            "left": null,
            "margin": null,
            "max_height": null,
            "max_width": null,
            "min_height": null,
            "min_width": null,
            "object_fit": null,
            "object_position": null,
            "order": null,
            "overflow": null,
            "overflow_x": null,
            "overflow_y": null,
            "padding": null,
            "right": null,
            "top": null,
            "visibility": null,
            "width": null
          }
        },
        "0ebd95d1f9104bdeaca7b4fe5cfafdf0": {
          "model_module": "@jupyter-widgets/controls",
          "model_name": "DescriptionStyleModel",
          "model_module_version": "1.5.0",
          "state": {
            "_model_module": "@jupyter-widgets/controls",
            "_model_module_version": "1.5.0",
            "_model_name": "DescriptionStyleModel",
            "_view_count": null,
            "_view_module": "@jupyter-widgets/base",
            "_view_module_version": "1.2.0",
            "_view_name": "StyleView",
            "description_width": ""
          }
        },
        "a031ae7384db4ee1b94ff51c0293a60c": {
          "model_module": "@jupyter-widgets/base",
          "model_name": "LayoutModel",
          "model_module_version": "1.2.0",
          "state": {
            "_model_module": "@jupyter-widgets/base",
            "_model_module_version": "1.2.0",
            "_model_name": "LayoutModel",
            "_view_count": null,
            "_view_module": "@jupyter-widgets/base",
            "_view_module_version": "1.2.0",
            "_view_name": "LayoutView",
            "align_content": null,
            "align_items": null,
            "align_self": null,
            "border": null,
            "bottom": null,
            "display": null,
            "flex": null,
            "flex_flow": null,
            "grid_area": null,
            "grid_auto_columns": null,
            "grid_auto_flow": null,
            "grid_auto_rows": null,
            "grid_column": null,
            "grid_gap": null,
            "grid_row": null,
            "grid_template_areas": null,
            "grid_template_columns": null,
            "grid_template_rows": null,
            "height": null,
            "justify_content": null,
            "justify_items": null,
            "left": null,
            "margin": null,
            "max_height": null,
            "max_width": null,
            "min_height": null,
            "min_width": null,
            "object_fit": null,
            "object_position": null,
            "order": null,
            "overflow": null,
            "overflow_x": null,
            "overflow_y": null,
            "padding": null,
            "right": null,
            "top": null,
            "visibility": null,
            "width": null
          }
        },
        "d593241399ed4b8eb77be9d63de755de": {
          "model_module": "@jupyter-widgets/controls",
          "model_name": "ProgressStyleModel",
          "model_module_version": "1.5.0",
          "state": {
            "_model_module": "@jupyter-widgets/controls",
            "_model_module_version": "1.5.0",
            "_model_name": "ProgressStyleModel",
            "_view_count": null,
            "_view_module": "@jupyter-widgets/base",
            "_view_module_version": "1.2.0",
            "_view_name": "StyleView",
            "bar_color": null,
            "description_width": ""
          }
        },
        "8e396ce3b52e426d99ac0e7e00aa1f89": {
          "model_module": "@jupyter-widgets/base",
          "model_name": "LayoutModel",
          "model_module_version": "1.2.0",
          "state": {
            "_model_module": "@jupyter-widgets/base",
            "_model_module_version": "1.2.0",
            "_model_name": "LayoutModel",
            "_view_count": null,
            "_view_module": "@jupyter-widgets/base",
            "_view_module_version": "1.2.0",
            "_view_name": "LayoutView",
            "align_content": null,
            "align_items": null,
            "align_self": null,
            "border": null,
            "bottom": null,
            "display": null,
            "flex": null,
            "flex_flow": null,
            "grid_area": null,
            "grid_auto_columns": null,
            "grid_auto_flow": null,
            "grid_auto_rows": null,
            "grid_column": null,
            "grid_gap": null,
            "grid_row": null,
            "grid_template_areas": null,
            "grid_template_columns": null,
            "grid_template_rows": null,
            "height": null,
            "justify_content": null,
            "justify_items": null,
            "left": null,
            "margin": null,
            "max_height": null,
            "max_width": null,
            "min_height": null,
            "min_width": null,
            "object_fit": null,
            "object_position": null,
            "order": null,
            "overflow": null,
            "overflow_x": null,
            "overflow_y": null,
            "padding": null,
            "right": null,
            "top": null,
            "visibility": null,
            "width": null
          }
        },
        "211509f2f484452d809e90c255497002": {
          "model_module": "@jupyter-widgets/controls",
          "model_name": "DescriptionStyleModel",
          "model_module_version": "1.5.0",
          "state": {
            "_model_module": "@jupyter-widgets/controls",
            "_model_module_version": "1.5.0",
            "_model_name": "DescriptionStyleModel",
            "_view_count": null,
            "_view_module": "@jupyter-widgets/base",
            "_view_module_version": "1.2.0",
            "_view_name": "StyleView",
            "description_width": ""
          }
        },
        "db54f2f6a668476ca08a8e26ccd22029": {
          "model_module": "@jupyter-widgets/controls",
          "model_name": "HBoxModel",
          "model_module_version": "1.5.0",
          "state": {
            "_dom_classes": [],
            "_model_module": "@jupyter-widgets/controls",
            "_model_module_version": "1.5.0",
            "_model_name": "HBoxModel",
            "_view_count": null,
            "_view_module": "@jupyter-widgets/controls",
            "_view_module_version": "1.5.0",
            "_view_name": "HBoxView",
            "box_style": "",
            "children": [
              "IPY_MODEL_d19629ad81bb431386e7e653ae09020c",
              "IPY_MODEL_bda01da68aa24c7cbe0ae6e72824c73a",
              "IPY_MODEL_b53a62cc06a14da88de51488d1a0204e"
            ],
            "layout": "IPY_MODEL_ee41e8bda56445ec9dea44b2848c7df5"
          }
        },
        "d19629ad81bb431386e7e653ae09020c": {
          "model_module": "@jupyter-widgets/controls",
          "model_name": "HTMLModel",
          "model_module_version": "1.5.0",
          "state": {
            "_dom_classes": [],
            "_model_module": "@jupyter-widgets/controls",
            "_model_module_version": "1.5.0",
            "_model_name": "HTMLModel",
            "_view_count": null,
            "_view_module": "@jupyter-widgets/controls",
            "_view_module_version": "1.5.0",
            "_view_name": "HTMLView",
            "description": "",
            "description_tooltip": null,
            "layout": "IPY_MODEL_13302bcee0d64683aa0b461efe561254",
            "placeholder": "​",
            "style": "IPY_MODEL_2c4a326ee6b145aeab4b43e8defd4d77",
            "value": "Saving the dataset (1/1 shards): 100%"
          }
        },
        "bda01da68aa24c7cbe0ae6e72824c73a": {
          "model_module": "@jupyter-widgets/controls",
          "model_name": "FloatProgressModel",
          "model_module_version": "1.5.0",
          "state": {
            "_dom_classes": [],
            "_model_module": "@jupyter-widgets/controls",
            "_model_module_version": "1.5.0",
            "_model_name": "FloatProgressModel",
            "_view_count": null,
            "_view_module": "@jupyter-widgets/controls",
            "_view_module_version": "1.5.0",
            "_view_name": "ProgressView",
            "bar_style": "success",
            "description": "",
            "description_tooltip": null,
            "layout": "IPY_MODEL_854a37d8ed284c88a373949e163fc35e",
            "max": 9497,
            "min": 0,
            "orientation": "horizontal",
            "style": "IPY_MODEL_cb57883a6e38487cb26b836b9f6b2da5",
            "value": 9497
          }
        },
        "b53a62cc06a14da88de51488d1a0204e": {
          "model_module": "@jupyter-widgets/controls",
          "model_name": "HTMLModel",
          "model_module_version": "1.5.0",
          "state": {
            "_dom_classes": [],
            "_model_module": "@jupyter-widgets/controls",
            "_model_module_version": "1.5.0",
            "_model_name": "HTMLModel",
            "_view_count": null,
            "_view_module": "@jupyter-widgets/controls",
            "_view_module_version": "1.5.0",
            "_view_name": "HTMLView",
            "description": "",
            "description_tooltip": null,
            "layout": "IPY_MODEL_4b2b3736e2db4f01b649762580cd941f",
            "placeholder": "​",
            "style": "IPY_MODEL_b9f5e94839fe44b2af5af53f90c5a128",
            "value": " 9497/9497 [00:00&lt;00:00, 56587.45 examples/s]"
          }
        },
        "ee41e8bda56445ec9dea44b2848c7df5": {
          "model_module": "@jupyter-widgets/base",
          "model_name": "LayoutModel",
          "model_module_version": "1.2.0",
          "state": {
            "_model_module": "@jupyter-widgets/base",
            "_model_module_version": "1.2.0",
            "_model_name": "LayoutModel",
            "_view_count": null,
            "_view_module": "@jupyter-widgets/base",
            "_view_module_version": "1.2.0",
            "_view_name": "LayoutView",
            "align_content": null,
            "align_items": null,
            "align_self": null,
            "border": null,
            "bottom": null,
            "display": null,
            "flex": null,
            "flex_flow": null,
            "grid_area": null,
            "grid_auto_columns": null,
            "grid_auto_flow": null,
            "grid_auto_rows": null,
            "grid_column": null,
            "grid_gap": null,
            "grid_row": null,
            "grid_template_areas": null,
            "grid_template_columns": null,
            "grid_template_rows": null,
            "height": null,
            "justify_content": null,
            "justify_items": null,
            "left": null,
            "margin": null,
            "max_height": null,
            "max_width": null,
            "min_height": null,
            "min_width": null,
            "object_fit": null,
            "object_position": null,
            "order": null,
            "overflow": null,
            "overflow_x": null,
            "overflow_y": null,
            "padding": null,
            "right": null,
            "top": null,
            "visibility": null,
            "width": null
          }
        },
        "13302bcee0d64683aa0b461efe561254": {
          "model_module": "@jupyter-widgets/base",
          "model_name": "LayoutModel",
          "model_module_version": "1.2.0",
          "state": {
            "_model_module": "@jupyter-widgets/base",
            "_model_module_version": "1.2.0",
            "_model_name": "LayoutModel",
            "_view_count": null,
            "_view_module": "@jupyter-widgets/base",
            "_view_module_version": "1.2.0",
            "_view_name": "LayoutView",
            "align_content": null,
            "align_items": null,
            "align_self": null,
            "border": null,
            "bottom": null,
            "display": null,
            "flex": null,
            "flex_flow": null,
            "grid_area": null,
            "grid_auto_columns": null,
            "grid_auto_flow": null,
            "grid_auto_rows": null,
            "grid_column": null,
            "grid_gap": null,
            "grid_row": null,
            "grid_template_areas": null,
            "grid_template_columns": null,
            "grid_template_rows": null,
            "height": null,
            "justify_content": null,
            "justify_items": null,
            "left": null,
            "margin": null,
            "max_height": null,
            "max_width": null,
            "min_height": null,
            "min_width": null,
            "object_fit": null,
            "object_position": null,
            "order": null,
            "overflow": null,
            "overflow_x": null,
            "overflow_y": null,
            "padding": null,
            "right": null,
            "top": null,
            "visibility": null,
            "width": null
          }
        },
        "2c4a326ee6b145aeab4b43e8defd4d77": {
          "model_module": "@jupyter-widgets/controls",
          "model_name": "DescriptionStyleModel",
          "model_module_version": "1.5.0",
          "state": {
            "_model_module": "@jupyter-widgets/controls",
            "_model_module_version": "1.5.0",
            "_model_name": "DescriptionStyleModel",
            "_view_count": null,
            "_view_module": "@jupyter-widgets/base",
            "_view_module_version": "1.2.0",
            "_view_name": "StyleView",
            "description_width": ""
          }
        },
        "854a37d8ed284c88a373949e163fc35e": {
          "model_module": "@jupyter-widgets/base",
          "model_name": "LayoutModel",
          "model_module_version": "1.2.0",
          "state": {
            "_model_module": "@jupyter-widgets/base",
            "_model_module_version": "1.2.0",
            "_model_name": "LayoutModel",
            "_view_count": null,
            "_view_module": "@jupyter-widgets/base",
            "_view_module_version": "1.2.0",
            "_view_name": "LayoutView",
            "align_content": null,
            "align_items": null,
            "align_self": null,
            "border": null,
            "bottom": null,
            "display": null,
            "flex": null,
            "flex_flow": null,
            "grid_area": null,
            "grid_auto_columns": null,
            "grid_auto_flow": null,
            "grid_auto_rows": null,
            "grid_column": null,
            "grid_gap": null,
            "grid_row": null,
            "grid_template_areas": null,
            "grid_template_columns": null,
            "grid_template_rows": null,
            "height": null,
            "justify_content": null,
            "justify_items": null,
            "left": null,
            "margin": null,
            "max_height": null,
            "max_width": null,
            "min_height": null,
            "min_width": null,
            "object_fit": null,
            "object_position": null,
            "order": null,
            "overflow": null,
            "overflow_x": null,
            "overflow_y": null,
            "padding": null,
            "right": null,
            "top": null,
            "visibility": null,
            "width": null
          }
        },
        "cb57883a6e38487cb26b836b9f6b2da5": {
          "model_module": "@jupyter-widgets/controls",
          "model_name": "ProgressStyleModel",
          "model_module_version": "1.5.0",
          "state": {
            "_model_module": "@jupyter-widgets/controls",
            "_model_module_version": "1.5.0",
            "_model_name": "ProgressStyleModel",
            "_view_count": null,
            "_view_module": "@jupyter-widgets/base",
            "_view_module_version": "1.2.0",
            "_view_name": "StyleView",
            "bar_color": null,
            "description_width": ""
          }
        },
        "4b2b3736e2db4f01b649762580cd941f": {
          "model_module": "@jupyter-widgets/base",
          "model_name": "LayoutModel",
          "model_module_version": "1.2.0",
          "state": {
            "_model_module": "@jupyter-widgets/base",
            "_model_module_version": "1.2.0",
            "_model_name": "LayoutModel",
            "_view_count": null,
            "_view_module": "@jupyter-widgets/base",
            "_view_module_version": "1.2.0",
            "_view_name": "LayoutView",
            "align_content": null,
            "align_items": null,
            "align_self": null,
            "border": null,
            "bottom": null,
            "display": null,
            "flex": null,
            "flex_flow": null,
            "grid_area": null,
            "grid_auto_columns": null,
            "grid_auto_flow": null,
            "grid_auto_rows": null,
            "grid_column": null,
            "grid_gap": null,
            "grid_row": null,
            "grid_template_areas": null,
            "grid_template_columns": null,
            "grid_template_rows": null,
            "height": null,
            "justify_content": null,
            "justify_items": null,
            "left": null,
            "margin": null,
            "max_height": null,
            "max_width": null,
            "min_height": null,
            "min_width": null,
            "object_fit": null,
            "object_position": null,
            "order": null,
            "overflow": null,
            "overflow_x": null,
            "overflow_y": null,
            "padding": null,
            "right": null,
            "top": null,
            "visibility": null,
            "width": null
          }
        },
        "b9f5e94839fe44b2af5af53f90c5a128": {
          "model_module": "@jupyter-widgets/controls",
          "model_name": "DescriptionStyleModel",
          "model_module_version": "1.5.0",
          "state": {
            "_model_module": "@jupyter-widgets/controls",
            "_model_module_version": "1.5.0",
            "_model_name": "DescriptionStyleModel",
            "_view_count": null,
            "_view_module": "@jupyter-widgets/base",
            "_view_module_version": "1.2.0",
            "_view_name": "StyleView",
            "description_width": ""
          }
        }
      }
    }
  },
  "nbformat": 4,
  "nbformat_minor": 0
}